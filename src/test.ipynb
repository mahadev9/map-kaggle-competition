{
 "cells": [
  {
   "cell_type": "code",
   "execution_count": 1,
   "id": "51fd38d2",
   "metadata": {
    "execution": {
     "iopub.execute_input": "2025-09-17T01:23:08.597471Z",
     "iopub.status.busy": "2025-09-17T01:23:08.597200Z",
     "iopub.status.idle": "2025-09-17T01:23:32.315868Z",
     "shell.execute_reply": "2025-09-17T01:23:32.315084Z"
    },
    "papermill": {
     "duration": 23.72649,
     "end_time": "2025-09-17T01:23:32.317849",
     "exception": false,
     "start_time": "2025-09-17T01:23:08.591359",
     "status": "completed"
    },
    "tags": []
   },
   "outputs": [
    {
     "name": "stdout",
     "output_type": "stream",
     "text": [
      "Processing /kaggle/input/map-utilities/transformers-4.55.3-py3-none-any.whl\r\n",
      "Installing collected packages: transformers\r\n",
      "  Attempting uninstall: transformers\r\n",
      "    Found existing installation: transformers 4.52.4\r\n",
      "    Uninstalling transformers-4.52.4:\r\n",
      "      Successfully uninstalled transformers-4.52.4\r\n",
      "Successfully installed transformers-4.55.3\r\n",
      "Processing /kaggle/input/map-utilities/bitsandbytes-0.47.0-py3-none-manylinux_2_24_x86_64.whl\r\n",
      "Installing collected packages: bitsandbytes\r\n",
      "Successfully installed bitsandbytes-0.47.0\r\n",
      "Processing /kaggle/input/map-utilities/peft-0.17.1-py3-none-any.whl\r\n",
      "Installing collected packages: peft\r\n",
      "  Attempting uninstall: peft\r\n",
      "    Found existing installation: peft 0.15.2\r\n",
      "    Uninstalling peft-0.15.2:\r\n",
      "      Successfully uninstalled peft-0.15.2\r\n",
      "Successfully installed peft-0.17.1\r\n",
      "Processing /kaggle/input/map-utilities/datasets-4.0.0-py3-none-any.whl\r\n",
      "Installing collected packages: datasets\r\n",
      "  Attempting uninstall: datasets\r\n",
      "    Found existing installation: datasets 3.6.0\r\n",
      "    Uninstalling datasets-3.6.0:\r\n",
      "      Successfully uninstalled datasets-3.6.0\r\n",
      "Successfully installed datasets-4.0.0\r\n",
      "Processing /kaggle/input/map-utilities/huggingface_hub-0.34.4-py3-none-any.whl\r\n",
      "Installing collected packages: huggingface-hub\r\n",
      "  Attempting uninstall: huggingface-hub\r\n",
      "    Found existing installation: huggingface-hub 0.33.1\r\n",
      "    Uninstalling huggingface-hub-0.33.1:\r\n",
      "      Successfully uninstalled huggingface-hub-0.33.1\r\n",
      "Successfully installed huggingface-hub-0.34.4\r\n",
      "Processing /kaggle/input/map-utilities/accelerate-1.10.0-py3-none-any.whl\r\n",
      "Installing collected packages: accelerate\r\n",
      "  Attempting uninstall: accelerate\r\n",
      "    Found existing installation: accelerate 1.8.1\r\n",
      "    Uninstalling accelerate-1.8.1:\r\n",
      "      Successfully uninstalled accelerate-1.8.1\r\n",
      "Successfully installed accelerate-1.10.0\r\n"
     ]
    }
   ],
   "source": [
    "!pip install --no-deps /kaggle/input/map-utilities/transformers-4.55.3-py3-none-any.whl\n",
    "!pip install --no-deps /kaggle/input/map-utilities/bitsandbytes-0.47.0-py3-none-manylinux_2_24_x86_64.whl\n",
    "!pip install --no-deps /kaggle/input/map-utilities/peft-0.17.1-py3-none-any.whl\n",
    "!pip install --no-deps /kaggle/input/map-utilities/datasets-4.0.0-py3-none-any.whl\n",
    "!pip install --no-deps /kaggle/input/map-utilities/huggingface_hub-0.34.4-py3-none-any.whl\n",
    "!pip install --no-deps /kaggle/input/map-utilities/accelerate-1.10.0-py3-none-any.whl"
   ]
  },
  {
   "cell_type": "code",
   "execution_count": 2,
   "id": "0735c9a7",
   "metadata": {
    "execution": {
     "iopub.execute_input": "2025-09-17T01:23:32.330603Z",
     "iopub.status.busy": "2025-09-17T01:23:32.330322Z",
     "iopub.status.idle": "2025-09-17T01:23:32.334608Z",
     "shell.execute_reply": "2025-09-17T01:23:32.334105Z"
    },
    "papermill": {
     "duration": 0.011831,
     "end_time": "2025-09-17T01:23:32.335691",
     "exception": false,
     "start_time": "2025-09-17T01:23:32.323860",
     "status": "completed"
    },
    "tags": []
   },
   "outputs": [],
   "source": [
    "import os\n",
    "import sys\n",
    "\n",
    "os.environ[\"CUDA_VISIBLE_DEVICES\"] = \"0,1\"\n",
    "\n",
    "ROOT_PATH = os.getcwd()\n",
    "if \"/kaggle\" in ROOT_PATH:\n",
    "    ROOT_PATH = \"/kaggle/input\"\n",
    "    sys.path.append(os.path.join(ROOT_PATH, \"map-utilities\"))"
   ]
  },
  {
   "cell_type": "code",
   "execution_count": 3,
   "id": "07eccee2",
   "metadata": {
    "execution": {
     "iopub.execute_input": "2025-09-17T01:23:32.347168Z",
     "iopub.status.busy": "2025-09-17T01:23:32.346954Z",
     "iopub.status.idle": "2025-09-17T01:24:00.211458Z",
     "shell.execute_reply": "2025-09-17T01:24:00.210656Z"
    },
    "papermill": {
     "duration": 27.871835,
     "end_time": "2025-09-17T01:24:00.212981",
     "exception": false,
     "start_time": "2025-09-17T01:23:32.341146",
     "status": "completed"
    },
    "tags": []
   },
   "outputs": [
    {
     "name": "stderr",
     "output_type": "stream",
     "text": [
      "2025-09-17 01:23:48.368954: E external/local_xla/xla/stream_executor/cuda/cuda_fft.cc:477] Unable to register cuFFT factory: Attempting to register factory for plugin cuFFT when one has already been registered\n",
      "WARNING: All log messages before absl::InitializeLog() is called are written to STDERR\n",
      "E0000 00:00:1758072228.563136      19 cuda_dnn.cc:8310] Unable to register cuDNN factory: Attempting to register factory for plugin cuDNN when one has already been registered\n",
      "E0000 00:00:1758072228.616731      19 cuda_blas.cc:1418] Unable to register cuBLAS factory: Attempting to register factory for plugin cuBLAS when one has already been registered\n"
     ]
    }
   ],
   "source": [
    "import pandas as pd\n",
    "import numpy as np\n",
    "import joblib\n",
    "import matplotlib.pyplot as plt\n",
    "\n",
    "import torch\n",
    "from datasets import Dataset\n",
    "from peft import PeftModel\n",
    "from transformers import BitsAndBytesConfig\n",
    "\n",
    "from utils import (\n",
    "    stringify_input,\n",
    "    get_model_name,\n",
    "    get_sequence_classifier,\n",
    "    get_tokenizer,\n",
    "    get_training_arguments,\n",
    "    get_trainer,\n",
    ")"
   ]
  },
  {
   "cell_type": "code",
   "execution_count": 4,
   "id": "12d5258b",
   "metadata": {
    "execution": {
     "iopub.execute_input": "2025-09-17T01:24:00.225096Z",
     "iopub.status.busy": "2025-09-17T01:24:00.224589Z",
     "iopub.status.idle": "2025-09-17T01:24:00.234321Z",
     "shell.execute_reply": "2025-09-17T01:24:00.233553Z"
    },
    "papermill": {
     "duration": 0.016811,
     "end_time": "2025-09-17T01:24:00.235499",
     "exception": false,
     "start_time": "2025-09-17T01:24:00.218688",
     "status": "completed"
    },
    "tags": []
   },
   "outputs": [
    {
     "name": "stderr",
     "output_type": "stream",
     "text": [
      "/usr/local/lib/python3.11/dist-packages/sklearn/base.py:318: UserWarning: Trying to unpickle estimator LabelEncoder from version 1.7.1 when using version 1.2.2. This might lead to breaking code or invalid results. Use at your own risk. For more info please refer to:\n",
      "https://scikit-learn.org/stable/model_persistence.html#security-maintainability-limitations\n",
      "  warnings.warn(\n"
     ]
    }
   ],
   "source": [
    "le = joblib.load(os.path.join(ROOT_PATH, \"map-utilities\", \"label_encoder.joblib\"))\n",
    "n_classes = len(le.classes_)"
   ]
  },
  {
   "cell_type": "code",
   "execution_count": 5,
   "id": "b7bff383",
   "metadata": {
    "execution": {
     "iopub.execute_input": "2025-09-17T01:24:00.246980Z",
     "iopub.status.busy": "2025-09-17T01:24:00.246765Z",
     "iopub.status.idle": "2025-09-17T01:24:00.250792Z",
     "shell.execute_reply": "2025-09-17T01:24:00.250267Z"
    },
    "papermill": {
     "duration": 0.011076,
     "end_time": "2025-09-17T01:24:00.251797",
     "exception": false,
     "start_time": "2025-09-17T01:24:00.240721",
     "status": "completed"
    },
    "tags": []
   },
   "outputs": [],
   "source": [
    "# BASE_MODEL = \"modernbert-large/transformers/default/10\"\n",
    "# BASE_MODEL = \"qwen3-1.7b/transformers/default/1\"\n",
    "BASE_MODEL = \"ettin-encoder-1b/transformers/default/4\"\n",
    "# BASE_MODEL = \"qwen-3/transformers/14b/1\"\n",
    "# BASE_MODEL = \"gemma-2/transformers/gemma-2-9b-it/2\"\n",
    "# BASE_MODEL = \"deepseek-r1-0528/transformers/deepseek-r1-0528-qwen3-8b/1\"\n",
    "# BASE_MODEL = \"deepseek-math/pytorch/deepseek-math-7b-instruct/1\"\n",
    "# BASE_MODEL = \"qwen-3-embedding/transformers/4b/1\"\n",
    "# BASE_MODEL = \"qwen-3-embedding/transformers/8b/1\"\n",
    "# BASE_MODEL = \"nvidia-acereason-nemotron-1.1-7b/transformers/default/1\"\n",
    "# BASE_MODEL = \"llama-3.1/transformers/8b-instruct/2\"\n",
    "\n",
    "MODEL_NAME = get_model_name(\"/kaggle\" in ROOT_PATH, ROOT_PATH, BASE_MODEL)\n",
    "ADAPTER_PATH = get_model_name(\"/kaggle\" in ROOT_PATH, ROOT_PATH, \"gemma2-9b-it-qlora-4bit/transformers/default/2\")\n",
    "USE_LORA = False\n",
    "USE_QLORA = False\n",
    "MAX_LEN = 256\n",
    "\n",
    "TRAIN_PATH = os.path.join(ROOT_PATH, \"map-charting-student-math-misunderstandings\", \"train.csv\")\n",
    "TEST_PATH = os.path.join(ROOT_PATH, \"map-charting-student-math-misunderstandings\", \"test.csv\")"
   ]
  },
  {
   "cell_type": "code",
   "execution_count": 6,
   "id": "6957f240",
   "metadata": {
    "execution": {
     "iopub.execute_input": "2025-09-17T01:24:00.263566Z",
     "iopub.status.busy": "2025-09-17T01:24:00.263333Z",
     "iopub.status.idle": "2025-09-17T01:24:00.266879Z",
     "shell.execute_reply": "2025-09-17T01:24:00.266375Z"
    },
    "papermill": {
     "duration": 0.010219,
     "end_time": "2025-09-17T01:24:00.267898",
     "exception": false,
     "start_time": "2025-09-17T01:24:00.257679",
     "status": "completed"
    },
    "tags": []
   },
   "outputs": [],
   "source": [
    "qlora_config = {\n",
    "    \"torch_dtype\": torch.float16,\n",
    "    # \"device_map\": \"auto\"\n",
    "}\n",
    "if USE_QLORA:\n",
    "    bnb_config = BitsAndBytesConfig(\n",
    "        load_in_4bit=True,\n",
    "        bnb_4bit_quant_type=\"nf4\",\n",
    "        bnb_4bit_compute_dtype=torch.float16,\n",
    "        bnb_4bit_use_double_quant=True,\n",
    "        bnb_4bit_quant_storage=torch.float16,\n",
    "    )\n",
    "    qlora_config[\"quantization_config\"] = bnb_config"
   ]
  },
  {
   "cell_type": "code",
   "execution_count": 7,
   "id": "51882cf6",
   "metadata": {
    "execution": {
     "iopub.execute_input": "2025-09-17T01:24:00.278957Z",
     "iopub.status.busy": "2025-09-17T01:24:00.278761Z",
     "iopub.status.idle": "2025-09-17T01:24:09.743100Z",
     "shell.execute_reply": "2025-09-17T01:24:09.741375Z"
    },
    "papermill": {
     "duration": 9.471929,
     "end_time": "2025-09-17T01:24:09.745021",
     "exception": false,
     "start_time": "2025-09-17T01:24:00.273092",
     "status": "completed"
    },
    "tags": []
   },
   "outputs": [],
   "source": [
    "seq_model = get_sequence_classifier(MODEL_NAME, n_classes, qlora_config)\n",
    "tokenizer = get_tokenizer(MODEL_NAME)\n",
    "\n",
    "if (\n",
    "    \"gemma\" in MODEL_NAME.lower()\n",
    "    or \"qwen\" in MODEL_NAME.lower()\n",
    "    or \"deepseek-math\" in MODEL_NAME.lower()\n",
    "    or \"llama-3.1\" in MODEL_NAME.lower()\n",
    "):\n",
    "    if tokenizer.pad_token is None:\n",
    "        tokenizer.pad_token = tokenizer.eos_token\n",
    "        tokenizer.pad_token_id = tokenizer.eos_token_id\n",
    "    seq_model.config.pad_token_id = tokenizer.pad_token_id\n",
    "\n",
    "if USE_LORA:\n",
    "    seq_model = PeftModel.from_pretrained(seq_model, ADAPTER_PATH)"
   ]
  },
  {
   "cell_type": "code",
   "execution_count": 8,
   "id": "4b31a43a",
   "metadata": {
    "execution": {
     "iopub.execute_input": "2025-09-17T01:24:09.763824Z",
     "iopub.status.busy": "2025-09-17T01:24:09.763571Z",
     "iopub.status.idle": "2025-09-17T01:24:09.767228Z",
     "shell.execute_reply": "2025-09-17T01:24:09.766495Z"
    },
    "papermill": {
     "duration": 0.016049,
     "end_time": "2025-09-17T01:24:09.769055",
     "exception": false,
     "start_time": "2025-09-17T01:24:09.753006",
     "status": "completed"
    },
    "tags": []
   },
   "outputs": [],
   "source": [
    "def tokenize_function(examples):\n",
    "    return tokenizer(examples[\"stringified_input\"])"
   ]
  },
  {
   "cell_type": "code",
   "execution_count": 9,
   "id": "4ff5ad9a",
   "metadata": {
    "execution": {
     "iopub.execute_input": "2025-09-17T01:24:09.780756Z",
     "iopub.status.busy": "2025-09-17T01:24:09.780326Z",
     "iopub.status.idle": "2025-09-17T01:24:09.993761Z",
     "shell.execute_reply": "2025-09-17T01:24:09.992866Z"
    },
    "papermill": {
     "duration": 0.220609,
     "end_time": "2025-09-17T01:24:09.995254",
     "exception": false,
     "start_time": "2025-09-17T01:24:09.774645",
     "status": "completed"
    },
    "tags": []
   },
   "outputs": [],
   "source": [
    "train_df = pd.read_csv(TRAIN_PATH)\n",
    "test_df = pd.read_csv(TEST_PATH)"
   ]
  },
  {
   "cell_type": "code",
   "execution_count": 10,
   "id": "187e15c8",
   "metadata": {
    "execution": {
     "iopub.execute_input": "2025-09-17T01:24:10.013535Z",
     "iopub.status.busy": "2025-09-17T01:24:10.013271Z",
     "iopub.status.idle": "2025-09-17T01:24:10.017479Z",
     "shell.execute_reply": "2025-09-17T01:24:10.016655Z"
    },
    "papermill": {
     "duration": 0.016402,
     "end_time": "2025-09-17T01:24:10.018908",
     "exception": false,
     "start_time": "2025-09-17T01:24:10.002506",
     "status": "completed"
    },
    "tags": []
   },
   "outputs": [
    {
     "name": "stdout",
     "output_type": "stream",
     "text": [
      "Training Shape: (36696, 7)\n",
      "Testing Shape: (3, 5)\n"
     ]
    }
   ],
   "source": [
    "print(\"Training Shape:\", train_df.shape)\n",
    "print(\"Testing Shape:\", test_df.shape)"
   ]
  },
  {
   "cell_type": "code",
   "execution_count": 11,
   "id": "1b83a8bf",
   "metadata": {
    "execution": {
     "iopub.execute_input": "2025-09-17T01:24:10.031530Z",
     "iopub.status.busy": "2025-09-17T01:24:10.031066Z",
     "iopub.status.idle": "2025-09-17T01:24:10.094902Z",
     "shell.execute_reply": "2025-09-17T01:24:10.094122Z"
    },
    "papermill": {
     "duration": 0.070778,
     "end_time": "2025-09-17T01:24:10.096066",
     "exception": false,
     "start_time": "2025-09-17T01:24:10.025288",
     "status": "completed"
    },
    "tags": []
   },
   "outputs": [
    {
     "name": "stderr",
     "output_type": "stream",
     "text": [
      "/tmp/ipykernel_19/1307861462.py:10: FutureWarning: Downcasting object dtype arrays on .fillna, .ffill, .bfill is deprecated and will change in a future version. Call result.infer_objects(copy=False) instead. To opt-in to the future behavior, set `pd.set_option('future.no_silent_downcasting', True)`\n",
      "  train_df.is_mc_answer_correct = train_df.is_mc_answer_correct.fillna(False)\n",
      "/tmp/ipykernel_19/1307861462.py:13: FutureWarning: Downcasting object dtype arrays on .fillna, .ffill, .bfill is deprecated and will change in a future version. Call result.infer_objects(copy=False) instead. To opt-in to the future behavior, set `pd.set_option('future.no_silent_downcasting', True)`\n",
      "  test_df.is_mc_answer_correct = test_df.is_mc_answer_correct.fillna(False)\n"
     ]
    }
   ],
   "source": [
    "idx = train_df.Category.str.contains(\"True\", case=False)\n",
    "tmp = train_df.loc[idx].copy()\n",
    "tmp[\"c\"] = tmp.groupby([\"QuestionId\", \"MC_Answer\"]).MC_Answer.transform(\"count\")\n",
    "tmp = tmp.sort_values(\"c\", ascending=False)\n",
    "tmp = tmp.drop_duplicates([\"QuestionId\"])\n",
    "tmp = tmp[[\"QuestionId\", \"MC_Answer\"]]\n",
    "tmp[\"is_mc_answer_correct\"] = True\n",
    "\n",
    "train_df = train_df.merge(tmp, on=[\"QuestionId\", \"MC_Answer\"], how=\"left\")\n",
    "train_df.is_mc_answer_correct = train_df.is_mc_answer_correct.fillna(False)\n",
    "\n",
    "test_df = test_df.merge(tmp, on=[\"QuestionId\", \"MC_Answer\"], how=\"left\")\n",
    "test_df.is_mc_answer_correct = test_df.is_mc_answer_correct.fillna(False)"
   ]
  },
  {
   "cell_type": "code",
   "execution_count": 12,
   "id": "10416844",
   "metadata": {
    "execution": {
     "iopub.execute_input": "2025-09-17T01:24:10.107826Z",
     "iopub.status.busy": "2025-09-17T01:24:10.107610Z",
     "iopub.status.idle": "2025-09-17T01:24:10.131671Z",
     "shell.execute_reply": "2025-09-17T01:24:10.130746Z"
    },
    "papermill": {
     "duration": 0.031642,
     "end_time": "2025-09-17T01:24:10.133123",
     "exception": false,
     "start_time": "2025-09-17T01:24:10.101481",
     "status": "completed"
    },
    "tags": []
   },
   "outputs": [
    {
     "data": {
      "text/html": [
       "<div>\n",
       "<style scoped>\n",
       "    .dataframe tbody tr th:only-of-type {\n",
       "        vertical-align: middle;\n",
       "    }\n",
       "\n",
       "    .dataframe tbody tr th {\n",
       "        vertical-align: top;\n",
       "    }\n",
       "\n",
       "    .dataframe thead th {\n",
       "        text-align: right;\n",
       "    }\n",
       "</style>\n",
       "<table border=\"1\" class=\"dataframe\">\n",
       "  <thead>\n",
       "    <tr style=\"text-align: right;\">\n",
       "      <th></th>\n",
       "      <th>row_id</th>\n",
       "      <th>QuestionId</th>\n",
       "      <th>QuestionText</th>\n",
       "      <th>MC_Answer</th>\n",
       "      <th>StudentExplanation</th>\n",
       "      <th>is_mc_answer_correct</th>\n",
       "      <th>stringified_input</th>\n",
       "    </tr>\n",
       "  </thead>\n",
       "  <tbody>\n",
       "    <tr>\n",
       "      <th>0</th>\n",
       "      <td>36696</td>\n",
       "      <td>31772</td>\n",
       "      <td>What fraction of the shape is not shaded? Give...</td>\n",
       "      <td>\\( \\frac{1}{3} \\)</td>\n",
       "      <td>I think that 1/3 is the answer, as it's the si...</td>\n",
       "      <td>True</td>\n",
       "      <td>Question: What fraction of the shape is not sh...</td>\n",
       "    </tr>\n",
       "    <tr>\n",
       "      <th>1</th>\n",
       "      <td>36697</td>\n",
       "      <td>31772</td>\n",
       "      <td>What fraction of the shape is not shaded? Give...</td>\n",
       "      <td>\\( \\frac{3}{6} \\)</td>\n",
       "      <td>i think this answer is because 3 triangles are...</td>\n",
       "      <td>False</td>\n",
       "      <td>Question: What fraction of the shape is not sh...</td>\n",
       "    </tr>\n",
       "    <tr>\n",
       "      <th>2</th>\n",
       "      <td>36698</td>\n",
       "      <td>32835</td>\n",
       "      <td>Which number is the greatest?</td>\n",
       "      <td>\\( 6.2 \\)</td>\n",
       "      <td>because the 2 makes it higher than the others.</td>\n",
       "      <td>True</td>\n",
       "      <td>Question: Which number is the greatest?\\nAnswe...</td>\n",
       "    </tr>\n",
       "  </tbody>\n",
       "</table>\n",
       "</div>"
      ],
      "text/plain": [
       "   row_id  QuestionId                                       QuestionText  \\\n",
       "0   36696       31772  What fraction of the shape is not shaded? Give...   \n",
       "1   36697       31772  What fraction of the shape is not shaded? Give...   \n",
       "2   36698       32835                      Which number is the greatest?   \n",
       "\n",
       "           MC_Answer                                 StudentExplanation  \\\n",
       "0  \\( \\frac{1}{3} \\)  I think that 1/3 is the answer, as it's the si...   \n",
       "1  \\( \\frac{3}{6} \\)  i think this answer is because 3 triangles are...   \n",
       "2          \\( 6.2 \\)     because the 2 makes it higher than the others.   \n",
       "\n",
       "   is_mc_answer_correct                                  stringified_input  \n",
       "0                  True  Question: What fraction of the shape is not sh...  \n",
       "1                 False  Question: What fraction of the shape is not sh...  \n",
       "2                  True  Question: Which number is the greatest?\\nAnswe...  "
      ]
     },
     "execution_count": 12,
     "metadata": {},
     "output_type": "execute_result"
    }
   ],
   "source": [
    "test_df[\"stringified_input\"] = test_df.apply(\n",
    "    lambda row: stringify_input(row, MODEL_NAME), axis=1\n",
    ")\n",
    "test_df.head()"
   ]
  },
  {
   "cell_type": "code",
   "execution_count": 13,
   "id": "8344ff9c",
   "metadata": {
    "execution": {
     "iopub.execute_input": "2025-09-17T01:24:10.147729Z",
     "iopub.status.busy": "2025-09-17T01:24:10.147030Z",
     "iopub.status.idle": "2025-09-17T01:24:10.229777Z",
     "shell.execute_reply": "2025-09-17T01:24:10.229151Z"
    },
    "papermill": {
     "duration": 0.090454,
     "end_time": "2025-09-17T01:24:10.230821",
     "exception": false,
     "start_time": "2025-09-17T01:24:10.140367",
     "status": "completed"
    },
    "tags": []
   },
   "outputs": [
    {
     "data": {
      "application/vnd.jupyter.widget-view+json": {
       "model_id": "748de7a54b16408d95ba9c130f87660f",
       "version_major": 2,
       "version_minor": 0
      },
      "text/plain": [
       "Map:   0%|          | 0/3 [00:00<?, ? examples/s]"
      ]
     },
     "metadata": {},
     "output_type": "display_data"
    }
   ],
   "source": [
    "test_ds = Dataset.from_pandas(test_df[[\"stringified_input\"]])\n",
    "test_ds = test_ds.map(tokenize_function, batched=True)"
   ]
  },
  {
   "cell_type": "code",
   "execution_count": 14,
   "id": "72e99457",
   "metadata": {
    "execution": {
     "iopub.execute_input": "2025-09-17T01:24:10.243150Z",
     "iopub.status.busy": "2025-09-17T01:24:10.242629Z",
     "iopub.status.idle": "2025-09-17T01:24:10.487119Z",
     "shell.execute_reply": "2025-09-17T01:24:10.486377Z"
    },
    "papermill": {
     "duration": 0.251652,
     "end_time": "2025-09-17T01:24:10.488262",
     "exception": false,
     "start_time": "2025-09-17T01:24:10.236610",
     "status": "completed"
    },
    "tags": []
   },
   "outputs": [
    {
     "data": {
      "image/png": "[encoded data removed]",
      "text/plain": [
       "<Figure size 640x480 with 1 Axes>"
      ]
     },
     "metadata": {},
     "output_type": "display_data"
    }
   ],
   "source": [
    "lengths = [len(tokenizer.encode(t, truncation=False)) for t in test_ds[\"stringified_input\"]]\n",
    "\n",
    "plt.hist(lengths, bins=50)\n",
    "plt.title(\"Token Length Distribution\")\n",
    "plt.xlabel(\"Number of tokens\")\n",
    "plt.ylabel(\"Frequency\")\n",
    "plt.grid(True)\n",
    "plt.show()"
   ]
  },
  {
   "cell_type": "code",
   "execution_count": 15,
   "id": "3e17c0ed",
   "metadata": {
    "execution": {
     "iopub.execute_input": "2025-09-17T01:24:10.501374Z",
     "iopub.status.busy": "2025-09-17T01:24:10.501156Z",
     "iopub.status.idle": "2025-09-17T01:24:10.506661Z",
     "shell.execute_reply": "2025-09-17T01:24:10.505960Z"
    },
    "papermill": {
     "duration": 0.01318,
     "end_time": "2025-09-17T01:24:10.507814",
     "exception": false,
     "start_time": "2025-09-17T01:24:10.494634",
     "status": "completed"
    },
    "tags": []
   },
   "outputs": [
    {
     "name": "stdout",
     "output_type": "stream",
     "text": [
      "There are 0 train sample(s) with more than 256 tokens\n"
     ]
    },
    {
     "data": {
      "text/plain": [
       "array([80, 75, 38])"
      ]
     },
     "execution_count": 15,
     "metadata": {},
     "output_type": "execute_result"
    }
   ],
   "source": [
    "L = (np.array(lengths) > MAX_LEN).sum()\n",
    "print(f\"There are {L} train sample(s) with more than {MAX_LEN} tokens\")\n",
    "np.sort(lengths)[::-1]"
   ]
  },
  {
   "cell_type": "code",
   "execution_count": 16,
   "id": "ff25f7f5",
   "metadata": {
    "execution": {
     "iopub.execute_input": "2025-09-17T01:24:10.520573Z",
     "iopub.status.busy": "2025-09-17T01:24:10.520330Z",
     "iopub.status.idle": "2025-09-17T01:24:11.214460Z",
     "shell.execute_reply": "2025-09-17T01:24:11.213848Z"
    },
    "papermill": {
     "duration": 0.701925,
     "end_time": "2025-09-17T01:24:11.215802",
     "exception": false,
     "start_time": "2025-09-17T01:24:10.513877",
     "status": "completed"
    },
    "tags": []
   },
   "outputs": [
    {
     "name": "stderr",
     "output_type": "stream",
     "text": [
      "/kaggle/input/map-utilities/utils.py:195: FutureWarning: `tokenizer` is deprecated and will be removed in version 5.0.0 for `Trainer.__init__`. Use `processing_class` instead.\n",
      "  return Trainer(\n"
     ]
    }
   ],
   "source": [
    "training_args = get_training_arguments(bf16_support=\"/kaggle\" not in ROOT_PATH)\n",
    "trainer = get_trainer(\n",
    "    seq_model,\n",
    "    tokenizer,\n",
    "    training_args,\n",
    "    test_ds,\n",
    "    test_ds,\n",
    ")"
   ]
  },
  {
   "cell_type": "code",
   "execution_count": 17,
   "id": "735c2787",
   "metadata": {
    "execution": {
     "iopub.execute_input": "2025-09-17T01:24:11.231915Z",
     "iopub.status.busy": "2025-09-17T01:24:11.231645Z",
     "iopub.status.idle": "2025-09-17T01:24:12.824845Z",
     "shell.execute_reply": "2025-09-17T01:24:12.824253Z"
    },
    "papermill": {
     "duration": 1.602127,
     "end_time": "2025-09-17T01:24:12.826025",
     "exception": false,
     "start_time": "2025-09-17T01:24:11.223898",
     "status": "completed"
    },
    "tags": []
   },
   "outputs": [
    {
     "data": {
      "text/html": [],
      "text/plain": [
       "<IPython.core.display.HTML object>"
      ]
     },
     "metadata": {},
     "output_type": "display_data"
    }
   ],
   "source": [
    "predictions = trainer.predict(test_ds)\n",
    "probs = torch.nn.functional.softmax(torch.tensor(predictions.predictions), dim=1).numpy()"
   ]
  },
  {
   "cell_type": "code",
   "execution_count": 18,
   "id": "25b87e76",
   "metadata": {
    "execution": {
     "iopub.execute_input": "2025-09-17T01:24:12.840169Z",
     "iopub.status.busy": "2025-09-17T01:24:12.839737Z",
     "iopub.status.idle": "2025-09-17T01:24:12.852398Z",
     "shell.execute_reply": "2025-09-17T01:24:12.851830Z"
    },
    "papermill": {
     "duration": 0.020664,
     "end_time": "2025-09-17T01:24:12.853408",
     "exception": false,
     "start_time": "2025-09-17T01:24:12.832744",
     "status": "completed"
    },
    "tags": []
   },
   "outputs": [
    {
     "data": {
      "text/html": [
       "<div>\n",
       "<style scoped>\n",
       "    .dataframe tbody tr th:only-of-type {\n",
       "        vertical-align: middle;\n",
       "    }\n",
       "\n",
       "    .dataframe tbody tr th {\n",
       "        vertical-align: top;\n",
       "    }\n",
       "\n",
       "    .dataframe thead th {\n",
       "        text-align: right;\n",
       "    }\n",
       "</style>\n",
       "<table border=\"1\" class=\"dataframe\">\n",
       "  <thead>\n",
       "    <tr style=\"text-align: right;\">\n",
       "      <th></th>\n",
       "      <th>row_id</th>\n",
       "      <th>Category:Misconception</th>\n",
       "    </tr>\n",
       "  </thead>\n",
       "  <tbody>\n",
       "    <tr>\n",
       "      <th>0</th>\n",
       "      <td>36696</td>\n",
       "      <td>True_Correct:NA True_Neither:NA True_Misconcep...</td>\n",
       "    </tr>\n",
       "    <tr>\n",
       "      <th>1</th>\n",
       "      <td>36697</td>\n",
       "      <td>False_Misconception:WNB False_Neither:NA False...</td>\n",
       "    </tr>\n",
       "    <tr>\n",
       "      <th>2</th>\n",
       "      <td>36698</td>\n",
       "      <td>True_Neither:NA True_Correct:NA True_Misconcep...</td>\n",
       "    </tr>\n",
       "  </tbody>\n",
       "</table>\n",
       "</div>"
      ],
      "text/plain": [
       "   row_id                             Category:Misconception\n",
       "0   36696  True_Correct:NA True_Neither:NA True_Misconcep...\n",
       "1   36697  False_Misconception:WNB False_Neither:NA False...\n",
       "2   36698  True_Neither:NA True_Correct:NA True_Misconcep..."
      ]
     },
     "execution_count": 18,
     "metadata": {},
     "output_type": "execute_result"
    }
   ],
   "source": [
    "top3 = np.argsort(-probs, axis=1)[:, :3]\n",
    "\n",
    "# Decode numeric class indices to original string labels\n",
    "flat_top3 = top3.flatten()\n",
    "decoded_labels = le.inverse_transform(flat_top3)\n",
    "top3_labels = decoded_labels.reshape(top3.shape)\n",
    "\n",
    "# Join 3 labels per row with space\n",
    "joined_preds = [\" \".join(row) for row in top3_labels]\n",
    "\n",
    "# Save submission\n",
    "sub = pd.DataFrame({\n",
    "    \"row_id\": test_df.row_id.values,\n",
    "    \"Category:Misconception\": joined_preds\n",
    "})\n",
    "sub.to_csv(\"submission.csv\", index=False)\n",
    "sub.head()"
   ]
  },
  {
   "cell_type": "code",
   "execution_count": null,
   "id": "2e3ab55a",
   "metadata": {
    "papermill": {
     "duration": 0.005891,
     "end_time": "2025-09-17T01:24:12.865416",
     "exception": false,
     "start_time": "2025-09-17T01:24:12.859525",
     "status": "completed"
    },
    "tags": []
   },
   "outputs": [],
   "source": []
  }
 ],
 "metadata": {
  "kaggle": {
   "accelerator": "nvidiaTeslaT4",
   "dataSources": [
    {
     "databundleVersionId": 12957508,
     "sourceId": 104383,
     "sourceType": "competition"
    },
    {
     "datasetId": 7922715,
     "sourceId": 13082044,
     "sourceType": "datasetVersion"
    },
    {
     "modelId": 91102,
     "modelInstanceId": 68809,
     "sourceId": 104449,
     "sourceType": "modelInstanceVersion"
    },
    {
     "modelId": 76277,
     "modelInstanceId": 72256,
     "sourceId": 104453,
     "sourceType": "modelInstanceVersion"
    },
    {
     "modelId": 122034,
     "modelInstanceId": 97888,
     "sourceId": 116482,
     "sourceType": "modelInstanceVersion"
    },
    {
     "modelId": 322000,
     "modelInstanceId": 301527,
     "sourceId": 363149,
     "sourceType": "modelInstanceVersion"
    },
    {
     "modelId": 362024,
     "modelInstanceId": 340783,
     "sourceId": 417773,
     "sourceType": "modelInstanceVersion"
    },
    {
     "modelId": 368803,
     "modelInstanceId": 347543,
     "sourceId": 426333,
     "sourceType": "modelInstanceVersion"
    },
    {
     "modelId": 368803,
     "modelInstanceId": 347547,
     "sourceId": 426337,
     "sourceType": "modelInstanceVersion"
    },
    {
     "modelId": 430043,
     "modelInstanceId": 412260,
     "sourceId": 525587,
     "sourceType": "modelInstanceVersion"
    },
    {
     "modelId": 430436,
     "modelInstanceId": 412674,
     "sourceId": 527052,
     "sourceType": "modelInstanceVersion"
    },
    {
     "modelId": 432081,
     "modelInstanceId": 414331,
     "sourceId": 529663,
     "sourceType": "modelInstanceVersion"
    },
    {
     "modelId": 430843,
     "modelInstanceId": 413104,
     "sourceId": 530015,
     "sourceType": "modelInstanceVersion"
    },
    {
     "modelId": 432975,
     "modelInstanceId": 415216,
     "sourceId": 531369,
     "sourceType": "modelInstanceVersion"
    },
    {
     "modelId": 433091,
     "modelInstanceId": 415332,
     "sourceId": 531620,
     "sourceType": "modelInstanceVersion"
    },
    {
     "modelId": 432951,
     "modelInstanceId": 415190,
     "sourceId": 551461,
     "sourceType": "modelInstanceVersion"
    },
    {
     "modelId": 430142,
     "modelInstanceId": 412373,
     "sourceId": 577006,
     "sourceType": "modelInstanceVersion"
    },
    {
     "modelId": 429550,
     "modelInstanceId": 411748,
     "sourceId": 582424,
     "sourceType": "modelInstanceVersion"
    }
   ],
   "isGpuEnabled": true,
   "isInternetEnabled": false,
   "language": "python",
   "sourceType": "notebook"
  },
  "kernelspec": {
   "display_name": "Python 3",
   "language": "python",
   "name": "python3"
  },
  "language_info": {
   "codemirror_mode": {
    "name": "ipython",
    "version": 3
   },
   "file_extension": ".py",
   "mimetype": "text/x-python",
   "name": "python",
   "nbconvert_exporter": "python",
   "pygments_lexer": "ipython3",
   "version": "3.11.13"
  },
  "papermill": {
   "default_parameters": {},
   "duration": 71.374019,
   "end_time": "2025-09-17T01:24:15.890055",
   "environment_variables": {},
   "exception": null,
   "input_path": "__notebook__.ipynb",
   "output_path": "__notebook__.ipynb",
   "parameters": {},
   "start_time": "2025-09-17T01:23:04.516036",
   "version": "2.6.0"
  },
  "widgets": {
   "application/vnd.jupyter.widget-state+json": {
    "state": {
     "08c49cbf5bbd4a9fbe7942fcd760161e": {
      "model_module": "@jupyter-widgets/controls",
      "model_module_version": "2.0.0",
      "model_name": "HTMLModel",
      "state": {
       "_dom_classes": [],
       "_model_module": "@jupyter-widgets/controls",
       "_model_module_version": "2.0.0",
       "_model_name": "HTMLModel",
       "_view_count": null,
       "_view_module": "@jupyter-widgets/controls",
       "_view_module_version": "2.0.0",
       "_view_name": "HTMLView",
       "description": "",
       "description_allow_html": false,
       "layout": "IPY_MODEL_5a55dedced4244ca82243de426e822d5",
       "placeholder": "​",
       "style": "IPY_MODEL_85b5b271817340a2ba3025d13543d307",
       "tabbable": null,
       "tooltip": null,
       "value": " 3/3 [00:00&lt;00:00, 87.02 examples/s]"
      }
     },
     "45f6e235da6d4a5f922af1e4f16eeb1f": {
      "model_module": "@jupyter-widgets/base",
      "model_module_version": "2.0.0",
      "model_name": "LayoutModel",
      "state": {
       "_model_module": "@jupyter-widgets/base",
       "_model_module_version": "2.0.0",
       "_model_name": "LayoutModel",
       "_view_count": null,
       "_view_module": "@jupyter-widgets/base",
       "_view_module_version": "2.0.0",
       "_view_name": "LayoutView",
       "align_content": null,
       "align_items": null,
       "align_self": null,
       "border_bottom": null,
       "border_left": null,
       "border_right": null,
       "border_top": null,
       "bottom": null,
       "display": null,
       "flex": null,
       "flex_flow": null,
       "grid_area": null,
       "grid_auto_columns": null,
       "grid_auto_flow": null,
       "grid_auto_rows": null,
       "grid_column": null,
       "grid_gap": null,
       "grid_row": null,
       "grid_template_areas": null,
       "grid_template_columns": null,
       "grid_template_rows": null,
       "height": null,
       "justify_content": null,
       "justify_items": null,
       "left": null,
       "margin": null,
       "max_height": null,
       "max_width": null,
       "min_height": null,
       "min_width": null,
       "object_fit": null,
       "object_position": null,
       "order": null,
       "overflow": null,
       "padding": null,
       "right": null,
       "top": null,
       "visibility": null,
       "width": null
      }
     },
     "5a55dedced4244ca82243de426e822d5": {
      "model_module": "@jupyter-widgets/base",
      "model_module_version": "2.0.0",
      "model_name": "LayoutModel",
      "state": {
       "_model_module": "@jupyter-widgets/base",
       "_model_module_version": "2.0.0",
       "_model_name": "LayoutModel",
       "_view_count": null,
       "_view_module": "@jupyter-widgets/base",
       "_view_module_version": "2.0.0",
       "_view_name": "LayoutView",
       "align_content": null,
       "align_items": null,
       "align_self": null,
       "border_bottom": null,
       "border_left": null,
       "border_right": null,
       "border_top": null,
       "bottom": null,
       "display": null,
       "flex": null,
       "flex_flow": null,
       "grid_area": null,
       "grid_auto_columns": null,
       "grid_auto_flow": null,
       "grid_auto_rows": null,
       "grid_column": null,
       "grid_gap": null,
       "grid_row": null,
       "grid_template_areas": null,
       "grid_template_columns": null,
       "grid_template_rows": null,
       "height": null,
       "justify_content": null,
       "justify_items": null,
       "left": null,
       "margin": null,
       "max_height": null,
       "max_width": null,
       "min_height": null,
       "min_width": null,
       "object_fit": null,
       "object_position": null,
       "order": null,
       "overflow": null,
       "padding": null,
       "right": null,
       "top": null,
       "visibility": null,
       "width": null
      }
     },
     "6c512cd7500b452ca08340a66e851cb4": {
      "model_module": "@jupyter-widgets/controls",
      "model_module_version": "2.0.0",
      "model_name": "ProgressStyleModel",
      "state": {
       "_model_module": "@jupyter-widgets/controls",
       "_model_module_version": "2.0.0",
       "_model_name": "ProgressStyleModel",
       "_view_count": null,
       "_view_module": "@jupyter-widgets/base",
       "_view_module_version": "2.0.0",
       "_view_name": "StyleView",
       "bar_color": null,
       "description_width": ""
      }
     },
     "748de7a54b16408d95ba9c130f87660f": {
      "model_module": "@jupyter-widgets/controls",
      "model_module_version": "2.0.0",
      "model_name": "HBoxModel",
      "state": {
       "_dom_classes": [],
       "_model_module": "@jupyter-widgets/controls",
       "_model_module_version": "2.0.0",
       "_model_name": "HBoxModel",
       "_view_count": null,
       "_view_module": "@jupyter-widgets/controls",
       "_view_module_version": "2.0.0",
       "_view_name": "HBoxView",
       "box_style": "",
       "children": [
        "IPY_MODEL_a907ba6d13d44b518e6e3a89d8bed4d1",
        "IPY_MODEL_8239dde6c58f4a30bdce0bceaf90c24a",
        "IPY_MODEL_08c49cbf5bbd4a9fbe7942fcd760161e"
       ],
       "layout": "IPY_MODEL_e2616efb29d840dbb759f7912e5887dd",
       "tabbable": null,
       "tooltip": null
      }
     },
     "74df40dca83c4b499c2049af3cdefc09": {
      "model_module": "@jupyter-widgets/controls",
      "model_module_version": "2.0.0",
      "model_name": "HTMLStyleModel",
      "state": {
       "_model_module": "@jupyter-widgets/controls",
       "_model_module_version": "2.0.0",
       "_model_name": "HTMLStyleModel",
       "_view_count": null,
       "_view_module": "@jupyter-widgets/base",
       "_view_module_version": "2.0.0",
       "_view_name": "StyleView",
       "background": null,
       "description_width": "",
       "font_size": null,
       "text_color": null
      }
     },
     "8239dde6c58f4a30bdce0bceaf90c24a": {
      "model_module": "@jupyter-widgets/controls",
      "model_module_version": "2.0.0",
      "model_name": "FloatProgressModel",
      "state": {
       "_dom_classes": [],
       "_model_module": "@jupyter-widgets/controls",
       "_model_module_version": "2.0.0",
       "_model_name": "FloatProgressModel",
       "_view_count": null,
       "_view_module": "@jupyter-widgets/controls",
       "_view_module_version": "2.0.0",
       "_view_name": "ProgressView",
       "bar_style": "success",
       "description": "",
       "description_allow_html": false,
       "layout": "IPY_MODEL_a7bea8a8df3449d0b86caf28a8310148",
       "max": 3.0,
       "min": 0.0,
       "orientation": "horizontal",
       "style": "IPY_MODEL_6c512cd7500b452ca08340a66e851cb4",
       "tabbable": null,
       "tooltip": null,
       "value": 3.0
      }
     },
     "85b5b271817340a2ba3025d13543d307": {
      "model_module": "@jupyter-widgets/controls",
      "model_module_version": "2.0.0",
      "model_name": "HTMLStyleModel",
      "state": {
       "_model_module": "@jupyter-widgets/controls",
       "_model_module_version": "2.0.0",
       "_model_name": "HTMLStyleModel",
       "_view_count": null,
       "_view_module": "@jupyter-widgets/base",
       "_view_module_version": "2.0.0",
       "_view_name": "StyleView",
       "background": null,
       "description_width": "",
       "font_size": null,
       "text_color": null
      }
     },
     "a7bea8a8df3449d0b86caf28a8310148": {
      "model_module": "@jupyter-widgets/base",
      "model_module_version": "2.0.0",
      "model_name": "LayoutModel",
      "state": {
       "_model_module": "@jupyter-widgets/base",
       "_model_module_version": "2.0.0",
       "_model_name": "LayoutModel",
       "_view_count": null,
       "_view_module": "@jupyter-widgets/base",
       "_view_module_version": "2.0.0",
       "_view_name": "LayoutView",
       "align_content": null,
       "align_items": null,
       "align_self": null,
       "border_bottom": null,
       "border_left": null,
       "border_right": null,
       "border_top": null,
       "bottom": null,
       "display": null,
       "flex": null,
       "flex_flow": null,
       "grid_area": null,
       "grid_auto_columns": null,
       "grid_auto_flow": null,
       "grid_auto_rows": null,
       "grid_column": null,
       "grid_gap": null,
       "grid_row": null,
       "grid_template_areas": null,
       "grid_template_columns": null,
       "grid_template_rows": null,
       "height": null,
       "justify_content": null,
       "justify_items": null,
       "left": null,
       "margin": null,
       "max_height": null,
       "max_width": null,
       "min_height": null,
       "min_width": null,
       "object_fit": null,
       "object_position": null,
       "order": null,
       "overflow": null,
       "padding": null,
       "right": null,
       "top": null,
       "visibility": null,
       "width": null
      }
     },
     "a907ba6d13d44b518e6e3a89d8bed4d1": {
      "model_module": "@jupyter-widgets/controls",
      "model_module_version": "2.0.0",
      "model_name": "HTMLModel",
      "state": {
       "_dom_classes": [],
       "_model_module": "@jupyter-widgets/controls",
       "_model_module_version": "2.0.0",
       "_model_name": "HTMLModel",
       "_view_count": null,
       "_view_module": "@jupyter-widgets/controls",
       "_view_module_version": "2.0.0",
       "_view_name": "HTMLView",
       "description": "",
       "description_allow_html": false,
       "layout": "IPY_MODEL_45f6e235da6d4a5f922af1e4f16eeb1f",
       "placeholder": "​",
       "style": "IPY_MODEL_74df40dca83c4b499c2049af3cdefc09",
       "tabbable": null,
       "tooltip": null,
       "value": "Map: 100%"
      }
     },
     "e2616efb29d840dbb759f7912e5887dd": {
      "model_module": "@jupyter-widgets/base",
      "model_module_version": "2.0.0",
      "model_name": "LayoutModel",
      "state": {
       "_model_module": "@jupyter-widgets/base",
       "_model_module_version": "2.0.0",
       "_model_name": "LayoutModel",
       "_view_count": null,
       "_view_module": "@jupyter-widgets/base",
       "_view_module_version": "2.0.0",
       "_view_name": "LayoutView",
       "align_content": null,
       "align_items": null,
       "align_self": null,
       "border_bottom": null,
       "border_left": null,
       "border_right": null,
       "border_top": null,
       "bottom": null,
       "display": null,
       "flex": null,
       "flex_flow": null,
       "grid_area": null,
       "grid_auto_columns": null,
       "grid_auto_flow": null,
       "grid_auto_rows": null,
       "grid_column": null,
       "grid_gap": null,
       "grid_row": null,
       "grid_template_areas": null,
       "grid_template_columns": null,
       "grid_template_rows": null,
       "height": null,
       "justify_content": null,
       "justify_items": null,
       "left": null,
       "margin": null,
       "max_height": null,
       "max_width": null,
       "min_height": null,
       "min_width": null,
       "object_fit": null,
       "object_position": null,
       "order": null,
       "overflow": null,
       "padding": null,
       "right": null,
       "top": null,
       "visibility": null,
       "width": null
      }
     }
    },
    "version_major": 2,
    "version_minor": 0
   }
  }
 },
 "nbformat": 4,
 "nbformat_minor": 5
}
