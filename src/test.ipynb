{
 "cells": [
  {
   "cell_type": "code",
   "execution_count": 1,
   "id": "4276543e",
   "metadata": {
    "execution": {
     "iopub.execute_input": "2025-09-30T22:43:46.982196Z",
     "iopub.status.busy": "2025-09-30T22:43:46.981938Z",
     "iopub.status.idle": "2025-09-30T22:44:09.953846Z",
     "shell.execute_reply": "2025-09-30T22:44:09.952889Z"
    },
    "papermill": {
     "duration": 22.979474,
     "end_time": "2025-09-30T22:44:09.955314",
     "exception": false,
     "start_time": "2025-09-30T22:43:46.975840",
     "status": "completed"
    },
    "tags": []
   },
   "outputs": [
    {
     "name": "stdout",
     "output_type": "stream",
     "text": [
      "Processing /kaggle/input/map-utilities/transformers-4.55.3-py3-none-any.whl\r\n",
      "Installing collected packages: transformers\r\n",
      "  Attempting uninstall: transformers\r\n",
      "    Found existing installation: transformers 4.52.4\r\n",
      "    Uninstalling transformers-4.52.4:\r\n",
      "      Successfully uninstalled transformers-4.52.4\r\n",
      "Successfully installed transformers-4.55.3\r\n",
      "Processing /kaggle/input/map-utilities/bitsandbytes-0.47.0-py3-none-manylinux_2_24_x86_64.whl\r\n",
      "Installing collected packages: bitsandbytes\r\n",
      "Successfully installed bitsandbytes-0.47.0\r\n",
      "Processing /kaggle/input/map-utilities/peft-0.17.1-py3-none-any.whl\r\n",
      "Installing collected packages: peft\r\n",
      "  Attempting uninstall: peft\r\n",
      "    Found existing installation: peft 0.15.2\r\n",
      "    Uninstalling peft-0.15.2:\r\n",
      "      Successfully uninstalled peft-0.15.2\r\n",
      "Successfully installed peft-0.17.1\r\n",
      "Processing /kaggle/input/map-utilities/datasets-4.0.0-py3-none-any.whl\r\n",
      "Installing collected packages: datasets\r\n",
      "  Attempting uninstall: datasets\r\n",
      "    Found existing installation: datasets 3.6.0\r\n",
      "    Uninstalling datasets-3.6.0:\r\n",
      "      Successfully uninstalled datasets-3.6.0\r\n",
      "Successfully installed datasets-4.0.0\r\n",
      "Processing /kaggle/input/map-utilities/huggingface_hub-0.34.4-py3-none-any.whl\r\n",
      "Installing collected packages: huggingface-hub\r\n",
      "  Attempting uninstall: huggingface-hub\r\n",
      "    Found existing installation: huggingface-hub 0.33.1\r\n",
      "    Uninstalling huggingface-hub-0.33.1:\r\n",
      "      Successfully uninstalled huggingface-hub-0.33.1\r\n",
      "Successfully installed huggingface-hub-0.34.4\r\n",
      "Processing /kaggle/input/map-utilities/accelerate-1.10.0-py3-none-any.whl\r\n",
      "Installing collected packages: accelerate\r\n",
      "  Attempting uninstall: accelerate\r\n",
      "    Found existing installation: accelerate 1.8.1\r\n",
      "    Uninstalling accelerate-1.8.1:\r\n",
      "      Successfully uninstalled accelerate-1.8.1\r\n",
      "Successfully installed accelerate-1.10.0\r\n"
     ]
    }
   ],
   "source": [
    "!pip install --no-deps /kaggle/input/map-utilities/transformers-4.55.3-py3-none-any.whl\n",
    "!pip install --no-deps /kaggle/input/map-utilities/bitsandbytes-0.47.0-py3-none-manylinux_2_24_x86_64.whl\n",
    "!pip install --no-deps /kaggle/input/map-utilities/peft-0.17.1-py3-none-any.whl\n",
    "!pip install --no-deps /kaggle/input/map-utilities/datasets-4.0.0-py3-none-any.whl\n",
    "!pip install --no-deps /kaggle/input/map-utilities/huggingface_hub-0.34.4-py3-none-any.whl\n",
    "!pip install --no-deps /kaggle/input/map-utilities/accelerate-1.10.0-py3-none-any.whl"
   ]
  },
  {
   "cell_type": "code",
   "execution_count": 2,
   "id": "cc8a7f2f",
   "metadata": {
    "execution": {
     "iopub.execute_input": "2025-09-30T22:44:09.969194Z",
     "iopub.status.busy": "2025-09-30T22:44:09.968149Z",
     "iopub.status.idle": "2025-09-30T22:44:09.973179Z",
     "shell.execute_reply": "2025-09-30T22:44:09.972663Z"
    },
    "papermill": {
     "duration": 0.012543,
     "end_time": "2025-09-30T22:44:09.974298",
     "exception": false,
     "start_time": "2025-09-30T22:44:09.961755",
     "status": "completed"
    },
    "tags": []
   },
   "outputs": [],
   "source": [
    "import os\n",
    "import sys\n",
    "\n",
    "os.environ[\"CUDA_VISIBLE_DEVICES\"] = \"0,1\"\n",
    "\n",
    "ROOT_PATH = os.getcwd()\n",
    "if \"/kaggle\" in ROOT_PATH:\n",
    "    ROOT_PATH = \"/kaggle/input\"\n",
    "    sys.path.append(os.path.join(ROOT_PATH, \"map-utilities\"))"
   ]
  },
  {
   "cell_type": "code",
   "execution_count": 3,
   "id": "ca27fb6d",
   "metadata": {
    "execution": {
     "iopub.execute_input": "2025-09-30T22:44:09.987413Z",
     "iopub.status.busy": "2025-09-30T22:44:09.986988Z",
     "iopub.status.idle": "2025-09-30T22:44:39.723462Z",
     "shell.execute_reply": "2025-09-30T22:44:39.722855Z"
    },
    "papermill": {
     "duration": 29.744677,
     "end_time": "2025-09-30T22:44:39.724885",
     "exception": false,
     "start_time": "2025-09-30T22:44:09.980208",
     "status": "completed"
    },
    "tags": []
   },
   "outputs": [
    {
     "name": "stderr",
     "output_type": "stream",
     "text": [
      "2025-09-30 22:44:26.964338: E external/local_xla/xla/stream_executor/cuda/cuda_fft.cc:477] Unable to register cuFFT factory: Attempting to register factory for plugin cuFFT when one has already been registered\n",
      "WARNING: All log messages before absl::InitializeLog() is called are written to STDERR\n",
      "E0000 00:00:1759272267.168323      19 cuda_dnn.cc:8310] Unable to register cuDNN factory: Attempting to register factory for plugin cuDNN when one has already been registered\n",
      "E0000 00:00:1759272267.223913      19 cuda_blas.cc:1418] Unable to register cuBLAS factory: Attempting to register factory for plugin cuBLAS when one has already been registered\n"
     ]
    }
   ],
   "source": [
    "import pandas as pd\n",
    "import numpy as np\n",
    "import joblib\n",
    "import matplotlib.pyplot as plt\n",
    "\n",
    "import torch\n",
    "from datasets import Dataset\n",
    "from peft import PeftModel\n",
    "from transformers import BitsAndBytesConfig\n",
    "\n",
    "from utils import (\n",
    "    stringify_input,\n",
    "    get_model_name,\n",
    "    get_sequence_classifier,\n",
    "    get_tokenizer,\n",
    "    get_training_arguments,\n",
    "    get_trainer,\n",
    ")"
   ]
  },
  {
   "cell_type": "code",
   "execution_count": 4,
   "id": "3f0b86c8",
   "metadata": {
    "execution": {
     "iopub.execute_input": "2025-09-30T22:44:39.737944Z",
     "iopub.status.busy": "2025-09-30T22:44:39.736740Z",
     "iopub.status.idle": "2025-09-30T22:44:39.747321Z",
     "shell.execute_reply": "2025-09-30T22:44:39.746604Z"
    },
    "papermill": {
     "duration": 0.01751,
     "end_time": "2025-09-30T22:44:39.748329",
     "exception": false,
     "start_time": "2025-09-30T22:44:39.730819",
     "status": "completed"
    },
    "tags": []
   },
   "outputs": [
    {
     "name": "stderr",
     "output_type": "stream",
     "text": [
      "/usr/local/lib/python3.11/dist-packages/sklearn/base.py:318: UserWarning: Trying to unpickle estimator LabelEncoder from version 1.7.1 when using version 1.2.2. This might lead to breaking code or invalid results. Use at your own risk. For more info please refer to:\n",
      "https://scikit-learn.org/stable/model_persistence.html#security-maintainability-limitations\n",
      "  warnings.warn(\n"
     ]
    }
   ],
   "source": [
    "le = joblib.load(os.path.join(ROOT_PATH, \"map-utilities\", \"label_encoder.joblib\"))\n",
    "n_classes = len(le.classes_)"
   ]
  },
  {
   "cell_type": "code",
   "execution_count": 5,
   "id": "79d9df52",
   "metadata": {
    "execution": {
     "iopub.execute_input": "2025-09-30T22:44:39.759954Z",
     "iopub.status.busy": "2025-09-30T22:44:39.759744Z",
     "iopub.status.idle": "2025-09-30T22:44:39.764112Z",
     "shell.execute_reply": "2025-09-30T22:44:39.763420Z"
    },
    "papermill": {
     "duration": 0.011429,
     "end_time": "2025-09-30T22:44:39.765266",
     "exception": false,
     "start_time": "2025-09-30T22:44:39.753837",
     "status": "completed"
    },
    "tags": []
   },
   "outputs": [],
   "source": [
    "# BASE_MODEL = \"modernbert-large/transformers/default/10\"\n",
    "# BASE_MODEL = \"qwen3-1.7b/transformers/default/1\"\n",
    "# BASE_MODEL = \"ettin-encoder-1b/transformers/default/7\"\n",
    "# BASE_MODEL = \"qwen-3/transformers/14b/1\"\n",
    "# BASE_MODEL = \"gemma-2/transformers/gemma-2-9b-it/2\"\n",
    "# BASE_MODEL = \"deepseek-r1-0528/transformers/deepseek-r1-0528-qwen3-8b/1\"\n",
    "# BASE_MODEL = \"deepseek-math/pytorch/deepseek-math-7b-instruct/1\"\n",
    "BASE_MODEL = \"qwen-3-embedding/transformers/4b/1\"\n",
    "# BASE_MODEL = \"qwen-3-embedding/transformers/8b/1\"\n",
    "# BASE_MODEL = \"nvidia-acereason-nemotron-1.1-7b/transformers/default/1\"\n",
    "# BASE_MODEL = \"llama-3.1/transformers/8b-instruct/2\"\n",
    "\n",
    "MODEL_NAME = get_model_name(\"/kaggle\" in ROOT_PATH, ROOT_PATH, BASE_MODEL)\n",
    "ADAPTER_PATH = get_model_name(\"/kaggle\" in ROOT_PATH, ROOT_PATH, \"qwen3-embedding-4b-qlora-4bit-5fold/transformers/default/1/fold_4\")\n",
    "USE_LORA = False\n",
    "USE_QLORA = False\n",
    "MAX_LEN = 256\n",
    "NEW_PROMPT = True\n",
    "\n",
    "TRAIN_PATH = os.path.join(ROOT_PATH, \"map-charting-student-math-misunderstandings\", \"train.csv\")\n",
    "TEST_PATH = os.path.join(ROOT_PATH, \"map-charting-student-math-misunderstandings\", \"test.csv\")"
   ]
  },
  {
   "cell_type": "code",
   "execution_count": 6,
   "id": "35166abd",
   "metadata": {
    "execution": {
     "iopub.execute_input": "2025-09-30T22:44:39.777614Z",
     "iopub.status.busy": "2025-09-30T22:44:39.777385Z",
     "iopub.status.idle": "2025-09-30T22:44:39.781417Z",
     "shell.execute_reply": "2025-09-30T22:44:39.780907Z"
    },
    "papermill": {
     "duration": 0.011097,
     "end_time": "2025-09-30T22:44:39.782521",
     "exception": false,
     "start_time": "2025-09-30T22:44:39.771424",
     "status": "completed"
    },
    "tags": []
   },
   "outputs": [],
   "source": [
    "qlora_config = {\n",
    "    \"torch_dtype\": torch.float16,\n",
    "    \"device_map\": \"auto\"\n",
    "}\n",
    "\n",
    "if \"ettin-encoder\" in MODEL_NAME:\n",
    "    qlora_config.pop(\"device_map\")\n",
    "\n",
    "if USE_QLORA:\n",
    "    bnb_config = BitsAndBytesConfig(\n",
    "        load_in_4bit=True,\n",
    "        bnb_4bit_quant_type=\"nf4\",\n",
    "        bnb_4bit_compute_dtype=torch.float16,\n",
    "        bnb_4bit_use_double_quant=True,\n",
    "        bnb_4bit_quant_storage=torch.float16,\n",
    "    )\n",
    "    qlora_config[\"quantization_config\"] = bnb_config"
   ]
  },
  {
   "cell_type": "code",
   "execution_count": 7,
   "id": "525934a9",
   "metadata": {
    "execution": {
     "iopub.execute_input": "2025-09-30T22:44:39.793966Z",
     "iopub.status.busy": "2025-09-30T22:44:39.793734Z",
     "iopub.status.idle": "2025-09-30T22:45:18.018514Z",
     "shell.execute_reply": "2025-09-30T22:45:18.017904Z"
    },
    "papermill": {
     "duration": 38.231973,
     "end_time": "2025-09-30T22:45:18.019876",
     "exception": false,
     "start_time": "2025-09-30T22:44:39.787903",
     "status": "completed"
    },
    "tags": []
   },
   "outputs": [
    {
     "data": {
      "application/vnd.jupyter.widget-view+json": {
       "model_id": "b68d28478e7d4eb3b70d951d94a47fd7",
       "version_major": 2,
       "version_minor": 0
      },
      "text/plain": [
       "Loading checkpoint shards:   0%|          | 0/2 [00:00<?, ?it/s]"
      ]
     },
     "metadata": {},
     "output_type": "display_data"
    },
    {
     "name": "stderr",
     "output_type": "stream",
     "text": [
      "Some weights of Qwen3ForSequenceClassification were not initialized from the model checkpoint at /kaggle/input/qwen-3-embedding/transformers/4b/1 and are newly initialized: ['score.weight']\n",
      "You should probably TRAIN this model on a down-stream task to be able to use it for predictions and inference.\n"
     ]
    }
   ],
   "source": [
    "seq_model = get_sequence_classifier(MODEL_NAME, n_classes, qlora_config)\n",
    "tokenizer = get_tokenizer(MODEL_NAME)\n",
    "\n",
    "if (\n",
    "    \"gemma\" in MODEL_NAME.lower()\n",
    "    or \"qwen\" in MODEL_NAME.lower()\n",
    "    or \"deepseek-math\" in MODEL_NAME.lower()\n",
    "    or \"llama-3.1\" in MODEL_NAME.lower()\n",
    "):\n",
    "    if tokenizer.pad_token is None:\n",
    "        tokenizer.pad_token = tokenizer.eos_token\n",
    "        tokenizer.pad_token_id = tokenizer.eos_token_id\n",
    "    seq_model.config.pad_token_id = tokenizer.pad_token_id\n",
    "\n",
    "if USE_LORA:\n",
    "    seq_model = PeftModel.from_pretrained(seq_model, ADAPTER_PATH)"
   ]
  },
  {
   "cell_type": "code",
   "execution_count": 8,
   "id": "524bfedf",
   "metadata": {
    "execution": {
     "iopub.execute_input": "2025-09-30T22:45:18.032615Z",
     "iopub.status.busy": "2025-09-30T22:45:18.032142Z",
     "iopub.status.idle": "2025-09-30T22:45:18.035688Z",
     "shell.execute_reply": "2025-09-30T22:45:18.034981Z"
    },
    "papermill": {
     "duration": 0.011055,
     "end_time": "2025-09-30T22:45:18.036866",
     "exception": false,
     "start_time": "2025-09-30T22:45:18.025811",
     "status": "completed"
    },
    "tags": []
   },
   "outputs": [],
   "source": [
    "def tokenize_function(examples):\n",
    "    return tokenizer(examples[\"stringified_input\"])"
   ]
  },
  {
   "cell_type": "code",
   "execution_count": 9,
   "id": "f9077323",
   "metadata": {
    "execution": {
     "iopub.execute_input": "2025-09-30T22:45:18.048871Z",
     "iopub.status.busy": "2025-09-30T22:45:18.048667Z",
     "iopub.status.idle": "2025-09-30T22:45:18.221435Z",
     "shell.execute_reply": "2025-09-30T22:45:18.220804Z"
    },
    "papermill": {
     "duration": 0.180319,
     "end_time": "2025-09-30T22:45:18.222885",
     "exception": false,
     "start_time": "2025-09-30T22:45:18.042566",
     "status": "completed"
    },
    "tags": []
   },
   "outputs": [],
   "source": [
    "train_df = pd.read_csv(TRAIN_PATH)\n",
    "test_df = pd.read_csv(TEST_PATH)"
   ]
  },
  {
   "cell_type": "code",
   "execution_count": 10,
   "id": "71b1a270",
   "metadata": {
    "execution": {
     "iopub.execute_input": "2025-09-30T22:45:18.235823Z",
     "iopub.status.busy": "2025-09-30T22:45:18.235588Z",
     "iopub.status.idle": "2025-09-30T22:45:18.239654Z",
     "shell.execute_reply": "2025-09-30T22:45:18.238951Z"
    },
    "papermill": {
     "duration": 0.011569,
     "end_time": "2025-09-30T22:45:18.240638",
     "exception": false,
     "start_time": "2025-09-30T22:45:18.229069",
     "status": "completed"
    },
    "tags": []
   },
   "outputs": [
    {
     "name": "stdout",
     "output_type": "stream",
     "text": [
      "Training Shape: (36696, 7)\n",
      "Testing Shape: (3, 5)\n"
     ]
    }
   ],
   "source": [
    "print(\"Training Shape:\", train_df.shape)\n",
    "print(\"Testing Shape:\", test_df.shape)"
   ]
  },
  {
   "cell_type": "code",
   "execution_count": 11,
   "id": "b54385a0",
   "metadata": {
    "execution": {
     "iopub.execute_input": "2025-09-30T22:45:18.252800Z",
     "iopub.status.busy": "2025-09-30T22:45:18.252593Z",
     "iopub.status.idle": "2025-09-30T22:45:18.320976Z",
     "shell.execute_reply": "2025-09-30T22:45:18.320174Z"
    },
    "papermill": {
     "duration": 0.075711,
     "end_time": "2025-09-30T22:45:18.322040",
     "exception": false,
     "start_time": "2025-09-30T22:45:18.246329",
     "status": "completed"
    },
    "tags": []
   },
   "outputs": [
    {
     "name": "stderr",
     "output_type": "stream",
     "text": [
      "/tmp/ipykernel_19/1307861462.py:10: FutureWarning: Downcasting object dtype arrays on .fillna, .ffill, .bfill is deprecated and will change in a future version. Call result.infer_objects(copy=False) instead. To opt-in to the future behavior, set `pd.set_option('future.no_silent_downcasting', True)`\n",
      "  train_df.is_mc_answer_correct = train_df.is_mc_answer_correct.fillna(False)\n",
      "/tmp/ipykernel_19/1307861462.py:13: FutureWarning: Downcasting object dtype arrays on .fillna, .ffill, .bfill is deprecated and will change in a future version. Call result.infer_objects(copy=False) instead. To opt-in to the future behavior, set `pd.set_option('future.no_silent_downcasting', True)`\n",
      "  test_df.is_mc_answer_correct = test_df.is_mc_answer_correct.fillna(False)\n"
     ]
    }
   ],
   "source": [
    "idx = train_df.Category.str.contains(\"True\", case=False)\n",
    "tmp = train_df.loc[idx].copy()\n",
    "tmp[\"c\"] = tmp.groupby([\"QuestionId\", \"MC_Answer\"]).MC_Answer.transform(\"count\")\n",
    "tmp = tmp.sort_values(\"c\", ascending=False)\n",
    "tmp = tmp.drop_duplicates([\"QuestionId\"])\n",
    "tmp = tmp[[\"QuestionId\", \"MC_Answer\"]]\n",
    "tmp[\"is_mc_answer_correct\"] = True\n",
    "\n",
    "train_df = train_df.merge(tmp, on=[\"QuestionId\", \"MC_Answer\"], how=\"left\")\n",
    "train_df.is_mc_answer_correct = train_df.is_mc_answer_correct.fillna(False)\n",
    "\n",
    "test_df = test_df.merge(tmp, on=[\"QuestionId\", \"MC_Answer\"], how=\"left\")\n",
    "test_df.is_mc_answer_correct = test_df.is_mc_answer_correct.fillna(False)"
   ]
  },
  {
   "cell_type": "code",
   "execution_count": 12,
   "id": "837fb01e",
   "metadata": {
    "execution": {
     "iopub.execute_input": "2025-09-30T22:45:18.334574Z",
     "iopub.status.busy": "2025-09-30T22:45:18.334017Z",
     "iopub.status.idle": "2025-09-30T22:45:18.355186Z",
     "shell.execute_reply": "2025-09-30T22:45:18.354486Z"
    },
    "papermill": {
     "duration": 0.028487,
     "end_time": "2025-09-30T22:45:18.356253",
     "exception": false,
     "start_time": "2025-09-30T22:45:18.327766",
     "status": "completed"
    },
    "tags": []
   },
   "outputs": [
    {
     "data": {
      "text/html": [
       "<div>\n",
       "<style scoped>\n",
       "    .dataframe tbody tr th:only-of-type {\n",
       "        vertical-align: middle;\n",
       "    }\n",
       "\n",
       "    .dataframe tbody tr th {\n",
       "        vertical-align: top;\n",
       "    }\n",
       "\n",
       "    .dataframe thead th {\n",
       "        text-align: right;\n",
       "    }\n",
       "</style>\n",
       "<table border=\"1\" class=\"dataframe\">\n",
       "  <thead>\n",
       "    <tr style=\"text-align: right;\">\n",
       "      <th></th>\n",
       "      <th>row_id</th>\n",
       "      <th>QuestionId</th>\n",
       "      <th>QuestionText</th>\n",
       "      <th>MC_Answer</th>\n",
       "      <th>StudentExplanation</th>\n",
       "      <th>is_mc_answer_correct</th>\n",
       "      <th>stringified_input</th>\n",
       "    </tr>\n",
       "  </thead>\n",
       "  <tbody>\n",
       "    <tr>\n",
       "      <th>0</th>\n",
       "      <td>36696</td>\n",
       "      <td>31772</td>\n",
       "      <td>What fraction of the shape is not shaded? Give...</td>\n",
       "      <td>\\( \\frac{1}{3} \\)</td>\n",
       "      <td>I think that 1/3 is the answer, as it's the si...</td>\n",
       "      <td>True</td>\n",
       "      <td>Mathematical Problem Analysis:\\n\\nQuestion: Wh...</td>\n",
       "    </tr>\n",
       "    <tr>\n",
       "      <th>1</th>\n",
       "      <td>36697</td>\n",
       "      <td>31772</td>\n",
       "      <td>What fraction of the shape is not shaded? Give...</td>\n",
       "      <td>\\( \\frac{3}{6} \\)</td>\n",
       "      <td>i think this answer is because 3 triangles are...</td>\n",
       "      <td>False</td>\n",
       "      <td>Mathematical Problem Analysis:\\n\\nQuestion: Wh...</td>\n",
       "    </tr>\n",
       "    <tr>\n",
       "      <th>2</th>\n",
       "      <td>36698</td>\n",
       "      <td>32835</td>\n",
       "      <td>Which number is the greatest?</td>\n",
       "      <td>\\( 6.2 \\)</td>\n",
       "      <td>because the 2 makes it higher than the others.</td>\n",
       "      <td>True</td>\n",
       "      <td>Mathematical Problem Analysis:\\n\\nQuestion: Wh...</td>\n",
       "    </tr>\n",
       "  </tbody>\n",
       "</table>\n",
       "</div>"
      ],
      "text/plain": [
       "   row_id  QuestionId                                       QuestionText  \\\n",
       "0   36696       31772  What fraction of the shape is not shaded? Give...   \n",
       "1   36697       31772  What fraction of the shape is not shaded? Give...   \n",
       "2   36698       32835                      Which number is the greatest?   \n",
       "\n",
       "           MC_Answer                                 StudentExplanation  \\\n",
       "0  \\( \\frac{1}{3} \\)  I think that 1/3 is the answer, as it's the si...   \n",
       "1  \\( \\frac{3}{6} \\)  i think this answer is because 3 triangles are...   \n",
       "2          \\( 6.2 \\)     because the 2 makes it higher than the others.   \n",
       "\n",
       "   is_mc_answer_correct                                  stringified_input  \n",
       "0                  True  Mathematical Problem Analysis:\\n\\nQuestion: Wh...  \n",
       "1                 False  Mathematical Problem Analysis:\\n\\nQuestion: Wh...  \n",
       "2                  True  Mathematical Problem Analysis:\\n\\nQuestion: Wh...  "
      ]
     },
     "execution_count": 12,
     "metadata": {},
     "output_type": "execute_result"
    }
   ],
   "source": [
    "test_df[\"stringified_input\"] = test_df.apply(\n",
    "    lambda row: stringify_input(row, MODEL_NAME, NEW_PROMPT), axis=1\n",
    ")\n",
    "test_df.head()"
   ]
  },
  {
   "cell_type": "code",
   "execution_count": 13,
   "id": "058ccab0",
   "metadata": {
    "execution": {
     "iopub.execute_input": "2025-09-30T22:45:18.369275Z",
     "iopub.status.busy": "2025-09-30T22:45:18.368768Z",
     "iopub.status.idle": "2025-09-30T22:45:18.373247Z",
     "shell.execute_reply": "2025-09-30T22:45:18.372715Z"
    },
    "papermill": {
     "duration": 0.012105,
     "end_time": "2025-09-30T22:45:18.374204",
     "exception": false,
     "start_time": "2025-09-30T22:45:18.362099",
     "status": "completed"
    },
    "tags": []
   },
   "outputs": [
    {
     "data": {
      "text/plain": [
       "array([\"Mathematical Problem Analysis:\\n\\nQuestion: What fraction of the shape is not shaded? Give your answer in its simplest form. [Image: A triangle split into 9 equal smaller triangles. 6 of them are shaded.]\\nStudent Answer: ( (1)/(3) ) (This answer is correct)\\nStudent Reasoning: I think that 1/3 is the answer, as it's the simplest form of 3/9.\\n\\nTask: Identify the specific misconception or confirm correct understanding.\\n\\nCommon misconceptions in this area include:\\n- Arithmetic errors\\n- Conceptual misunderstandings\\n- Procedural mistakes\\n- Misapplication of rules\\n\\nStudent's misconception category:\",\n",
       "       \"Mathematical Problem Analysis:\\n\\nQuestion: What fraction of the shape is not shaded? Give your answer in its simplest form. [Image: A triangle split into 9 equal smaller triangles. 6 of them are shaded.]\\nStudent Answer: ( (3)/(6) ) (This answer is incorrect)\\nStudent Reasoning: i think this answer is because 3 triangles are white and 6 triangle are blue.\\n\\nTask: Identify the specific misconception or confirm correct understanding.\\n\\nCommon misconceptions in this area include:\\n- Arithmetic errors\\n- Conceptual misunderstandings\\n- Procedural mistakes\\n- Misapplication of rules\\n\\nStudent's misconception category:\",\n",
       "       \"Mathematical Problem Analysis:\\n\\nQuestion: Which number is the greatest?\\nStudent Answer: ( 6.2 ) (This answer is correct)\\nStudent Reasoning: because the 2 makes it higher than the others.\\n\\nTask: Identify the specific misconception or confirm correct understanding.\\n\\nCommon misconceptions in this area include:\\n- Arithmetic errors\\n- Conceptual misunderstandings\\n- Procedural mistakes\\n- Misapplication of rules\\n\\nStudent's misconception category:\"],\n",
       "      dtype=object)"
      ]
     },
     "execution_count": 13,
     "metadata": {},
     "output_type": "execute_result"
    }
   ],
   "source": [
    "test_df[\"stringified_input\"].values[:5]"
   ]
  },
  {
   "cell_type": "code",
   "execution_count": 14,
   "id": "5636bb02",
   "metadata": {
    "execution": {
     "iopub.execute_input": "2025-09-30T22:45:18.386575Z",
     "iopub.status.busy": "2025-09-30T22:45:18.386131Z",
     "iopub.status.idle": "2025-09-30T22:45:18.527711Z",
     "shell.execute_reply": "2025-09-30T22:45:18.526977Z"
    },
    "papermill": {
     "duration": 0.148831,
     "end_time": "2025-09-30T22:45:18.528816",
     "exception": false,
     "start_time": "2025-09-30T22:45:18.379985",
     "status": "completed"
    },
    "tags": []
   },
   "outputs": [
    {
     "data": {
      "application/vnd.jupyter.widget-view+json": {
       "model_id": "0804de32baa1498b883ec39fa4d1eeb4",
       "version_major": 2,
       "version_minor": 0
      },
      "text/plain": [
       "Map:   0%|          | 0/3 [00:00<?, ? examples/s]"
      ]
     },
     "metadata": {},
     "output_type": "display_data"
    }
   ],
   "source": [
    "test_ds = Dataset.from_pandas(test_df[[\"stringified_input\"]])\n",
    "test_ds = test_ds.map(tokenize_function, batched=True)"
   ]
  },
  {
   "cell_type": "code",
   "execution_count": 15,
   "id": "cc26d2ed",
   "metadata": {
    "execution": {
     "iopub.execute_input": "2025-09-30T22:45:18.541795Z",
     "iopub.status.busy": "2025-09-30T22:45:18.541588Z",
     "iopub.status.idle": "2025-09-30T22:45:18.803113Z",
     "shell.execute_reply": "2025-09-30T22:45:18.802336Z"
    },
    "papermill": {
     "duration": 0.269283,
     "end_time": "2025-09-30T22:45:18.804410",
     "exception": false,
     "start_time": "2025-09-30T22:45:18.535127",
     "status": "completed"
    },
    "tags": []
   },
   "outputs": [
    {
     "data": {
      "image/png": "[encoded data removed]",
      "text/plain": [
       "<Figure size 640x480 with 1 Axes>"
      ]
     },
     "metadata": {},
     "output_type": "display_data"
    }
   ],
   "source": [
    "lengths = [len(tokenizer.encode(t, truncation=False)) for t in test_ds[\"stringified_input\"]]\n",
    "\n",
    "plt.hist(lengths, bins=50)\n",
    "plt.title(\"Token Length Distribution\")\n",
    "plt.xlabel(\"Number of tokens\")\n",
    "plt.ylabel(\"Frequency\")\n",
    "plt.grid(True)\n",
    "plt.show()"
   ]
  },
  {
   "cell_type": "code",
   "execution_count": 16,
   "id": "e309d28b",
   "metadata": {
    "execution": {
     "iopub.execute_input": "2025-09-30T22:45:18.818893Z",
     "iopub.status.busy": "2025-09-30T22:45:18.818179Z",
     "iopub.status.idle": "2025-09-30T22:45:18.824125Z",
     "shell.execute_reply": "2025-09-30T22:45:18.823502Z"
    },
    "papermill": {
     "duration": 0.013961,
     "end_time": "2025-09-30T22:45:18.825124",
     "exception": false,
     "start_time": "2025-09-30T22:45:18.811163",
     "status": "completed"
    },
    "tags": []
   },
   "outputs": [
    {
     "name": "stdout",
     "output_type": "stream",
     "text": [
      "There are 0 train sample(s) with more than 256 tokens\n"
     ]
    },
    {
     "data": {
      "text/plain": [
       "array([135, 130,  90])"
      ]
     },
     "execution_count": 16,
     "metadata": {},
     "output_type": "execute_result"
    }
   ],
   "source": [
    "L = (np.array(lengths) > MAX_LEN).sum()\n",
    "print(f\"There are {L} train sample(s) with more than {MAX_LEN} tokens\")\n",
    "np.sort(lengths)[::-1]"
   ]
  },
  {
   "cell_type": "code",
   "execution_count": 17,
   "id": "9e3ec857",
   "metadata": {
    "execution": {
     "iopub.execute_input": "2025-09-30T22:45:18.839026Z",
     "iopub.status.busy": "2025-09-30T22:45:18.838376Z",
     "iopub.status.idle": "2025-09-30T22:45:18.887785Z",
     "shell.execute_reply": "2025-09-30T22:45:18.886899Z"
    },
    "papermill": {
     "duration": 0.057516,
     "end_time": "2025-09-30T22:45:18.889029",
     "exception": false,
     "start_time": "2025-09-30T22:45:18.831513",
     "status": "completed"
    },
    "tags": []
   },
   "outputs": [
    {
     "name": "stderr",
     "output_type": "stream",
     "text": [
      "/kaggle/input/map-utilities/utils.py:226: FutureWarning: `tokenizer` is deprecated and will be removed in version 5.0.0 for `Trainer.__init__`. Use `processing_class` instead.\n",
      "  return Trainer(\n"
     ]
    }
   ],
   "source": [
    "training_args = get_training_arguments(bf16_support=\"/kaggle\" not in ROOT_PATH)\n",
    "trainer = get_trainer(\n",
    "    seq_model,\n",
    "    tokenizer,\n",
    "    training_args,\n",
    "    test_ds,\n",
    "    test_ds,\n",
    ")"
   ]
  },
  {
   "cell_type": "code",
   "execution_count": 18,
   "id": "7ef360c3",
   "metadata": {
    "execution": {
     "iopub.execute_input": "2025-09-30T22:45:18.903022Z",
     "iopub.status.busy": "2025-09-30T22:45:18.902605Z",
     "iopub.status.idle": "2025-09-30T22:45:19.961299Z",
     "shell.execute_reply": "2025-09-30T22:45:19.960487Z"
    },
    "papermill": {
     "duration": 1.066822,
     "end_time": "2025-09-30T22:45:19.962585",
     "exception": false,
     "start_time": "2025-09-30T22:45:18.895763",
     "status": "completed"
    },
    "tags": []
   },
   "outputs": [
    {
     "data": {
      "text/html": [],
      "text/plain": [
       "<IPython.core.display.HTML object>"
      ]
     },
     "metadata": {},
     "output_type": "display_data"
    }
   ],
   "source": [
    "predictions = trainer.predict(test_ds)\n",
    "probs = torch.nn.functional.softmax(torch.tensor(predictions.predictions), dim=1).numpy()"
   ]
  },
  {
   "cell_type": "code",
   "execution_count": 19,
   "id": "04375d48",
   "metadata": {
    "execution": {
     "iopub.execute_input": "2025-09-30T22:45:19.979243Z",
     "iopub.status.busy": "2025-09-30T22:45:19.979002Z",
     "iopub.status.idle": "2025-09-30T22:45:19.992908Z",
     "shell.execute_reply": "2025-09-30T22:45:19.992361Z"
    },
    "papermill": {
     "duration": 0.022692,
     "end_time": "2025-09-30T22:45:19.993950",
     "exception": false,
     "start_time": "2025-09-30T22:45:19.971258",
     "status": "completed"
    },
    "tags": []
   },
   "outputs": [
    {
     "data": {
      "text/html": [
       "<div>\n",
       "<style scoped>\n",
       "    .dataframe tbody tr th:only-of-type {\n",
       "        vertical-align: middle;\n",
       "    }\n",
       "\n",
       "    .dataframe tbody tr th {\n",
       "        vertical-align: top;\n",
       "    }\n",
       "\n",
       "    .dataframe thead th {\n",
       "        text-align: right;\n",
       "    }\n",
       "</style>\n",
       "<table border=\"1\" class=\"dataframe\">\n",
       "  <thead>\n",
       "    <tr style=\"text-align: right;\">\n",
       "      <th></th>\n",
       "      <th>row_id</th>\n",
       "      <th>Category:Misconception</th>\n",
       "    </tr>\n",
       "  </thead>\n",
       "  <tbody>\n",
       "    <tr>\n",
       "      <th>0</th>\n",
       "      <td>36696</td>\n",
       "      <td>True_Neither:NA False_Misconception:Wrong_Oper...</td>\n",
       "    </tr>\n",
       "    <tr>\n",
       "      <th>1</th>\n",
       "      <td>36697</td>\n",
       "      <td>True_Neither:NA False_Misconception:Wrong_Oper...</td>\n",
       "    </tr>\n",
       "    <tr>\n",
       "      <th>2</th>\n",
       "      <td>36698</td>\n",
       "      <td>True_Neither:NA False_Misconception:Wrong_Oper...</td>\n",
       "    </tr>\n",
       "  </tbody>\n",
       "</table>\n",
       "</div>"
      ],
      "text/plain": [
       "   row_id                             Category:Misconception\n",
       "0   36696  True_Neither:NA False_Misconception:Wrong_Oper...\n",
       "1   36697  True_Neither:NA False_Misconception:Wrong_Oper...\n",
       "2   36698  True_Neither:NA False_Misconception:Wrong_Oper..."
      ]
     },
     "execution_count": 19,
     "metadata": {},
     "output_type": "execute_result"
    }
   ],
   "source": [
    "top3 = np.argsort(-probs, axis=1)[:, :3]\n",
    "\n",
    "# Decode numeric class indices to original string labels\n",
    "flat_top3 = top3.flatten()\n",
    "decoded_labels = le.inverse_transform(flat_top3)\n",
    "top3_labels = decoded_labels.reshape(top3.shape)\n",
    "\n",
    "# Join 3 labels per row with space\n",
    "joined_preds = [\" \".join(row) for row in top3_labels]\n",
    "\n",
    "# Save submission\n",
    "sub = pd.DataFrame({\n",
    "    \"row_id\": test_df.row_id.values,\n",
    "    \"Category:Misconception\": joined_preds\n",
    "})\n",
    "sub.to_csv(\"submission.csv\", index=False)\n",
    "sub.head()"
   ]
  },
  {
   "cell_type": "code",
   "execution_count": null,
   "id": "b0ddd04b",
   "metadata": {
    "papermill": {
     "duration": 0.006221,
     "end_time": "2025-09-30T22:45:20.006851",
     "exception": false,
     "start_time": "2025-09-30T22:45:20.000630",
     "status": "completed"
    },
    "tags": []
   },
   "outputs": [],
   "source": []
  }
 ],
 "metadata": {
  "kaggle": {
   "accelerator": "nvidiaTeslaT4",
   "dataSources": [
    {
     "databundleVersionId": 12957508,
     "isSourceIdPinned": false,
     "sourceId": 104383,
     "sourceType": "competition"
    },
    {
     "datasetId": 7922715,
     "sourceId": 13174511,
     "sourceType": "datasetVersion"
    },
    {
     "isSourceIdPinned": false,
     "modelId": 91102,
     "modelInstanceId": 68809,
     "sourceId": 104449,
     "sourceType": "modelInstanceVersion"
    },
    {
     "isSourceIdPinned": false,
     "modelId": 76277,
     "modelInstanceId": 72256,
     "sourceId": 104453,
     "sourceType": "modelInstanceVersion"
    },
    {
     "isSourceIdPinned": false,
     "modelId": 122034,
     "modelInstanceId": 97888,
     "sourceId": 116482,
     "sourceType": "modelInstanceVersion"
    },
    {
     "isSourceIdPinned": false,
     "modelId": 322000,
     "modelInstanceId": 301527,
     "sourceId": 363149,
     "sourceType": "modelInstanceVersion"
    },
    {
     "isSourceIdPinned": false,
     "modelId": 362024,
     "modelInstanceId": 340783,
     "sourceId": 417773,
     "sourceType": "modelInstanceVersion"
    },
    {
     "isSourceIdPinned": false,
     "modelId": 368803,
     "modelInstanceId": 347543,
     "sourceId": 426333,
     "sourceType": "modelInstanceVersion"
    },
    {
     "isSourceIdPinned": false,
     "modelId": 430043,
     "modelInstanceId": 412260,
     "sourceId": 525587,
     "sourceType": "modelInstanceVersion"
    },
    {
     "isSourceIdPinned": false,
     "modelId": 430436,
     "modelInstanceId": 412674,
     "sourceId": 527052,
     "sourceType": "modelInstanceVersion"
    },
    {
     "isSourceIdPinned": false,
     "modelId": 432081,
     "modelInstanceId": 414331,
     "sourceId": 529663,
     "sourceType": "modelInstanceVersion"
    },
    {
     "isSourceIdPinned": false,
     "modelId": 432975,
     "modelInstanceId": 415216,
     "sourceId": 531369,
     "sourceType": "modelInstanceVersion"
    },
    {
     "isSourceIdPinned": false,
     "modelId": 433091,
     "modelInstanceId": 415332,
     "sourceId": 531620,
     "sourceType": "modelInstanceVersion"
    },
    {
     "isSourceIdPinned": false,
     "modelId": 432951,
     "modelInstanceId": 415190,
     "sourceId": 551461,
     "sourceType": "modelInstanceVersion"
    },
    {
     "isSourceIdPinned": false,
     "modelId": 430142,
     "modelInstanceId": 412373,
     "sourceId": 577006,
     "sourceType": "modelInstanceVersion"
    },
    {
     "isSourceIdPinned": false,
     "modelId": 429550,
     "modelInstanceId": 411748,
     "sourceId": 582501,
     "sourceType": "modelInstanceVersion"
    },
    {
     "isSourceIdPinned": false,
     "modelId": 430843,
     "modelInstanceId": 413104,
     "sourceId": 530015,
     "sourceType": "modelInstanceVersion"
    },
    {
     "isSourceIdPinned": true,
     "modelId": 461517,
     "modelInstanceId": 445046,
     "sourceId": 594582,
     "sourceType": "modelInstanceVersion"
    }
   ],
   "isGpuEnabled": true,
   "isInternetEnabled": false,
   "language": "python",
   "sourceType": "notebook"
  },
  "kernelspec": {
   "display_name": "Python 3",
   "language": "python",
   "name": "python3"
  },
  "language_info": {
   "codemirror_mode": {
    "name": "ipython",
    "version": 3
   },
   "file_extension": ".py",
   "mimetype": "text/x-python",
   "name": "python",
   "nbconvert_exporter": "python",
   "pygments_lexer": "ipython3",
   "version": "3.11.13"
  },
  "papermill": {
   "default_parameters": {},
   "duration": 100.383404,
   "end_time": "2025-09-30T22:45:22.865811",
   "environment_variables": {},
   "exception": null,
   "input_path": "__notebook__.ipynb",
   "output_path": "__notebook__.ipynb",
   "parameters": {},
   "start_time": "2025-09-30T22:43:42.482407",
   "version": "2.6.0"
  },
  "widgets": {
   "application/vnd.jupyter.widget-state+json": {
    "state": {
     "053d37a13df64355938b520fba81454f": {
      "model_module": "@jupyter-widgets/base",
      "model_module_version": "2.0.0",
      "model_name": "LayoutModel",
      "state": {
       "_model_module": "@jupyter-widgets/base",
       "_model_module_version": "2.0.0",
       "_model_name": "LayoutModel",
       "_view_count": null,
       "_view_module": "@jupyter-widgets/base",
       "_view_module_version": "2.0.0",
       "_view_name": "LayoutView",
       "align_content": null,
       "align_items": null,
       "align_self": null,
       "border_bottom": null,
       "border_left": null,
       "border_right": null,
       "border_top": null,
       "bottom": null,
       "display": null,
       "flex": null,
       "flex_flow": null,
       "grid_area": null,
       "grid_auto_columns": null,
       "grid_auto_flow": null,
       "grid_auto_rows": null,
       "grid_column": null,
       "grid_gap": null,
       "grid_row": null,
       "grid_template_areas": null,
       "grid_template_columns": null,
       "grid_template_rows": null,
       "height": null,
       "justify_content": null,
       "justify_items": null,
       "left": null,
       "margin": null,
       "max_height": null,
       "max_width": null,
       "min_height": null,
       "min_width": null,
       "object_fit": null,
       "object_position": null,
       "order": null,
       "overflow": null,
       "padding": null,
       "right": null,
       "top": null,
       "visibility": null,
       "width": null
      }
     },
     "0804de32baa1498b883ec39fa4d1eeb4": {
      "model_module": "@jupyter-widgets/controls",
      "model_module_version": "2.0.0",
      "model_name": "HBoxModel",
      "state": {
       "_dom_classes": [],
       "_model_module": "@jupyter-widgets/controls",
       "_model_module_version": "2.0.0",
       "_model_name": "HBoxModel",
       "_view_count": null,
       "_view_module": "@jupyter-widgets/controls",
       "_view_module_version": "2.0.0",
       "_view_name": "HBoxView",
       "box_style": "",
       "children": [
        "IPY_MODEL_0b27c66ccf4241baa42eea2a09b15db2",
        "IPY_MODEL_dedad8f03b3349af85bf3e4cc0988bb7",
        "IPY_MODEL_7ef28dd2e5884e06a6b4b075bcfc4498"
       ],
       "layout": "IPY_MODEL_af40f3e90f0c4f4c809421f13a38cd7c",
       "tabbable": null,
       "tooltip": null
      }
     },
     "0b27c66ccf4241baa42eea2a09b15db2": {
      "model_module": "@jupyter-widgets/controls",
      "model_module_version": "2.0.0",
      "model_name": "HTMLModel",
      "state": {
       "_dom_classes": [],
       "_model_module": "@jupyter-widgets/controls",
       "_model_module_version": "2.0.0",
       "_model_name": "HTMLModel",
       "_view_count": null,
       "_view_module": "@jupyter-widgets/controls",
       "_view_module_version": "2.0.0",
       "_view_name": "HTMLView",
       "description": "",
       "description_allow_html": false,
       "layout": "IPY_MODEL_7fcd4e2cf5f548fda1340710d906d96a",
       "placeholder": "​",
       "style": "IPY_MODEL_9aabed83852544a7a8e69b55d2f86e95",
       "tabbable": null,
       "tooltip": null,
       "value": "Map: 100%"
      }
     },
     "15d4f085a3e446309269e82710e1a5f9": {
      "model_module": "@jupyter-widgets/controls",
      "model_module_version": "2.0.0",
      "model_name": "FloatProgressModel",
      "state": {
       "_dom_classes": [],
       "_model_module": "@jupyter-widgets/controls",
       "_model_module_version": "2.0.0",
       "_model_name": "FloatProgressModel",
       "_view_count": null,
       "_view_module": "@jupyter-widgets/controls",
       "_view_module_version": "2.0.0",
       "_view_name": "ProgressView",
       "bar_style": "success",
       "description": "",
       "description_allow_html": false,
       "layout": "IPY_MODEL_8d084bc61c474f37a72a376c053eab1d",
       "max": 2.0,
       "min": 0.0,
       "orientation": "horizontal",
       "style": "IPY_MODEL_5cfb824b9d63422aa31151ad936cf746",
       "tabbable": null,
       "tooltip": null,
       "value": 2.0
      }
     },
     "181719b4f1a14809ab82cc65214e3f5b": {
      "model_module": "@jupyter-widgets/base",
      "model_module_version": "2.0.0",
      "model_name": "LayoutModel",
      "state": {
       "_model_module": "@jupyter-widgets/base",
       "_model_module_version": "2.0.0",
       "_model_name": "LayoutModel",
       "_view_count": null,
       "_view_module": "@jupyter-widgets/base",
       "_view_module_version": "2.0.0",
       "_view_name": "LayoutView",
       "align_content": null,
       "align_items": null,
       "align_self": null,
       "border_bottom": null,
       "border_left": null,
       "border_right": null,
       "border_top": null,
       "bottom": null,
       "display": null,
       "flex": null,
       "flex_flow": null,
       "grid_area": null,
       "grid_auto_columns": null,
       "grid_auto_flow": null,
       "grid_auto_rows": null,
       "grid_column": null,
       "grid_gap": null,
       "grid_row": null,
       "grid_template_areas": null,
       "grid_template_columns": null,
       "grid_template_rows": null,
       "height": null,
       "justify_content": null,
       "justify_items": null,
       "left": null,
       "margin": null,
       "max_height": null,
       "max_width": null,
       "min_height": null,
       "min_width": null,
       "object_fit": null,
       "object_position": null,
       "order": null,
       "overflow": null,
       "padding": null,
       "right": null,
       "top": null,
       "visibility": null,
       "width": null
      }
     },
     "18b38d4a80c14eabb54ecda1e8915c58": {
      "model_module": "@jupyter-widgets/controls",
      "model_module_version": "2.0.0",
      "model_name": "ProgressStyleModel",
      "state": {
       "_model_module": "@jupyter-widgets/controls",
       "_model_module_version": "2.0.0",
       "_model_name": "ProgressStyleModel",
       "_view_count": null,
       "_view_module": "@jupyter-widgets/base",
       "_view_module_version": "2.0.0",
       "_view_name": "StyleView",
       "bar_color": null,
       "description_width": ""
      }
     },
     "2e7d0ea0a6104b1cb9e617cf52bbb2ad": {
      "model_module": "@jupyter-widgets/controls",
      "model_module_version": "2.0.0",
      "model_name": "HTMLModel",
      "state": {
       "_dom_classes": [],
       "_model_module": "@jupyter-widgets/controls",
       "_model_module_version": "2.0.0",
       "_model_name": "HTMLModel",
       "_view_count": null,
       "_view_module": "@jupyter-widgets/controls",
       "_view_module_version": "2.0.0",
       "_view_name": "HTMLView",
       "description": "",
       "description_allow_html": false,
       "layout": "IPY_MODEL_4d6b694b4075412387357c3b4d4a80c6",
       "placeholder": "​",
       "style": "IPY_MODEL_615eb992cc0a4a1398a67640e7cfc85e",
       "tabbable": null,
       "tooltip": null,
       "value": " 2/2 [00:37&lt;00:00, 17.99s/it]"
      }
     },
     "4d6b694b4075412387357c3b4d4a80c6": {
      "model_module": "@jupyter-widgets/base",
      "model_module_version": "2.0.0",
      "model_name": "LayoutModel",
      "state": {
       "_model_module": "@jupyter-widgets/base",
       "_model_module_version": "2.0.0",
       "_model_name": "LayoutModel",
       "_view_count": null,
       "_view_module": "@jupyter-widgets/base",
       "_view_module_version": "2.0.0",
       "_view_name": "LayoutView",
       "align_content": null,
       "align_items": null,
       "align_self": null,
       "border_bottom": null,
       "border_left": null,
       "border_right": null,
       "border_top": null,
       "bottom": null,
       "display": null,
       "flex": null,
       "flex_flow": null,
       "grid_area": null,
       "grid_auto_columns": null,
       "grid_auto_flow": null,
       "grid_auto_rows": null,
       "grid_column": null,
       "grid_gap": null,
       "grid_row": null,
       "grid_template_areas": null,
       "grid_template_columns": null,
       "grid_template_rows": null,
       "height": null,
       "justify_content": null,
       "justify_items": null,
       "left": null,
       "margin": null,
       "max_height": null,
       "max_width": null,
       "min_height": null,
       "min_width": null,
       "object_fit": null,
       "object_position": null,
       "order": null,
       "overflow": null,
       "padding": null,
       "right": null,
       "top": null,
       "visibility": null,
       "width": null
      }
     },
     "5cfb824b9d63422aa31151ad936cf746": {
      "model_module": "@jupyter-widgets/controls",
      "model_module_version": "2.0.0",
      "model_name": "ProgressStyleModel",
      "state": {
       "_model_module": "@jupyter-widgets/controls",
       "_model_module_version": "2.0.0",
       "_model_name": "ProgressStyleModel",
       "_view_count": null,
       "_view_module": "@jupyter-widgets/base",
       "_view_module_version": "2.0.0",
       "_view_name": "StyleView",
       "bar_color": null,
       "description_width": ""
      }
     },
     "615eb992cc0a4a1398a67640e7cfc85e": {
      "model_module": "@jupyter-widgets/controls",
      "model_module_version": "2.0.0",
      "model_name": "HTMLStyleModel",
      "state": {
       "_model_module": "@jupyter-widgets/controls",
       "_model_module_version": "2.0.0",
       "_model_name": "HTMLStyleModel",
       "_view_count": null,
       "_view_module": "@jupyter-widgets/base",
       "_view_module_version": "2.0.0",
       "_view_name": "StyleView",
       "background": null,
       "description_width": "",
       "font_size": null,
       "text_color": null
      }
     },
     "702fcc5d5d334886a00e92437378c907": {
      "model_module": "@jupyter-widgets/base",
      "model_module_version": "2.0.0",
      "model_name": "LayoutModel",
      "state": {
       "_model_module": "@jupyter-widgets/base",
       "_model_module_version": "2.0.0",
       "_model_name": "LayoutModel",
       "_view_count": null,
       "_view_module": "@jupyter-widgets/base",
       "_view_module_version": "2.0.0",
       "_view_name": "LayoutView",
       "align_content": null,
       "align_items": null,
       "align_self": null,
       "border_bottom": null,
       "border_left": null,
       "border_right": null,
       "border_top": null,
       "bottom": null,
       "display": null,
       "flex": null,
       "flex_flow": null,
       "grid_area": null,
       "grid_auto_columns": null,
       "grid_auto_flow": null,
       "grid_auto_rows": null,
       "grid_column": null,
       "grid_gap": null,
       "grid_row": null,
       "grid_template_areas": null,
       "grid_template_columns": null,
       "grid_template_rows": null,
       "height": null,
       "justify_content": null,
       "justify_items": null,
       "left": null,
       "margin": null,
       "max_height": null,
       "max_width": null,
       "min_height": null,
       "min_width": null,
       "object_fit": null,
       "object_position": null,
       "order": null,
       "overflow": null,
       "padding": null,
       "right": null,
       "top": null,
       "visibility": null,
       "width": null
      }
     },
     "7ef28dd2e5884e06a6b4b075bcfc4498": {
      "model_module": "@jupyter-widgets/controls",
      "model_module_version": "2.0.0",
      "model_name": "HTMLModel",
      "state": {
       "_dom_classes": [],
       "_model_module": "@jupyter-widgets/controls",
       "_model_module_version": "2.0.0",
       "_model_name": "HTMLModel",
       "_view_count": null,
       "_view_module": "@jupyter-widgets/controls",
       "_view_module_version": "2.0.0",
       "_view_name": "HTMLView",
       "description": "",
       "description_allow_html": false,
       "layout": "IPY_MODEL_702fcc5d5d334886a00e92437378c907",
       "placeholder": "​",
       "style": "IPY_MODEL_970d075b354248589ee6da553f5f4ca0",
       "tabbable": null,
       "tooltip": null,
       "value": " 3/3 [00:00&lt;00:00, 88.81 examples/s]"
      }
     },
     "7fcd4e2cf5f548fda1340710d906d96a": {
      "model_module": "@jupyter-widgets/base",
      "model_module_version": "2.0.0",
      "model_name": "LayoutModel",
      "state": {
       "_model_module": "@jupyter-widgets/base",
       "_model_module_version": "2.0.0",
       "_model_name": "LayoutModel",
       "_view_count": null,
       "_view_module": "@jupyter-widgets/base",
       "_view_module_version": "2.0.0",
       "_view_name": "LayoutView",
       "align_content": null,
       "align_items": null,
       "align_self": null,
       "border_bottom": null,
       "border_left": null,
       "border_right": null,
       "border_top": null,
       "bottom": null,
       "display": null,
       "flex": null,
       "flex_flow": null,
       "grid_area": null,
       "grid_auto_columns": null,
       "grid_auto_flow": null,
       "grid_auto_rows": null,
       "grid_column": null,
       "grid_gap": null,
       "grid_row": null,
       "grid_template_areas": null,
       "grid_template_columns": null,
       "grid_template_rows": null,
       "height": null,
       "justify_content": null,
       "justify_items": null,
       "left": null,
       "margin": null,
       "max_height": null,
       "max_width": null,
       "min_height": null,
       "min_width": null,
       "object_fit": null,
       "object_position": null,
       "order": null,
       "overflow": null,
       "padding": null,
       "right": null,
       "top": null,
       "visibility": null,
       "width": null
      }
     },
     "7ff5012332004e42a6412ea07e90bdc1": {
      "model_module": "@jupyter-widgets/controls",
      "model_module_version": "2.0.0",
      "model_name": "HTMLStyleModel",
      "state": {
       "_model_module": "@jupyter-widgets/controls",
       "_model_module_version": "2.0.0",
       "_model_name": "HTMLStyleModel",
       "_view_count": null,
       "_view_module": "@jupyter-widgets/base",
       "_view_module_version": "2.0.0",
       "_view_name": "StyleView",
       "background": null,
       "description_width": "",
       "font_size": null,
       "text_color": null
      }
     },
     "839a49e341c74c9d8956199b5b6578bd": {
      "model_module": "@jupyter-widgets/base",
      "model_module_version": "2.0.0",
      "model_name": "LayoutModel",
      "state": {
       "_model_module": "@jupyter-widgets/base",
       "_model_module_version": "2.0.0",
       "_model_name": "LayoutModel",
       "_view_count": null,
       "_view_module": "@jupyter-widgets/base",
       "_view_module_version": "2.0.0",
       "_view_name": "LayoutView",
       "align_content": null,
       "align_items": null,
       "align_self": null,
       "border_bottom": null,
       "border_left": null,
       "border_right": null,
       "border_top": null,
       "bottom": null,
       "display": null,
       "flex": null,
       "flex_flow": null,
       "grid_area": null,
       "grid_auto_columns": null,
       "grid_auto_flow": null,
       "grid_auto_rows": null,
       "grid_column": null,
       "grid_gap": null,
       "grid_row": null,
       "grid_template_areas": null,
       "grid_template_columns": null,
       "grid_template_rows": null,
       "height": null,
       "justify_content": null,
       "justify_items": null,
       "left": null,
       "margin": null,
       "max_height": null,
       "max_width": null,
       "min_height": null,
       "min_width": null,
       "object_fit": null,
       "object_position": null,
       "order": null,
       "overflow": null,
       "padding": null,
       "right": null,
       "top": null,
       "visibility": null,
       "width": null
      }
     },
     "8d084bc61c474f37a72a376c053eab1d": {
      "model_module": "@jupyter-widgets/base",
      "model_module_version": "2.0.0",
      "model_name": "LayoutModel",
      "state": {
       "_model_module": "@jupyter-widgets/base",
       "_model_module_version": "2.0.0",
       "_model_name": "LayoutModel",
       "_view_count": null,
       "_view_module": "@jupyter-widgets/base",
       "_view_module_version": "2.0.0",
       "_view_name": "LayoutView",
       "align_content": null,
       "align_items": null,
       "align_self": null,
       "border_bottom": null,
       "border_left": null,
       "border_right": null,
       "border_top": null,
       "bottom": null,
       "display": null,
       "flex": null,
       "flex_flow": null,
       "grid_area": null,
       "grid_auto_columns": null,
       "grid_auto_flow": null,
       "grid_auto_rows": null,
       "grid_column": null,
       "grid_gap": null,
       "grid_row": null,
       "grid_template_areas": null,
       "grid_template_columns": null,
       "grid_template_rows": null,
       "height": null,
       "justify_content": null,
       "justify_items": null,
       "left": null,
       "margin": null,
       "max_height": null,
       "max_width": null,
       "min_height": null,
       "min_width": null,
       "object_fit": null,
       "object_position": null,
       "order": null,
       "overflow": null,
       "padding": null,
       "right": null,
       "top": null,
       "visibility": null,
       "width": null
      }
     },
     "970d075b354248589ee6da553f5f4ca0": {
      "model_module": "@jupyter-widgets/controls",
      "model_module_version": "2.0.0",
      "model_name": "HTMLStyleModel",
      "state": {
       "_model_module": "@jupyter-widgets/controls",
       "_model_module_version": "2.0.0",
       "_model_name": "HTMLStyleModel",
       "_view_count": null,
       "_view_module": "@jupyter-widgets/base",
       "_view_module_version": "2.0.0",
       "_view_name": "StyleView",
       "background": null,
       "description_width": "",
       "font_size": null,
       "text_color": null
      }
     },
     "9aabed83852544a7a8e69b55d2f86e95": {
      "model_module": "@jupyter-widgets/controls",
      "model_module_version": "2.0.0",
      "model_name": "HTMLStyleModel",
      "state": {
       "_model_module": "@jupyter-widgets/controls",
       "_model_module_version": "2.0.0",
       "_model_name": "HTMLStyleModel",
       "_view_count": null,
       "_view_module": "@jupyter-widgets/base",
       "_view_module_version": "2.0.0",
       "_view_name": "StyleView",
       "background": null,
       "description_width": "",
       "font_size": null,
       "text_color": null
      }
     },
     "af40f3e90f0c4f4c809421f13a38cd7c": {
      "model_module": "@jupyter-widgets/base",
      "model_module_version": "2.0.0",
      "model_name": "LayoutModel",
      "state": {
       "_model_module": "@jupyter-widgets/base",
       "_model_module_version": "2.0.0",
       "_model_name": "LayoutModel",
       "_view_count": null,
       "_view_module": "@jupyter-widgets/base",
       "_view_module_version": "2.0.0",
       "_view_name": "LayoutView",
       "align_content": null,
       "align_items": null,
       "align_self": null,
       "border_bottom": null,
       "border_left": null,
       "border_right": null,
       "border_top": null,
       "bottom": null,
       "display": null,
       "flex": null,
       "flex_flow": null,
       "grid_area": null,
       "grid_auto_columns": null,
       "grid_auto_flow": null,
       "grid_auto_rows": null,
       "grid_column": null,
       "grid_gap": null,
       "grid_row": null,
       "grid_template_areas": null,
       "grid_template_columns": null,
       "grid_template_rows": null,
       "height": null,
       "justify_content": null,
       "justify_items": null,
       "left": null,
       "margin": null,
       "max_height": null,
       "max_width": null,
       "min_height": null,
       "min_width": null,
       "object_fit": null,
       "object_position": null,
       "order": null,
       "overflow": null,
       "padding": null,
       "right": null,
       "top": null,
       "visibility": null,
       "width": null
      }
     },
     "b68d28478e7d4eb3b70d951d94a47fd7": {
      "model_module": "@jupyter-widgets/controls",
      "model_module_version": "2.0.0",
      "model_name": "HBoxModel",
      "state": {
       "_dom_classes": [],
       "_model_module": "@jupyter-widgets/controls",
       "_model_module_version": "2.0.0",
       "_model_name": "HBoxModel",
       "_view_count": null,
       "_view_module": "@jupyter-widgets/controls",
       "_view_module_version": "2.0.0",
       "_view_name": "HBoxView",
       "box_style": "",
       "children": [
        "IPY_MODEL_f4af4815e9864c63b5ec3f5fc349e4fe",
        "IPY_MODEL_15d4f085a3e446309269e82710e1a5f9",
        "IPY_MODEL_2e7d0ea0a6104b1cb9e617cf52bbb2ad"
       ],
       "layout": "IPY_MODEL_181719b4f1a14809ab82cc65214e3f5b",
       "tabbable": null,
       "tooltip": null
      }
     },
     "dedad8f03b3349af85bf3e4cc0988bb7": {
      "model_module": "@jupyter-widgets/controls",
      "model_module_version": "2.0.0",
      "model_name": "FloatProgressModel",
      "state": {
       "_dom_classes": [],
       "_model_module": "@jupyter-widgets/controls",
       "_model_module_version": "2.0.0",
       "_model_name": "FloatProgressModel",
       "_view_count": null,
       "_view_module": "@jupyter-widgets/controls",
       "_view_module_version": "2.0.0",
       "_view_name": "ProgressView",
       "bar_style": "success",
       "description": "",
       "description_allow_html": false,
       "layout": "IPY_MODEL_053d37a13df64355938b520fba81454f",
       "max": 3.0,
       "min": 0.0,
       "orientation": "horizontal",
       "style": "IPY_MODEL_18b38d4a80c14eabb54ecda1e8915c58",
       "tabbable": null,
       "tooltip": null,
       "value": 3.0
      }
     },
     "f4af4815e9864c63b5ec3f5fc349e4fe": {
      "model_module": "@jupyter-widgets/controls",
      "model_module_version": "2.0.0",
      "model_name": "HTMLModel",
      "state": {
       "_dom_classes": [],
       "_model_module": "@jupyter-widgets/controls",
       "_model_module_version": "2.0.0",
       "_model_name": "HTMLModel",
       "_view_count": null,
       "_view_module": "@jupyter-widgets/controls",
       "_view_module_version": "2.0.0",
       "_view_name": "HTMLView",
       "description": "",
       "description_allow_html": false,
       "layout": "IPY_MODEL_839a49e341c74c9d8956199b5b6578bd",
       "placeholder": "​",
       "style": "IPY_MODEL_7ff5012332004e42a6412ea07e90bdc1",
       "tabbable": null,
       "tooltip": null,
       "value": "Loading checkpoint shards: 100%"
      }
     }
    },
    "version_major": 2,
    "version_minor": 0
   }
  }
 },
 "nbformat": 4,
 "nbformat_minor": 5
}
