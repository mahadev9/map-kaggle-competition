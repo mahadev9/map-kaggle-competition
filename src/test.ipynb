{
 "cells": [
  {
   "cell_type": "code",
   "execution_count": 1,
   "id": "378eeb00",
   "metadata": {
    "execution": {
     "iopub.execute_input": "2025-10-05T23:09:17.837954Z",
     "iopub.status.busy": "2025-10-05T23:09:17.837305Z",
     "iopub.status.idle": "2025-10-05T23:09:43.256233Z",
     "shell.execute_reply": "2025-10-05T23:09:43.255525Z"
    },
    "papermill": {
     "duration": 25.427403,
     "end_time": "2025-10-05T23:09:43.257663",
     "exception": false,
     "start_time": "2025-10-05T23:09:17.830260",
     "status": "completed"
    },
    "tags": []
   },
   "outputs": [
    {
     "name": "stdout",
     "output_type": "stream",
     "text": [
      "Processing /kaggle/input/map-utilities/transformers-4.57.0-py3-none-any.whl\r\n",
      "Installing collected packages: transformers\r\n",
      "  Attempting uninstall: transformers\r\n",
      "    Found existing installation: transformers 4.52.4\r\n",
      "    Uninstalling transformers-4.52.4:\r\n",
      "      Successfully uninstalled transformers-4.52.4\r\n",
      "Successfully installed transformers-4.57.0\r\n",
      "Processing /kaggle/input/map-utilities/tokenizers-0.22.1-cp39-abi3-manylinux_2_17_x86_64.manylinux2014_x86_64.whl\r\n",
      "Installing collected packages: tokenizers\r\n",
      "  Attempting uninstall: tokenizers\r\n",
      "    Found existing installation: tokenizers 0.21.2\r\n",
      "    Uninstalling tokenizers-0.21.2:\r\n",
      "      Successfully uninstalled tokenizers-0.21.2\r\n",
      "Successfully installed tokenizers-0.22.1\r\n",
      "Processing /kaggle/input/map-utilities/bitsandbytes-0.47.0-py3-none-manylinux_2_24_x86_64.whl\r\n",
      "Installing collected packages: bitsandbytes\r\n",
      "Successfully installed bitsandbytes-0.47.0\r\n",
      "Processing /kaggle/input/map-utilities/peft-0.17.1-py3-none-any.whl\r\n",
      "Installing collected packages: peft\r\n",
      "  Attempting uninstall: peft\r\n",
      "    Found existing installation: peft 0.15.2\r\n",
      "    Uninstalling peft-0.15.2:\r\n",
      "      Successfully uninstalled peft-0.15.2\r\n",
      "Successfully installed peft-0.17.1\r\n",
      "Processing /kaggle/input/map-utilities/datasets-4.0.0-py3-none-any.whl\r\n",
      "Installing collected packages: datasets\r\n",
      "  Attempting uninstall: datasets\r\n",
      "    Found existing installation: datasets 3.6.0\r\n",
      "    Uninstalling datasets-3.6.0:\r\n",
      "      Successfully uninstalled datasets-3.6.0\r\n",
      "Successfully installed datasets-4.0.0\r\n",
      "Processing /kaggle/input/map-utilities/huggingface_hub-0.34.4-py3-none-any.whl\r\n",
      "Installing collected packages: huggingface-hub\r\n",
      "  Attempting uninstall: huggingface-hub\r\n",
      "    Found existing installation: huggingface-hub 0.33.1\r\n",
      "    Uninstalling huggingface-hub-0.33.1:\r\n",
      "      Successfully uninstalled huggingface-hub-0.33.1\r\n",
      "Successfully installed huggingface-hub-0.34.4\r\n",
      "Processing /kaggle/input/map-utilities/accelerate-1.10.0-py3-none-any.whl\r\n",
      "Installing collected packages: accelerate\r\n",
      "  Attempting uninstall: accelerate\r\n",
      "    Found existing installation: accelerate 1.8.1\r\n",
      "    Uninstalling accelerate-1.8.1:\r\n",
      "      Successfully uninstalled accelerate-1.8.1\r\n",
      "Successfully installed accelerate-1.10.0\r\n"
     ]
    }
   ],
   "source": [
    "!pip install --no-deps /kaggle/input/map-utilities/transformers-4.57.0-py3-none-any.whl\n",
    "!pip install --no-deps /kaggle/input/map-utilities/tokenizers-0.22.1-cp39-abi3-manylinux_2_17_x86_64.manylinux2014_x86_64.whl\n",
    "!pip install --no-deps /kaggle/input/map-utilities/bitsandbytes-0.47.0-py3-none-manylinux_2_24_x86_64.whl\n",
    "!pip install --no-deps /kaggle/input/map-utilities/peft-0.17.1-py3-none-any.whl\n",
    "!pip install --no-deps /kaggle/input/map-utilities/datasets-4.0.0-py3-none-any.whl\n",
    "!pip install --no-deps /kaggle/input/map-utilities/huggingface_hub-0.34.4-py3-none-any.whl\n",
    "!pip install --no-deps /kaggle/input/map-utilities/accelerate-1.10.0-py3-none-any.whl"
   ]
  },
  {
   "cell_type": "code",
   "execution_count": 2,
   "id": "4c636edc",
   "metadata": {
    "execution": {
     "iopub.execute_input": "2025-10-05T23:09:43.273016Z",
     "iopub.status.busy": "2025-10-05T23:09:43.272449Z",
     "iopub.status.idle": "2025-10-05T23:09:43.276947Z",
     "shell.execute_reply": "2025-10-05T23:09:43.276368Z"
    },
    "papermill": {
     "duration": 0.012839,
     "end_time": "2025-10-05T23:09:43.277916",
     "exception": false,
     "start_time": "2025-10-05T23:09:43.265077",
     "status": "completed"
    },
    "tags": []
   },
   "outputs": [],
   "source": [
    "import os\n",
    "import sys\n",
    "\n",
    "os.environ[\"CUDA_VISIBLE_DEVICES\"] = \"0,1\"\n",
    "\n",
    "ROOT_PATH = os.getcwd()\n",
    "if \"/kaggle\" in ROOT_PATH:\n",
    "    ROOT_PATH = \"/kaggle/input\"\n",
    "    sys.path.append(os.path.join(ROOT_PATH, \"map-utilities\"))"
   ]
  },
  {
   "cell_type": "code",
   "execution_count": 3,
   "id": "7f9cb7af",
   "metadata": {
    "execution": {
     "iopub.execute_input": "2025-10-05T23:09:43.292126Z",
     "iopub.status.busy": "2025-10-05T23:09:43.291930Z",
     "iopub.status.idle": "2025-10-05T23:10:10.521936Z",
     "shell.execute_reply": "2025-10-05T23:10:10.521326Z"
    },
    "papermill": {
     "duration": 27.238764,
     "end_time": "2025-10-05T23:10:10.523330",
     "exception": false,
     "start_time": "2025-10-05T23:09:43.284566",
     "status": "completed"
    },
    "tags": []
   },
   "outputs": [
    {
     "name": "stderr",
     "output_type": "stream",
     "text": [
      "2025-10-05 23:09:58.003354: E external/local_xla/xla/stream_executor/cuda/cuda_fft.cc:477] Unable to register cuFFT factory: Attempting to register factory for plugin cuFFT when one has already been registered\n",
      "WARNING: All log messages before absl::InitializeLog() is called are written to STDERR\n",
      "E0000 00:00:1759705798.179231      19 cuda_dnn.cc:8310] Unable to register cuDNN factory: Attempting to register factory for plugin cuDNN when one has already been registered\n",
      "E0000 00:00:1759705798.230550      19 cuda_blas.cc:1418] Unable to register cuBLAS factory: Attempting to register factory for plugin cuBLAS when one has already been registered\n"
     ]
    }
   ],
   "source": [
    "import pandas as pd\n",
    "import numpy as np\n",
    "import joblib\n",
    "import matplotlib.pyplot as plt\n",
    "\n",
    "import torch\n",
    "from datasets import Dataset\n",
    "from peft import PeftModel\n",
    "from transformers import BitsAndBytesConfig\n",
    "\n",
    "from utils import (\n",
    "    stringify_input,\n",
    "    get_model_name,\n",
    "    get_sequence_classifier,\n",
    "    get_tokenizer,\n",
    "    get_training_arguments,\n",
    "    get_trainer,\n",
    ")"
   ]
  },
  {
   "cell_type": "code",
   "execution_count": 4,
   "id": "be3897b4",
   "metadata": {
    "execution": {
     "iopub.execute_input": "2025-10-05T23:10:10.539120Z",
     "iopub.status.busy": "2025-10-05T23:10:10.538612Z",
     "iopub.status.idle": "2025-10-05T23:10:10.548831Z",
     "shell.execute_reply": "2025-10-05T23:10:10.548090Z"
    },
    "papermill": {
     "duration": 0.019434,
     "end_time": "2025-10-05T23:10:10.549964",
     "exception": false,
     "start_time": "2025-10-05T23:10:10.530530",
     "status": "completed"
    },
    "tags": []
   },
   "outputs": [
    {
     "name": "stderr",
     "output_type": "stream",
     "text": [
      "/usr/local/lib/python3.11/dist-packages/sklearn/base.py:318: UserWarning: Trying to unpickle estimator LabelEncoder from version 1.7.1 when using version 1.2.2. This might lead to breaking code or invalid results. Use at your own risk. For more info please refer to:\n",
      "https://scikit-learn.org/stable/model_persistence.html#security-maintainability-limitations\n",
      "  warnings.warn(\n"
     ]
    }
   ],
   "source": [
    "le = joblib.load(os.path.join(ROOT_PATH, \"map-utilities\", \"label_encoder.joblib\"))\n",
    "n_classes = len(le.classes_)"
   ]
  },
  {
   "cell_type": "code",
   "execution_count": 5,
   "id": "1673173b",
   "metadata": {
    "execution": {
     "iopub.execute_input": "2025-10-05T23:10:10.564179Z",
     "iopub.status.busy": "2025-10-05T23:10:10.563965Z",
     "iopub.status.idle": "2025-10-05T23:10:10.568259Z",
     "shell.execute_reply": "2025-10-05T23:10:10.567728Z"
    },
    "papermill": {
     "duration": 0.012458,
     "end_time": "2025-10-05T23:10:10.569228",
     "exception": false,
     "start_time": "2025-10-05T23:10:10.556770",
     "status": "completed"
    },
    "tags": []
   },
   "outputs": [],
   "source": [
    "# BASE_MODEL = \"modernbert-large/transformers/default/10\"\n",
    "# BASE_MODEL = \"qwen3-1.7b/transformers/default/1\"\n",
    "# BASE_MODEL = \"ettin-encoder-1b/transformers/default/8\"  # v6 is better\n",
    "# BASE_MODEL = \"qwen-3/transformers/14b/1\"\n",
    "# BASE_MODEL = \"gemma-2/transformers/gemma-2-9b-it/2\"\n",
    "BASE_MODEL = \"deepseek-r1-0528/transformers/deepseek-r1-0528-qwen3-8b/1\"\n",
    "# BASE_MODEL = \"deepseek-math/pytorch/deepseek-math-7b-instruct/1\"\n",
    "# BASE_MODEL = \"qwen-3-embedding/transformers/4b/1\"\n",
    "# BASE_MODEL = \"qwen-3-embedding/transformers/8b/1\"\n",
    "# BASE_MODEL = \"nvidia-acereason-nemotron-1.1-7b/transformers/default/1\"\n",
    "# BASE_MODEL = \"llama-3.1/transformers/8b-instruct/2\"\n",
    "\n",
    "MODEL_NAME = get_model_name(\"/kaggle\" in ROOT_PATH, ROOT_PATH, BASE_MODEL)\n",
    "ADAPTER_PATH = get_model_name(\"/kaggle\" in ROOT_PATH, ROOT_PATH, \"deepseek-r1-0528-qwen3-8b-qlora-4bit-5fold/transformers/default/1/fold_2\")\n",
    "USE_LORA = True\n",
    "USE_QLORA = False\n",
    "MAX_LEN = 256\n",
    "NEW_PROMPT = False\n",
    "\n",
    "TRAIN_PATH = os.path.join(ROOT_PATH, \"map-charting-student-math-misunderstandings\", \"train.csv\")\n",
    "TEST_PATH = os.path.join(ROOT_PATH, \"map-charting-student-math-misunderstandings\", \"test.csv\")"
   ]
  },
  {
   "cell_type": "code",
   "execution_count": 6,
   "id": "388ee21b",
   "metadata": {
    "execution": {
     "iopub.execute_input": "2025-10-05T23:10:10.583365Z",
     "iopub.status.busy": "2025-10-05T23:10:10.583164Z",
     "iopub.status.idle": "2025-10-05T23:10:10.586849Z",
     "shell.execute_reply": "2025-10-05T23:10:10.586333Z"
    },
    "papermill": {
     "duration": 0.011894,
     "end_time": "2025-10-05T23:10:10.587881",
     "exception": false,
     "start_time": "2025-10-05T23:10:10.575987",
     "status": "completed"
    },
    "tags": []
   },
   "outputs": [],
   "source": [
    "qlora_config = {\n",
    "    \"torch_dtype\": torch.float16,\n",
    "    \"device_map\": \"auto\"\n",
    "}\n",
    "\n",
    "if \"ettin-encoder\" in MODEL_NAME:\n",
    "    qlora_config.pop(\"device_map\")\n",
    "\n",
    "if USE_QLORA:\n",
    "    bnb_config = BitsAndBytesConfig(\n",
    "        load_in_4bit=True,\n",
    "        bnb_4bit_quant_type=\"nf4\",\n",
    "        bnb_4bit_compute_dtype=torch.float16,\n",
    "        bnb_4bit_use_double_quant=True,\n",
    "        bnb_4bit_quant_storage=torch.float16,\n",
    "    )\n",
    "    qlora_config[\"quantization_config\"] = bnb_config"
   ]
  },
  {
   "cell_type": "code",
   "execution_count": 7,
   "id": "a786cb42",
   "metadata": {
    "execution": {
     "iopub.execute_input": "2025-10-05T23:10:10.601983Z",
     "iopub.status.busy": "2025-10-05T23:10:10.601550Z",
     "iopub.status.idle": "2025-10-05T23:12:09.300875Z",
     "shell.execute_reply": "2025-10-05T23:12:09.299444Z"
    },
    "papermill": {
     "duration": 118.708258,
     "end_time": "2025-10-05T23:12:09.302645",
     "exception": false,
     "start_time": "2025-10-05T23:10:10.594387",
     "status": "completed"
    },
    "tags": []
   },
   "outputs": [
    {
     "name": "stderr",
     "output_type": "stream",
     "text": [
      "`torch_dtype` is deprecated! Use `dtype` instead!\n",
      "Unrecognized keys in `rope_scaling` for 'rope_type'='yarn': {'attn_factor'}\n"
     ]
    },
    {
     "data": {
      "application/vnd.jupyter.widget-view+json": {
       "model_id": "1bb5259957c749728009d21f8fe08725",
       "version_major": 2,
       "version_minor": 0
      },
      "text/plain": [
       "Loading checkpoint shards:   0%|          | 0/2 [00:00<?, ?it/s]"
      ]
     },
     "metadata": {},
     "output_type": "display_data"
    },
    {
     "name": "stderr",
     "output_type": "stream",
     "text": [
      "Some weights of Qwen3ForSequenceClassification were not initialized from the model checkpoint at /kaggle/input/deepseek-r1-0528/transformers/deepseek-r1-0528-qwen3-8b/1 and are newly initialized: ['score.weight']\n",
      "You should probably TRAIN this model on a down-stream task to be able to use it for predictions and inference.\n"
     ]
    }
   ],
   "source": [
    "seq_model = get_sequence_classifier(MODEL_NAME, n_classes, qlora_config)\n",
    "tokenizer = get_tokenizer(MODEL_NAME)\n",
    "\n",
    "if (\n",
    "    \"gemma\" in MODEL_NAME.lower()\n",
    "    or \"qwen\" in MODEL_NAME.lower()\n",
    "    or \"deepseek-math\" in MODEL_NAME.lower()\n",
    "    or \"llama-3.1\" in MODEL_NAME.lower()\n",
    "):\n",
    "    if tokenizer.pad_token is None:\n",
    "        tokenizer.pad_token = tokenizer.eos_token\n",
    "        tokenizer.pad_token_id = tokenizer.eos_token_id\n",
    "    seq_model.config.pad_token_id = tokenizer.pad_token_id\n",
    "\n",
    "if USE_LORA:\n",
    "    seq_model = PeftModel.from_pretrained(seq_model, ADAPTER_PATH)"
   ]
  },
  {
   "cell_type": "code",
   "execution_count": 8,
   "id": "4b644471",
   "metadata": {
    "execution": {
     "iopub.execute_input": "2025-10-05T23:12:09.323748Z",
     "iopub.status.busy": "2025-10-05T23:12:09.323287Z",
     "iopub.status.idle": "2025-10-05T23:12:09.327286Z",
     "shell.execute_reply": "2025-10-05T23:12:09.326524Z"
    },
    "papermill": {
     "duration": 0.013705,
     "end_time": "2025-10-05T23:12:09.328566",
     "exception": false,
     "start_time": "2025-10-05T23:12:09.314861",
     "status": "completed"
    },
    "tags": []
   },
   "outputs": [],
   "source": [
    "def tokenize_function(examples):\n",
    "    return tokenizer(examples[\"stringified_input\"])"
   ]
  },
  {
   "cell_type": "code",
   "execution_count": 9,
   "id": "fed42e26",
   "metadata": {
    "execution": {
     "iopub.execute_input": "2025-10-05T23:12:09.345702Z",
     "iopub.status.busy": "2025-10-05T23:12:09.345431Z",
     "iopub.status.idle": "2025-10-05T23:12:09.522246Z",
     "shell.execute_reply": "2025-10-05T23:12:09.521669Z"
    },
    "papermill": {
     "duration": 0.186953,
     "end_time": "2025-10-05T23:12:09.523625",
     "exception": false,
     "start_time": "2025-10-05T23:12:09.336672",
     "status": "completed"
    },
    "tags": []
   },
   "outputs": [],
   "source": [
    "train_df = pd.read_csv(TRAIN_PATH)\n",
    "test_df = pd.read_csv(TEST_PATH)"
   ]
  },
  {
   "cell_type": "code",
   "execution_count": 10,
   "id": "2f884c0d",
   "metadata": {
    "execution": {
     "iopub.execute_input": "2025-10-05T23:12:09.539063Z",
     "iopub.status.busy": "2025-10-05T23:12:09.538629Z",
     "iopub.status.idle": "2025-10-05T23:12:09.542451Z",
     "shell.execute_reply": "2025-10-05T23:12:09.541761Z"
    },
    "papermill": {
     "duration": 0.012499,
     "end_time": "2025-10-05T23:12:09.543421",
     "exception": false,
     "start_time": "2025-10-05T23:12:09.530922",
     "status": "completed"
    },
    "tags": []
   },
   "outputs": [
    {
     "name": "stdout",
     "output_type": "stream",
     "text": [
      "Training Shape: (36696, 7)\n",
      "Testing Shape: (3, 5)\n"
     ]
    }
   ],
   "source": [
    "print(\"Training Shape:\", train_df.shape)\n",
    "print(\"Testing Shape:\", test_df.shape)"
   ]
  },
  {
   "cell_type": "code",
   "execution_count": 11,
   "id": "3f88cc8a",
   "metadata": {
    "execution": {
     "iopub.execute_input": "2025-10-05T23:12:09.559023Z",
     "iopub.status.busy": "2025-10-05T23:12:09.558712Z",
     "iopub.status.idle": "2025-10-05T23:12:09.616271Z",
     "shell.execute_reply": "2025-10-05T23:12:09.615656Z"
    },
    "papermill": {
     "duration": 0.06714,
     "end_time": "2025-10-05T23:12:09.617436",
     "exception": false,
     "start_time": "2025-10-05T23:12:09.550296",
     "status": "completed"
    },
    "tags": []
   },
   "outputs": [
    {
     "name": "stderr",
     "output_type": "stream",
     "text": [
      "/tmp/ipykernel_19/1307861462.py:10: FutureWarning: Downcasting object dtype arrays on .fillna, .ffill, .bfill is deprecated and will change in a future version. Call result.infer_objects(copy=False) instead. To opt-in to the future behavior, set `pd.set_option('future.no_silent_downcasting', True)`\n",
      "  train_df.is_mc_answer_correct = train_df.is_mc_answer_correct.fillna(False)\n",
      "/tmp/ipykernel_19/1307861462.py:13: FutureWarning: Downcasting object dtype arrays on .fillna, .ffill, .bfill is deprecated and will change in a future version. Call result.infer_objects(copy=False) instead. To opt-in to the future behavior, set `pd.set_option('future.no_silent_downcasting', True)`\n",
      "  test_df.is_mc_answer_correct = test_df.is_mc_answer_correct.fillna(False)\n"
     ]
    }
   ],
   "source": [
    "idx = train_df.Category.str.contains(\"True\", case=False)\n",
    "tmp = train_df.loc[idx].copy()\n",
    "tmp[\"c\"] = tmp.groupby([\"QuestionId\", \"MC_Answer\"]).MC_Answer.transform(\"count\")\n",
    "tmp = tmp.sort_values(\"c\", ascending=False)\n",
    "tmp = tmp.drop_duplicates([\"QuestionId\"])\n",
    "tmp = tmp[[\"QuestionId\", \"MC_Answer\"]]\n",
    "tmp[\"is_mc_answer_correct\"] = True\n",
    "\n",
    "train_df = train_df.merge(tmp, on=[\"QuestionId\", \"MC_Answer\"], how=\"left\")\n",
    "train_df.is_mc_answer_correct = train_df.is_mc_answer_correct.fillna(False)\n",
    "\n",
    "test_df = test_df.merge(tmp, on=[\"QuestionId\", \"MC_Answer\"], how=\"left\")\n",
    "test_df.is_mc_answer_correct = test_df.is_mc_answer_correct.fillna(False)"
   ]
  },
  {
   "cell_type": "code",
   "execution_count": 12,
   "id": "14b473d7",
   "metadata": {
    "execution": {
     "iopub.execute_input": "2025-10-05T23:12:09.632366Z",
     "iopub.status.busy": "2025-10-05T23:12:09.631832Z",
     "iopub.status.idle": "2025-10-05T23:12:09.650223Z",
     "shell.execute_reply": "2025-10-05T23:12:09.649706Z"
    },
    "papermill": {
     "duration": 0.026748,
     "end_time": "2025-10-05T23:12:09.651176",
     "exception": false,
     "start_time": "2025-10-05T23:12:09.624428",
     "status": "completed"
    },
    "tags": []
   },
   "outputs": [
    {
     "data": {
      "text/html": [
       "<div>\n",
       "<style scoped>\n",
       "    .dataframe tbody tr th:only-of-type {\n",
       "        vertical-align: middle;\n",
       "    }\n",
       "\n",
       "    .dataframe tbody tr th {\n",
       "        vertical-align: top;\n",
       "    }\n",
       "\n",
       "    .dataframe thead th {\n",
       "        text-align: right;\n",
       "    }\n",
       "</style>\n",
       "<table border=\"1\" class=\"dataframe\">\n",
       "  <thead>\n",
       "    <tr style=\"text-align: right;\">\n",
       "      <th></th>\n",
       "      <th>row_id</th>\n",
       "      <th>QuestionId</th>\n",
       "      <th>QuestionText</th>\n",
       "      <th>MC_Answer</th>\n",
       "      <th>StudentExplanation</th>\n",
       "      <th>is_mc_answer_correct</th>\n",
       "      <th>stringified_input</th>\n",
       "    </tr>\n",
       "  </thead>\n",
       "  <tbody>\n",
       "    <tr>\n",
       "      <th>0</th>\n",
       "      <td>36696</td>\n",
       "      <td>31772</td>\n",
       "      <td>What fraction of the shape is not shaded? Give...</td>\n",
       "      <td>\\( \\frac{1}{3} \\)</td>\n",
       "      <td>I think that 1/3 is the answer, as it's the si...</td>\n",
       "      <td>True</td>\n",
       "      <td>Question: What fraction of the shape is not sh...</td>\n",
       "    </tr>\n",
       "    <tr>\n",
       "      <th>1</th>\n",
       "      <td>36697</td>\n",
       "      <td>31772</td>\n",
       "      <td>What fraction of the shape is not shaded? Give...</td>\n",
       "      <td>\\( \\frac{3}{6} \\)</td>\n",
       "      <td>i think this answer is because 3 triangles are...</td>\n",
       "      <td>False</td>\n",
       "      <td>Question: What fraction of the shape is not sh...</td>\n",
       "    </tr>\n",
       "    <tr>\n",
       "      <th>2</th>\n",
       "      <td>36698</td>\n",
       "      <td>32835</td>\n",
       "      <td>Which number is the greatest?</td>\n",
       "      <td>\\( 6.2 \\)</td>\n",
       "      <td>because the 2 makes it higher than the others.</td>\n",
       "      <td>True</td>\n",
       "      <td>Question: Which number is the greatest?\\nAnswe...</td>\n",
       "    </tr>\n",
       "  </tbody>\n",
       "</table>\n",
       "</div>"
      ],
      "text/plain": [
       "   row_id  QuestionId                                       QuestionText  \\\n",
       "0   36696       31772  What fraction of the shape is not shaded? Give...   \n",
       "1   36697       31772  What fraction of the shape is not shaded? Give...   \n",
       "2   36698       32835                      Which number is the greatest?   \n",
       "\n",
       "           MC_Answer                                 StudentExplanation  \\\n",
       "0  \\( \\frac{1}{3} \\)  I think that 1/3 is the answer, as it's the si...   \n",
       "1  \\( \\frac{3}{6} \\)  i think this answer is because 3 triangles are...   \n",
       "2          \\( 6.2 \\)     because the 2 makes it higher than the others.   \n",
       "\n",
       "   is_mc_answer_correct                                  stringified_input  \n",
       "0                  True  Question: What fraction of the shape is not sh...  \n",
       "1                 False  Question: What fraction of the shape is not sh...  \n",
       "2                  True  Question: Which number is the greatest?\\nAnswe...  "
      ]
     },
     "execution_count": 12,
     "metadata": {},
     "output_type": "execute_result"
    }
   ],
   "source": [
    "test_df[\"stringified_input\"] = test_df.apply(\n",
    "    lambda row: stringify_input(row, MODEL_NAME, NEW_PROMPT), axis=1\n",
    ")\n",
    "test_df.head()"
   ]
  },
  {
   "cell_type": "code",
   "execution_count": 13,
   "id": "e6f2903e",
   "metadata": {
    "execution": {
     "iopub.execute_input": "2025-10-05T23:12:09.666041Z",
     "iopub.status.busy": "2025-10-05T23:12:09.665624Z",
     "iopub.status.idle": "2025-10-05T23:12:09.669892Z",
     "shell.execute_reply": "2025-10-05T23:12:09.669352Z"
    },
    "papermill": {
     "duration": 0.012737,
     "end_time": "2025-10-05T23:12:09.670928",
     "exception": false,
     "start_time": "2025-10-05T23:12:09.658191",
     "status": "completed"
    },
    "tags": []
   },
   "outputs": [
    {
     "data": {
      "text/plain": [
       "array([\"Question: What fraction of the shape is not shaded? Give your answer in its simplest form. [Image: A triangle split into 9 equal smaller triangles. 6 of them are shaded.]\\nAnswer: ( (1)/(3) )\\nCorrect? Yes\\nStudent's Explanation: I think that 1/3 is the answer, as it's the simplest form of 3/9.\",\n",
       "       \"Question: What fraction of the shape is not shaded? Give your answer in its simplest form. [Image: A triangle split into 9 equal smaller triangles. 6 of them are shaded.]\\nAnswer: ( (3)/(6) )\\nCorrect? No\\nStudent's Explanation: i think this answer is because 3 triangles are white and 6 triangle are blue.\",\n",
       "       \"Question: Which number is the greatest?\\nAnswer: ( 6.2 )\\nCorrect? Yes\\nStudent's Explanation: because the 2 makes it higher than the others.\"],\n",
       "      dtype=object)"
      ]
     },
     "execution_count": 13,
     "metadata": {},
     "output_type": "execute_result"
    }
   ],
   "source": [
    "test_df[\"stringified_input\"].values[:5]"
   ]
  },
  {
   "cell_type": "code",
   "execution_count": 14,
   "id": "ac66e40d",
   "metadata": {
    "execution": {
     "iopub.execute_input": "2025-10-05T23:12:09.686041Z",
     "iopub.status.busy": "2025-10-05T23:12:09.685844Z",
     "iopub.status.idle": "2025-10-05T23:12:09.819191Z",
     "shell.execute_reply": "2025-10-05T23:12:09.818515Z"
    },
    "papermill": {
     "duration": 0.142347,
     "end_time": "2025-10-05T23:12:09.820384",
     "exception": false,
     "start_time": "2025-10-05T23:12:09.678037",
     "status": "completed"
    },
    "tags": []
   },
   "outputs": [
    {
     "data": {
      "application/vnd.jupyter.widget-view+json": {
       "model_id": "ef28f1d37b51493d8e62ae749d7e63ee",
       "version_major": 2,
       "version_minor": 0
      },
      "text/plain": [
       "Map:   0%|          | 0/3 [00:00<?, ? examples/s]"
      ]
     },
     "metadata": {},
     "output_type": "display_data"
    }
   ],
   "source": [
    "test_ds = Dataset.from_pandas(test_df[[\"stringified_input\"]])\n",
    "test_ds = test_ds.map(tokenize_function, batched=True)"
   ]
  },
  {
   "cell_type": "code",
   "execution_count": 15,
   "id": "2d61419b",
   "metadata": {
    "execution": {
     "iopub.execute_input": "2025-10-05T23:12:09.836306Z",
     "iopub.status.busy": "2025-10-05T23:12:09.836114Z",
     "iopub.status.idle": "2025-10-05T23:12:10.069496Z",
     "shell.execute_reply": "2025-10-05T23:12:10.068851Z"
    },
    "papermill": {
     "duration": 0.242606,
     "end_time": "2025-10-05T23:12:10.070693",
     "exception": false,
     "start_time": "2025-10-05T23:12:09.828087",
     "status": "completed"
    },
    "tags": []
   },
   "outputs": [
    {
     "data": {
      "image/png": "[encoded data removed]",
      "text/plain": [
       "<Figure size 640x480 with 1 Axes>"
      ]
     },
     "metadata": {},
     "output_type": "display_data"
    }
   ],
   "source": [
    "lengths = [len(tokenizer.encode(t, truncation=False)) for t in test_ds[\"stringified_input\"]]\n",
    "\n",
    "plt.hist(lengths, bins=50)\n",
    "plt.title(\"Token Length Distribution\")\n",
    "plt.xlabel(\"Number of tokens\")\n",
    "plt.ylabel(\"Frequency\")\n",
    "plt.grid(True)\n",
    "plt.show()"
   ]
  },
  {
   "cell_type": "code",
   "execution_count": 16,
   "id": "0bdc2146",
   "metadata": {
    "execution": {
     "iopub.execute_input": "2025-10-05T23:12:10.086792Z",
     "iopub.status.busy": "2025-10-05T23:12:10.086577Z",
     "iopub.status.idle": "2025-10-05T23:12:10.091867Z",
     "shell.execute_reply": "2025-10-05T23:12:10.091331Z"
    },
    "papermill": {
     "duration": 0.01453,
     "end_time": "2025-10-05T23:12:10.092945",
     "exception": false,
     "start_time": "2025-10-05T23:12:10.078415",
     "status": "completed"
    },
    "tags": []
   },
   "outputs": [
    {
     "name": "stdout",
     "output_type": "stream",
     "text": [
      "There are 0 train sample(s) with more than 256 tokens\n"
     ]
    },
    {
     "data": {
      "text/plain": [
       "array([80, 75, 35])"
      ]
     },
     "execution_count": 16,
     "metadata": {},
     "output_type": "execute_result"
    }
   ],
   "source": [
    "L = (np.array(lengths) > MAX_LEN).sum()\n",
    "print(f\"There are {L} train sample(s) with more than {MAX_LEN} tokens\")\n",
    "np.sort(lengths)[::-1]"
   ]
  },
  {
   "cell_type": "code",
   "execution_count": 17,
   "id": "584266bf",
   "metadata": {
    "execution": {
     "iopub.execute_input": "2025-10-05T23:12:10.108895Z",
     "iopub.status.busy": "2025-10-05T23:12:10.108704Z",
     "iopub.status.idle": "2025-10-05T23:12:10.155833Z",
     "shell.execute_reply": "2025-10-05T23:12:10.155106Z"
    },
    "papermill": {
     "duration": 0.056256,
     "end_time": "2025-10-05T23:12:10.156910",
     "exception": false,
     "start_time": "2025-10-05T23:12:10.100654",
     "status": "completed"
    },
    "tags": []
   },
   "outputs": [
    {
     "name": "stderr",
     "output_type": "stream",
     "text": [
      "/kaggle/input/map-utilities/utils.py:265: FutureWarning: `tokenizer` is deprecated and will be removed in version 5.0.0 for `Trainer.__init__`. Use `processing_class` instead.\n",
      "  return Trainer(\n"
     ]
    }
   ],
   "source": [
    "training_args = get_training_arguments(bf16_support=\"/kaggle\" not in ROOT_PATH)\n",
    "trainer = get_trainer(\n",
    "    seq_model,\n",
    "    tokenizer,\n",
    "    training_args,\n",
    "    test_ds,\n",
    "    test_ds,\n",
    ")"
   ]
  },
  {
   "cell_type": "code",
   "execution_count": 18,
   "id": "11022232",
   "metadata": {
    "execution": {
     "iopub.execute_input": "2025-10-05T23:12:10.173159Z",
     "iopub.status.busy": "2025-10-05T23:12:10.172747Z",
     "iopub.status.idle": "2025-10-05T23:12:11.212068Z",
     "shell.execute_reply": "2025-10-05T23:12:11.211386Z"
    },
    "papermill": {
     "duration": 1.048538,
     "end_time": "2025-10-05T23:12:11.213200",
     "exception": false,
     "start_time": "2025-10-05T23:12:10.164662",
     "status": "completed"
    },
    "tags": []
   },
   "outputs": [
    {
     "data": {
      "text/html": [],
      "text/plain": [
       "<IPython.core.display.HTML object>"
      ]
     },
     "metadata": {},
     "output_type": "display_data"
    }
   ],
   "source": [
    "predictions = trainer.predict(test_ds)\n",
    "probs = torch.nn.functional.softmax(torch.tensor(predictions.predictions), dim=1).numpy()"
   ]
  },
  {
   "cell_type": "code",
   "execution_count": 19,
   "id": "8286dab8",
   "metadata": {
    "execution": {
     "iopub.execute_input": "2025-10-05T23:12:11.232570Z",
     "iopub.status.busy": "2025-10-05T23:12:11.232326Z",
     "iopub.status.idle": "2025-10-05T23:12:11.245258Z",
     "shell.execute_reply": "2025-10-05T23:12:11.244748Z"
    },
    "papermill": {
     "duration": 0.022439,
     "end_time": "2025-10-05T23:12:11.246216",
     "exception": false,
     "start_time": "2025-10-05T23:12:11.223777",
     "status": "completed"
    },
    "tags": []
   },
   "outputs": [
    {
     "data": {
      "text/html": [
       "<div>\n",
       "<style scoped>\n",
       "    .dataframe tbody tr th:only-of-type {\n",
       "        vertical-align: middle;\n",
       "    }\n",
       "\n",
       "    .dataframe tbody tr th {\n",
       "        vertical-align: top;\n",
       "    }\n",
       "\n",
       "    .dataframe thead th {\n",
       "        text-align: right;\n",
       "    }\n",
       "</style>\n",
       "<table border=\"1\" class=\"dataframe\">\n",
       "  <thead>\n",
       "    <tr style=\"text-align: right;\">\n",
       "      <th></th>\n",
       "      <th>row_id</th>\n",
       "      <th>Category:Misconception</th>\n",
       "    </tr>\n",
       "  </thead>\n",
       "  <tbody>\n",
       "    <tr>\n",
       "      <th>0</th>\n",
       "      <td>36696</td>\n",
       "      <td>True_Correct:NA True_Misconception:Wrong_fract...</td>\n",
       "    </tr>\n",
       "    <tr>\n",
       "      <th>1</th>\n",
       "      <td>36697</td>\n",
       "      <td>False_Misconception:WNB False_Misconception:In...</td>\n",
       "    </tr>\n",
       "    <tr>\n",
       "      <th>2</th>\n",
       "      <td>36698</td>\n",
       "      <td>True_Neither:NA True_Correct:NA True_Misconcep...</td>\n",
       "    </tr>\n",
       "  </tbody>\n",
       "</table>\n",
       "</div>"
      ],
      "text/plain": [
       "   row_id                             Category:Misconception\n",
       "0   36696  True_Correct:NA True_Misconception:Wrong_fract...\n",
       "1   36697  False_Misconception:WNB False_Misconception:In...\n",
       "2   36698  True_Neither:NA True_Correct:NA True_Misconcep..."
      ]
     },
     "execution_count": 19,
     "metadata": {},
     "output_type": "execute_result"
    }
   ],
   "source": [
    "top3 = np.argsort(-probs, axis=1)[:, :3]\n",
    "\n",
    "# Decode numeric class indices to original string labels\n",
    "flat_top3 = top3.flatten()\n",
    "decoded_labels = le.inverse_transform(flat_top3)\n",
    "top3_labels = decoded_labels.reshape(top3.shape)\n",
    "\n",
    "# Join 3 labels per row with space\n",
    "joined_preds = [\" \".join(row) for row in top3_labels]\n",
    "\n",
    "# Save submission\n",
    "sub = pd.DataFrame({\n",
    "    \"row_id\": test_df.row_id.values,\n",
    "    \"Category:Misconception\": joined_preds\n",
    "})\n",
    "sub.to_csv(\"submission.csv\", index=False)\n",
    "sub.head()"
   ]
  },
  {
   "cell_type": "code",
   "execution_count": null,
   "id": "714a26ae",
   "metadata": {
    "papermill": {
     "duration": 0.007646,
     "end_time": "2025-10-05T23:12:11.261780",
     "exception": false,
     "start_time": "2025-10-05T23:12:11.254134",
     "status": "completed"
    },
    "tags": []
   },
   "outputs": [],
   "source": []
  }
 ],
 "metadata": {
  "kaggle": {
   "accelerator": "nvidiaTeslaT4",
   "dataSources": [
    {
     "databundleVersionId": 12957508,
     "sourceId": 104383,
     "sourceType": "competition"
    },
    {
     "datasetId": 7922715,
     "sourceId": 13273270,
     "sourceType": "datasetVersion"
    },
    {
     "modelId": 91102,
     "modelInstanceId": 68809,
     "sourceId": 104449,
     "sourceType": "modelInstanceVersion"
    },
    {
     "modelId": 76277,
     "modelInstanceId": 72256,
     "sourceId": 104453,
     "sourceType": "modelInstanceVersion"
    },
    {
     "modelId": 122034,
     "modelInstanceId": 97888,
     "sourceId": 116482,
     "sourceType": "modelInstanceVersion"
    },
    {
     "modelId": 322000,
     "modelInstanceId": 301527,
     "sourceId": 363149,
     "sourceType": "modelInstanceVersion"
    },
    {
     "modelId": 362024,
     "modelInstanceId": 340783,
     "sourceId": 417773,
     "sourceType": "modelInstanceVersion"
    },
    {
     "modelId": 368803,
     "modelInstanceId": 347543,
     "sourceId": 426333,
     "sourceType": "modelInstanceVersion"
    },
    {
     "modelId": 430043,
     "modelInstanceId": 412260,
     "sourceId": 525587,
     "sourceType": "modelInstanceVersion"
    },
    {
     "modelId": 430436,
     "modelInstanceId": 412674,
     "sourceId": 527052,
     "sourceType": "modelInstanceVersion"
    },
    {
     "modelId": 432081,
     "modelInstanceId": 414331,
     "sourceId": 529663,
     "sourceType": "modelInstanceVersion"
    },
    {
     "modelId": 430843,
     "modelInstanceId": 413104,
     "sourceId": 530015,
     "sourceType": "modelInstanceVersion"
    },
    {
     "modelId": 432975,
     "modelInstanceId": 415216,
     "sourceId": 531369,
     "sourceType": "modelInstanceVersion"
    },
    {
     "modelId": 433091,
     "modelInstanceId": 415332,
     "sourceId": 531620,
     "sourceType": "modelInstanceVersion"
    },
    {
     "modelId": 432951,
     "modelInstanceId": 415190,
     "sourceId": 551461,
     "sourceType": "modelInstanceVersion"
    },
    {
     "modelId": 430142,
     "modelInstanceId": 412373,
     "sourceId": 577006,
     "sourceType": "modelInstanceVersion"
    },
    {
     "modelId": 429550,
     "modelInstanceId": 411748,
     "sourceId": 582501,
     "sourceType": "modelInstanceVersion"
    },
    {
     "modelId": 459207,
     "modelInstanceId": 442670,
     "sourceId": 591696,
     "sourceType": "modelInstanceVersion"
    },
    {
     "modelId": 461517,
     "modelInstanceId": 445046,
     "sourceId": 594582,
     "sourceType": "modelInstanceVersion"
    },
    {
     "modelId": 429550,
     "modelInstanceId": 411748,
     "sourceId": 597379,
     "sourceType": "modelInstanceVersion"
    },
    {
     "modelId": 464728,
     "modelInstanceId": 448313,
     "sourceId": 598572,
     "sourceType": "modelInstanceVersion"
    }
   ],
   "isGpuEnabled": true,
   "isInternetEnabled": false,
   "language": "python",
   "sourceType": "notebook"
  },
  "kernelspec": {
   "display_name": "Python 3",
   "language": "python",
   "name": "python3"
  },
  "language_info": {
   "codemirror_mode": {
    "name": "ipython",
    "version": 3
   },
   "file_extension": ".py",
   "mimetype": "text/x-python",
   "name": "python",
   "nbconvert_exporter": "python",
   "pygments_lexer": "ipython3",
   "version": "3.11.13"
  },
  "papermill": {
   "default_parameters": {},
   "duration": 180.227463,
   "end_time": "2025-10-05T23:12:14.110140",
   "environment_variables": {},
   "exception": null,
   "input_path": "__notebook__.ipynb",
   "output_path": "__notebook__.ipynb",
   "parameters": {},
   "start_time": "2025-10-05T23:09:13.882677",
   "version": "2.6.0"
  },
  "widgets": {
   "application/vnd.jupyter.widget-state+json": {
    "state": {
     "022f01041d16428aa9fc30ff53c39fd3": {
      "model_module": "@jupyter-widgets/base",
      "model_module_version": "2.0.0",
      "model_name": "LayoutModel",
      "state": {
       "_model_module": "@jupyter-widgets/base",
       "_model_module_version": "2.0.0",
       "_model_name": "LayoutModel",
       "_view_count": null,
       "_view_module": "@jupyter-widgets/base",
       "_view_module_version": "2.0.0",
       "_view_name": "LayoutView",
       "align_content": null,
       "align_items": null,
       "align_self": null,
       "border_bottom": null,
       "border_left": null,
       "border_right": null,
       "border_top": null,
       "bottom": null,
       "display": null,
       "flex": null,
       "flex_flow": null,
       "grid_area": null,
       "grid_auto_columns": null,
       "grid_auto_flow": null,
       "grid_auto_rows": null,
       "grid_column": null,
       "grid_gap": null,
       "grid_row": null,
       "grid_template_areas": null,
       "grid_template_columns": null,
       "grid_template_rows": null,
       "height": null,
       "justify_content": null,
       "justify_items": null,
       "left": null,
       "margin": null,
       "max_height": null,
       "max_width": null,
       "min_height": null,
       "min_width": null,
       "object_fit": null,
       "object_position": null,
       "order": null,
       "overflow": null,
       "padding": null,
       "right": null,
       "top": null,
       "visibility": null,
       "width": null
      }
     },
     "1bb5259957c749728009d21f8fe08725": {
      "model_module": "@jupyter-widgets/controls",
      "model_module_version": "2.0.0",
      "model_name": "HBoxModel",
      "state": {
       "_dom_classes": [],
       "_model_module": "@jupyter-widgets/controls",
       "_model_module_version": "2.0.0",
       "_model_name": "HBoxModel",
       "_view_count": null,
       "_view_module": "@jupyter-widgets/controls",
       "_view_module_version": "2.0.0",
       "_view_name": "HBoxView",
       "box_style": "",
       "children": [
        "IPY_MODEL_1f9543f4788d4f55a7a4aee38991e350",
        "IPY_MODEL_c00842a175954289af37b1a5dab0598f",
        "IPY_MODEL_e0e6a8ce88144f2ea63b99add7b9cc73"
       ],
       "layout": "IPY_MODEL_022f01041d16428aa9fc30ff53c39fd3",
       "tabbable": null,
       "tooltip": null
      }
     },
     "1f9543f4788d4f55a7a4aee38991e350": {
      "model_module": "@jupyter-widgets/controls",
      "model_module_version": "2.0.0",
      "model_name": "HTMLModel",
      "state": {
       "_dom_classes": [],
       "_model_module": "@jupyter-widgets/controls",
       "_model_module_version": "2.0.0",
       "_model_name": "HTMLModel",
       "_view_count": null,
       "_view_module": "@jupyter-widgets/controls",
       "_view_module_version": "2.0.0",
       "_view_name": "HTMLView",
       "description": "",
       "description_allow_html": false,
       "layout": "IPY_MODEL_414b6c215b4c4179bca76b4030ca8f94",
       "placeholder": "​",
       "style": "IPY_MODEL_c332999009c14bc088b394e52bd34ba5",
       "tabbable": null,
       "tooltip": null,
       "value": "Loading checkpoint shards: 100%"
      }
     },
     "2093d4b0b19d4dbd8725f68b7537ef3b": {
      "model_module": "@jupyter-widgets/controls",
      "model_module_version": "2.0.0",
      "model_name": "ProgressStyleModel",
      "state": {
       "_model_module": "@jupyter-widgets/controls",
       "_model_module_version": "2.0.0",
       "_model_name": "ProgressStyleModel",
       "_view_count": null,
       "_view_module": "@jupyter-widgets/base",
       "_view_module_version": "2.0.0",
       "_view_name": "StyleView",
       "bar_color": null,
       "description_width": ""
      }
     },
     "20c225ed60254566a327d489c370f5e7": {
      "model_module": "@jupyter-widgets/controls",
      "model_module_version": "2.0.0",
      "model_name": "ProgressStyleModel",
      "state": {
       "_model_module": "@jupyter-widgets/controls",
       "_model_module_version": "2.0.0",
       "_model_name": "ProgressStyleModel",
       "_view_count": null,
       "_view_module": "@jupyter-widgets/base",
       "_view_module_version": "2.0.0",
       "_view_name": "StyleView",
       "bar_color": null,
       "description_width": ""
      }
     },
     "27bd49290b254ba9b8368cc87ace4d59": {
      "model_module": "@jupyter-widgets/controls",
      "model_module_version": "2.0.0",
      "model_name": "FloatProgressModel",
      "state": {
       "_dom_classes": [],
       "_model_module": "@jupyter-widgets/controls",
       "_model_module_version": "2.0.0",
       "_model_name": "FloatProgressModel",
       "_view_count": null,
       "_view_module": "@jupyter-widgets/controls",
       "_view_module_version": "2.0.0",
       "_view_name": "ProgressView",
       "bar_style": "success",
       "description": "",
       "description_allow_html": false,
       "layout": "IPY_MODEL_4aa0dfaf936c4276a5af10c48374316a",
       "max": 3.0,
       "min": 0.0,
       "orientation": "horizontal",
       "style": "IPY_MODEL_20c225ed60254566a327d489c370f5e7",
       "tabbable": null,
       "tooltip": null,
       "value": 3.0
      }
     },
     "389976c52d21498a93cfa57cdcef1b6c": {
      "model_module": "@jupyter-widgets/controls",
      "model_module_version": "2.0.0",
      "model_name": "HTMLModel",
      "state": {
       "_dom_classes": [],
       "_model_module": "@jupyter-widgets/controls",
       "_model_module_version": "2.0.0",
       "_model_name": "HTMLModel",
       "_view_count": null,
       "_view_module": "@jupyter-widgets/controls",
       "_view_module_version": "2.0.0",
       "_view_name": "HTMLView",
       "description": "",
       "description_allow_html": false,
       "layout": "IPY_MODEL_d1db0d8c9d564b5b83df15d9878ca745",
       "placeholder": "​",
       "style": "IPY_MODEL_cb61a02278794fab94a7d6295e6583df",
       "tabbable": null,
       "tooltip": null,
       "value": "Map: 100%"
      }
     },
     "414b6c215b4c4179bca76b4030ca8f94": {
      "model_module": "@jupyter-widgets/base",
      "model_module_version": "2.0.0",
      "model_name": "LayoutModel",
      "state": {
       "_model_module": "@jupyter-widgets/base",
       "_model_module_version": "2.0.0",
       "_model_name": "LayoutModel",
       "_view_count": null,
       "_view_module": "@jupyter-widgets/base",
       "_view_module_version": "2.0.0",
       "_view_name": "LayoutView",
       "align_content": null,
       "align_items": null,
       "align_self": null,
       "border_bottom": null,
       "border_left": null,
       "border_right": null,
       "border_top": null,
       "bottom": null,
       "display": null,
       "flex": null,
       "flex_flow": null,
       "grid_area": null,
       "grid_auto_columns": null,
       "grid_auto_flow": null,
       "grid_auto_rows": null,
       "grid_column": null,
       "grid_gap": null,
       "grid_row": null,
       "grid_template_areas": null,
       "grid_template_columns": null,
       "grid_template_rows": null,
       "height": null,
       "justify_content": null,
       "justify_items": null,
       "left": null,
       "margin": null,
       "max_height": null,
       "max_width": null,
       "min_height": null,
       "min_width": null,
       "object_fit": null,
       "object_position": null,
       "order": null,
       "overflow": null,
       "padding": null,
       "right": null,
       "top": null,
       "visibility": null,
       "width": null
      }
     },
     "4aa0dfaf936c4276a5af10c48374316a": {
      "model_module": "@jupyter-widgets/base",
      "model_module_version": "2.0.0",
      "model_name": "LayoutModel",
      "state": {
       "_model_module": "@jupyter-widgets/base",
       "_model_module_version": "2.0.0",
       "_model_name": "LayoutModel",
       "_view_count": null,
       "_view_module": "@jupyter-widgets/base",
       "_view_module_version": "2.0.0",
       "_view_name": "LayoutView",
       "align_content": null,
       "align_items": null,
       "align_self": null,
       "border_bottom": null,
       "border_left": null,
       "border_right": null,
       "border_top": null,
       "bottom": null,
       "display": null,
       "flex": null,
       "flex_flow": null,
       "grid_area": null,
       "grid_auto_columns": null,
       "grid_auto_flow": null,
       "grid_auto_rows": null,
       "grid_column": null,
       "grid_gap": null,
       "grid_row": null,
       "grid_template_areas": null,
       "grid_template_columns": null,
       "grid_template_rows": null,
       "height": null,
       "justify_content": null,
       "justify_items": null,
       "left": null,
       "margin": null,
       "max_height": null,
       "max_width": null,
       "min_height": null,
       "min_width": null,
       "object_fit": null,
       "object_position": null,
       "order": null,
       "overflow": null,
       "padding": null,
       "right": null,
       "top": null,
       "visibility": null,
       "width": null
      }
     },
     "641c0885eb064501b34694f115976f3e": {
      "model_module": "@jupyter-widgets/base",
      "model_module_version": "2.0.0",
      "model_name": "LayoutModel",
      "state": {
       "_model_module": "@jupyter-widgets/base",
       "_model_module_version": "2.0.0",
       "_model_name": "LayoutModel",
       "_view_count": null,
       "_view_module": "@jupyter-widgets/base",
       "_view_module_version": "2.0.0",
       "_view_name": "LayoutView",
       "align_content": null,
       "align_items": null,
       "align_self": null,
       "border_bottom": null,
       "border_left": null,
       "border_right": null,
       "border_top": null,
       "bottom": null,
       "display": null,
       "flex": null,
       "flex_flow": null,
       "grid_area": null,
       "grid_auto_columns": null,
       "grid_auto_flow": null,
       "grid_auto_rows": null,
       "grid_column": null,
       "grid_gap": null,
       "grid_row": null,
       "grid_template_areas": null,
       "grid_template_columns": null,
       "grid_template_rows": null,
       "height": null,
       "justify_content": null,
       "justify_items": null,
       "left": null,
       "margin": null,
       "max_height": null,
       "max_width": null,
       "min_height": null,
       "min_width": null,
       "object_fit": null,
       "object_position": null,
       "order": null,
       "overflow": null,
       "padding": null,
       "right": null,
       "top": null,
       "visibility": null,
       "width": null
      }
     },
     "7cbccd3b2c1849ceb42604d8383a6f66": {
      "model_module": "@jupyter-widgets/controls",
      "model_module_version": "2.0.0",
      "model_name": "HTMLStyleModel",
      "state": {
       "_model_module": "@jupyter-widgets/controls",
       "_model_module_version": "2.0.0",
       "_model_name": "HTMLStyleModel",
       "_view_count": null,
       "_view_module": "@jupyter-widgets/base",
       "_view_module_version": "2.0.0",
       "_view_name": "StyleView",
       "background": null,
       "description_width": "",
       "font_size": null,
       "text_color": null
      }
     },
     "87f6bae59ae74b05b908eb452606a886": {
      "model_module": "@jupyter-widgets/base",
      "model_module_version": "2.0.0",
      "model_name": "LayoutModel",
      "state": {
       "_model_module": "@jupyter-widgets/base",
       "_model_module_version": "2.0.0",
       "_model_name": "LayoutModel",
       "_view_count": null,
       "_view_module": "@jupyter-widgets/base",
       "_view_module_version": "2.0.0",
       "_view_name": "LayoutView",
       "align_content": null,
       "align_items": null,
       "align_self": null,
       "border_bottom": null,
       "border_left": null,
       "border_right": null,
       "border_top": null,
       "bottom": null,
       "display": null,
       "flex": null,
       "flex_flow": null,
       "grid_area": null,
       "grid_auto_columns": null,
       "grid_auto_flow": null,
       "grid_auto_rows": null,
       "grid_column": null,
       "grid_gap": null,
       "grid_row": null,
       "grid_template_areas": null,
       "grid_template_columns": null,
       "grid_template_rows": null,
       "height": null,
       "justify_content": null,
       "justify_items": null,
       "left": null,
       "margin": null,
       "max_height": null,
       "max_width": null,
       "min_height": null,
       "min_width": null,
       "object_fit": null,
       "object_position": null,
       "order": null,
       "overflow": null,
       "padding": null,
       "right": null,
       "top": null,
       "visibility": null,
       "width": null
      }
     },
     "afad9346c5c54931860fa66ae50b1408": {
      "model_module": "@jupyter-widgets/controls",
      "model_module_version": "2.0.0",
      "model_name": "HTMLModel",
      "state": {
       "_dom_classes": [],
       "_model_module": "@jupyter-widgets/controls",
       "_model_module_version": "2.0.0",
       "_model_name": "HTMLModel",
       "_view_count": null,
       "_view_module": "@jupyter-widgets/controls",
       "_view_module_version": "2.0.0",
       "_view_name": "HTMLView",
       "description": "",
       "description_allow_html": false,
       "layout": "IPY_MODEL_87f6bae59ae74b05b908eb452606a886",
       "placeholder": "​",
       "style": "IPY_MODEL_7cbccd3b2c1849ceb42604d8383a6f66",
       "tabbable": null,
       "tooltip": null,
       "value": " 3/3 [00:00&lt;00:00, 97.41 examples/s]"
      }
     },
     "b5b633e32c4c4daabf5c6f656d7fa75d": {
      "model_module": "@jupyter-widgets/controls",
      "model_module_version": "2.0.0",
      "model_name": "HTMLStyleModel",
      "state": {
       "_model_module": "@jupyter-widgets/controls",
       "_model_module_version": "2.0.0",
       "_model_name": "HTMLStyleModel",
       "_view_count": null,
       "_view_module": "@jupyter-widgets/base",
       "_view_module_version": "2.0.0",
       "_view_name": "StyleView",
       "background": null,
       "description_width": "",
       "font_size": null,
       "text_color": null
      }
     },
     "b7f0dcbdbf184461b8cd06a3eee7170f": {
      "model_module": "@jupyter-widgets/base",
      "model_module_version": "2.0.0",
      "model_name": "LayoutModel",
      "state": {
       "_model_module": "@jupyter-widgets/base",
       "_model_module_version": "2.0.0",
       "_model_name": "LayoutModel",
       "_view_count": null,
       "_view_module": "@jupyter-widgets/base",
       "_view_module_version": "2.0.0",
       "_view_name": "LayoutView",
       "align_content": null,
       "align_items": null,
       "align_self": null,
       "border_bottom": null,
       "border_left": null,
       "border_right": null,
       "border_top": null,
       "bottom": null,
       "display": null,
       "flex": null,
       "flex_flow": null,
       "grid_area": null,
       "grid_auto_columns": null,
       "grid_auto_flow": null,
       "grid_auto_rows": null,
       "grid_column": null,
       "grid_gap": null,
       "grid_row": null,
       "grid_template_areas": null,
       "grid_template_columns": null,
       "grid_template_rows": null,
       "height": null,
       "justify_content": null,
       "justify_items": null,
       "left": null,
       "margin": null,
       "max_height": null,
       "max_width": null,
       "min_height": null,
       "min_width": null,
       "object_fit": null,
       "object_position": null,
       "order": null,
       "overflow": null,
       "padding": null,
       "right": null,
       "top": null,
       "visibility": null,
       "width": null
      }
     },
     "c00842a175954289af37b1a5dab0598f": {
      "model_module": "@jupyter-widgets/controls",
      "model_module_version": "2.0.0",
      "model_name": "FloatProgressModel",
      "state": {
       "_dom_classes": [],
       "_model_module": "@jupyter-widgets/controls",
       "_model_module_version": "2.0.0",
       "_model_name": "FloatProgressModel",
       "_view_count": null,
       "_view_module": "@jupyter-widgets/controls",
       "_view_module_version": "2.0.0",
       "_view_name": "ProgressView",
       "bar_style": "success",
       "description": "",
       "description_allow_html": false,
       "layout": "IPY_MODEL_641c0885eb064501b34694f115976f3e",
       "max": 2.0,
       "min": 0.0,
       "orientation": "horizontal",
       "style": "IPY_MODEL_2093d4b0b19d4dbd8725f68b7537ef3b",
       "tabbable": null,
       "tooltip": null,
       "value": 2.0
      }
     },
     "c332999009c14bc088b394e52bd34ba5": {
      "model_module": "@jupyter-widgets/controls",
      "model_module_version": "2.0.0",
      "model_name": "HTMLStyleModel",
      "state": {
       "_model_module": "@jupyter-widgets/controls",
       "_model_module_version": "2.0.0",
       "_model_name": "HTMLStyleModel",
       "_view_count": null,
       "_view_module": "@jupyter-widgets/base",
       "_view_module_version": "2.0.0",
       "_view_name": "StyleView",
       "background": null,
       "description_width": "",
       "font_size": null,
       "text_color": null
      }
     },
     "cb61a02278794fab94a7d6295e6583df": {
      "model_module": "@jupyter-widgets/controls",
      "model_module_version": "2.0.0",
      "model_name": "HTMLStyleModel",
      "state": {
       "_model_module": "@jupyter-widgets/controls",
       "_model_module_version": "2.0.0",
       "_model_name": "HTMLStyleModel",
       "_view_count": null,
       "_view_module": "@jupyter-widgets/base",
       "_view_module_version": "2.0.0",
       "_view_name": "StyleView",
       "background": null,
       "description_width": "",
       "font_size": null,
       "text_color": null
      }
     },
     "d1db0d8c9d564b5b83df15d9878ca745": {
      "model_module": "@jupyter-widgets/base",
      "model_module_version": "2.0.0",
      "model_name": "LayoutModel",
      "state": {
       "_model_module": "@jupyter-widgets/base",
       "_model_module_version": "2.0.0",
       "_model_name": "LayoutModel",
       "_view_count": null,
       "_view_module": "@jupyter-widgets/base",
       "_view_module_version": "2.0.0",
       "_view_name": "LayoutView",
       "align_content": null,
       "align_items": null,
       "align_self": null,
       "border_bottom": null,
       "border_left": null,
       "border_right": null,
       "border_top": null,
       "bottom": null,
       "display": null,
       "flex": null,
       "flex_flow": null,
       "grid_area": null,
       "grid_auto_columns": null,
       "grid_auto_flow": null,
       "grid_auto_rows": null,
       "grid_column": null,
       "grid_gap": null,
       "grid_row": null,
       "grid_template_areas": null,
       "grid_template_columns": null,
       "grid_template_rows": null,
       "height": null,
       "justify_content": null,
       "justify_items": null,
       "left": null,
       "margin": null,
       "max_height": null,
       "max_width": null,
       "min_height": null,
       "min_width": null,
       "object_fit": null,
       "object_position": null,
       "order": null,
       "overflow": null,
       "padding": null,
       "right": null,
       "top": null,
       "visibility": null,
       "width": null
      }
     },
     "e0e6a8ce88144f2ea63b99add7b9cc73": {
      "model_module": "@jupyter-widgets/controls",
      "model_module_version": "2.0.0",
      "model_name": "HTMLModel",
      "state": {
       "_dom_classes": [],
       "_model_module": "@jupyter-widgets/controls",
       "_model_module_version": "2.0.0",
       "_model_name": "HTMLModel",
       "_view_count": null,
       "_view_module": "@jupyter-widgets/controls",
       "_view_module_version": "2.0.0",
       "_view_name": "HTMLView",
       "description": "",
       "description_allow_html": false,
       "layout": "IPY_MODEL_b7f0dcbdbf184461b8cd06a3eee7170f",
       "placeholder": "​",
       "style": "IPY_MODEL_b5b633e32c4c4daabf5c6f656d7fa75d",
       "tabbable": null,
       "tooltip": null,
       "value": " 2/2 [01:51&lt;00:00, 53.91s/it]"
      }
     },
     "e5ef8b1f9bdb40d0823f46b0640538f6": {
      "model_module": "@jupyter-widgets/base",
      "model_module_version": "2.0.0",
      "model_name": "LayoutModel",
      "state": {
       "_model_module": "@jupyter-widgets/base",
       "_model_module_version": "2.0.0",
       "_model_name": "LayoutModel",
       "_view_count": null,
       "_view_module": "@jupyter-widgets/base",
       "_view_module_version": "2.0.0",
       "_view_name": "LayoutView",
       "align_content": null,
       "align_items": null,
       "align_self": null,
       "border_bottom": null,
       "border_left": null,
       "border_right": null,
       "border_top": null,
       "bottom": null,
       "display": null,
       "flex": null,
       "flex_flow": null,
       "grid_area": null,
       "grid_auto_columns": null,
       "grid_auto_flow": null,
       "grid_auto_rows": null,
       "grid_column": null,
       "grid_gap": null,
       "grid_row": null,
       "grid_template_areas": null,
       "grid_template_columns": null,
       "grid_template_rows": null,
       "height": null,
       "justify_content": null,
       "justify_items": null,
       "left": null,
       "margin": null,
       "max_height": null,
       "max_width": null,
       "min_height": null,
       "min_width": null,
       "object_fit": null,
       "object_position": null,
       "order": null,
       "overflow": null,
       "padding": null,
       "right": null,
       "top": null,
       "visibility": null,
       "width": null
      }
     },
     "ef28f1d37b51493d8e62ae749d7e63ee": {
      "model_module": "@jupyter-widgets/controls",
      "model_module_version": "2.0.0",
      "model_name": "HBoxModel",
      "state": {
       "_dom_classes": [],
       "_model_module": "@jupyter-widgets/controls",
       "_model_module_version": "2.0.0",
       "_model_name": "HBoxModel",
       "_view_count": null,
       "_view_module": "@jupyter-widgets/controls",
       "_view_module_version": "2.0.0",
       "_view_name": "HBoxView",
       "box_style": "",
       "children": [
        "IPY_MODEL_389976c52d21498a93cfa57cdcef1b6c",
        "IPY_MODEL_27bd49290b254ba9b8368cc87ace4d59",
        "IPY_MODEL_afad9346c5c54931860fa66ae50b1408"
       ],
       "layout": "IPY_MODEL_e5ef8b1f9bdb40d0823f46b0640538f6",
       "tabbable": null,
       "tooltip": null
      }
     }
    },
    "version_major": 2,
    "version_minor": 0
   }
  }
 },
 "nbformat": 4,
 "nbformat_minor": 5
}
