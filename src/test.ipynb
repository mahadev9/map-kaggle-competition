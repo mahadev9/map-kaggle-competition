{
 "cells": [
  {
   "cell_type": "code",
   "execution_count": null,
   "id": "afac9cec",
   "metadata": {},
   "outputs": [],
   "source": [
    "!pip install --no-deps /kaggle/input/map-utilities/bitsandbytes-0.47.0-py3-none-manylinux_2_24_x86_64.whl"
   ]
  },
  {
   "cell_type": "code",
   "execution_count": null,
   "id": "4acf5ca7",
   "metadata": {
    "execution": {
     "iopub.execute_input": "2025-08-17T12:48:20.169001Z",
     "iopub.status.busy": "2025-08-17T12:48:20.168794Z",
     "iopub.status.idle": "2025-08-17T12:48:20.175013Z",
     "shell.execute_reply": "2025-08-17T12:48:20.174550Z"
    },
    "papermill": {
     "duration": 0.012656,
     "end_time": "2025-08-17T12:48:20.176211",
     "exception": false,
     "start_time": "2025-08-17T12:48:20.163555",
     "status": "completed"
    },
    "tags": []
   },
   "outputs": [],
   "source": [
    "import os\n",
    "import sys\n",
    "\n",
    "os.environ[\"CUDA_VISIBLE_DEVICES\"] = \"0,1\"\n",
    "\n",
    "ROOT_PATH = os.getcwd()\n",
    "if \"/kaggle\" in ROOT_PATH:\n",
    "    ROOT_PATH = \"/kaggle/input\"\n",
    "    sys.path.append(os.path.join(ROOT_PATH, \"map-utilities\"))"
   ]
  },
  {
   "cell_type": "code",
   "execution_count": null,
   "id": "3c18d628",
   "metadata": {
    "execution": {
     "iopub.execute_input": "2025-08-17T12:48:20.184337Z",
     "iopub.status.busy": "2025-08-17T12:48:20.184170Z",
     "iopub.status.idle": "2025-08-17T12:49:05.212091Z",
     "shell.execute_reply": "2025-08-17T12:49:05.211540Z"
    },
    "papermill": {
     "duration": 45.033184,
     "end_time": "2025-08-17T12:49:05.213324",
     "exception": false,
     "start_time": "2025-08-17T12:48:20.180140",
     "status": "completed"
    },
    "tags": []
   },
   "outputs": [],
   "source": [
    "import pandas as pd\n",
    "import numpy as np\n",
    "import joblib\n",
    "import matplotlib.pyplot as plt\n",
    "\n",
    "import torch\n",
    "from datasets import Dataset\n",
    "from peft import PeftModel\n",
    "from transformers import BitsAndBytesConfig\n",
    "\n",
    "from utils import (\n",
    "    stringify_input,\n",
    "    get_model_name,\n",
    "    get_sequence_classifier,\n",
    "    get_tokenizer,\n",
    "    get_training_arguments,\n",
    "    get_trainer,\n",
    ")"
   ]
  },
  {
   "cell_type": "code",
   "execution_count": null,
   "id": "2506fb77",
   "metadata": {
    "execution": {
     "iopub.execute_input": "2025-08-17T12:49:05.222486Z",
     "iopub.status.busy": "2025-08-17T12:49:05.221754Z",
     "iopub.status.idle": "2025-08-17T12:49:05.239401Z",
     "shell.execute_reply": "2025-08-17T12:49:05.238674Z"
    },
    "papermill": {
     "duration": 0.022901,
     "end_time": "2025-08-17T12:49:05.240376",
     "exception": false,
     "start_time": "2025-08-17T12:49:05.217475",
     "status": "completed"
    },
    "tags": []
   },
   "outputs": [],
   "source": [
    "le = joblib.load(os.path.join(ROOT_PATH, \"map-utilities\", \"label_encoder.joblib\"))\n",
    "n_classes = len(le.classes_)"
   ]
  },
  {
   "cell_type": "code",
   "execution_count": null,
   "id": "f6cfdd09",
   "metadata": {
    "execution": {
     "iopub.execute_input": "2025-08-17T12:49:05.248547Z",
     "iopub.status.busy": "2025-08-17T12:49:05.248308Z",
     "iopub.status.idle": "2025-08-17T12:49:05.252170Z",
     "shell.execute_reply": "2025-08-17T12:49:05.251546Z"
    },
    "papermill": {
     "duration": 0.009155,
     "end_time": "2025-08-17T12:49:05.253237",
     "exception": false,
     "start_time": "2025-08-17T12:49:05.244082",
     "status": "completed"
    },
    "tags": []
   },
   "outputs": [],
   "source": [
    "# BASE_MODEL = \"modernbert-large/transformers/default/10\"\n",
    "# BASE_MODEL = \"qwen3-1.7b/transformers/default/1\"\n",
    "# BASE_MODEL = \"ettin-encoder-1b/transformers/default/2\"\n",
    "BASE_MODEL = \"qwen-3/transformers/14b/1\"\n",
    "\n",
    "MODEL_NAME = get_model_name(\"/kaggle\" in ROOT_PATH, ROOT_PATH, BASE_MODEL)\n",
    "ADAPTER_PATH = get_model_name(\"/kaggle\" in ROOT_PATH, ROOT_PATH, \"\")\n",
    "USE_LORA = True\n",
    "USE_QLORA = True\n",
    "MAX_LEN = 256\n",
    "\n",
    "TRAIN_PATH = os.path.join(ROOT_PATH, \"map-charting-student-math-misunderstandings\", \"train.csv\")\n",
    "TEST_PATH = os.path.join(ROOT_PATH, \"map-charting-student-math-misunderstandings\", \"test.csv\")"
   ]
  },
  {
   "cell_type": "code",
   "execution_count": null,
   "id": "1c3a1d23",
   "metadata": {},
   "outputs": [],
   "source": [
    "qlora_config = {}\n",
    "if USE_QLORA:\n",
    "    bnb_config = BitsAndBytesConfig(\n",
    "        load_in_4bit=True,\n",
    "        bnb_4bit_quant_type=\"nf4\",\n",
    "        bnb_4bit_compute_dtype=torch.bfloat16,\n",
    "        bnb_4bit_use_double_quant=True,\n",
    "    )"
   ]
  },
  {
   "cell_type": "code",
   "execution_count": null,
   "id": "25d03c6e",
   "metadata": {
    "execution": {
     "iopub.execute_input": "2025-08-17T12:49:05.261376Z",
     "iopub.status.busy": "2025-08-17T12:49:05.261152Z",
     "iopub.status.idle": "2025-08-17T12:49:08.296966Z",
     "shell.execute_reply": "2025-08-17T12:49:08.296155Z"
    },
    "papermill": {
     "duration": 3.04176,
     "end_time": "2025-08-17T12:49:08.298767",
     "exception": false,
     "start_time": "2025-08-17T12:49:05.257007",
     "status": "completed"
    },
    "tags": []
   },
   "outputs": [],
   "source": [
    "seq_model = get_sequence_classifier(MODEL_NAME, n_classes, qlora_config)\n",
    "tokenizer = get_tokenizer(MODEL_NAME)\n",
    "\n",
    "if \"gemma\" in MODEL_NAME.lower() or \"qwen\" in MODEL_NAME.lower():\n",
    "    if tokenizer.pad_token is None:\n",
    "        tokenizer.pad_token = tokenizer.eos_token\n",
    "        tokenizer.pad_token_id = tokenizer.eos_token_id\n",
    "    seq_model.config.pad_token_id = tokenizer.pad_token_id\n",
    "\n",
    "if USE_LORA:\n",
    "    seq_model = PeftModel.from_pretrained(seq_model, MODEL_NAME)"
   ]
  },
  {
   "cell_type": "code",
   "execution_count": null,
   "id": "cde76b3b",
   "metadata": {
    "execution": {
     "iopub.execute_input": "2025-08-17T12:49:08.314108Z",
     "iopub.status.busy": "2025-08-17T12:49:08.313873Z",
     "iopub.status.idle": "2025-08-17T12:49:08.317857Z",
     "shell.execute_reply": "2025-08-17T12:49:08.317137Z"
    },
    "papermill": {
     "duration": 0.012723,
     "end_time": "2025-08-17T12:49:08.318969",
     "exception": false,
     "start_time": "2025-08-17T12:49:08.306246",
     "status": "completed"
    },
    "tags": []
   },
   "outputs": [],
   "source": [
    "def tokenize_function(examples):\n",
    "    return tokenizer(examples[\"stringified_input\"], truncation=True)"
   ]
  },
  {
   "cell_type": "code",
   "execution_count": null,
   "id": "1718d155",
   "metadata": {
    "execution": {
     "iopub.execute_input": "2025-08-17T12:49:08.327107Z",
     "iopub.status.busy": "2025-08-17T12:49:08.326902Z",
     "iopub.status.idle": "2025-08-17T12:49:08.575536Z",
     "shell.execute_reply": "2025-08-17T12:49:08.574656Z"
    },
    "papermill": {
     "duration": 0.254329,
     "end_time": "2025-08-17T12:49:08.577036",
     "exception": false,
     "start_time": "2025-08-17T12:49:08.322707",
     "status": "completed"
    },
    "tags": []
   },
   "outputs": [],
   "source": [
    "train_df = pd.read_csv(TRAIN_PATH)\n",
    "test_df = pd.read_csv(TEST_PATH)"
   ]
  },
  {
   "cell_type": "code",
   "execution_count": null,
   "id": "2036852a",
   "metadata": {
    "execution": {
     "iopub.execute_input": "2025-08-17T12:49:08.586651Z",
     "iopub.status.busy": "2025-08-17T12:49:08.586050Z",
     "iopub.status.idle": "2025-08-17T12:49:08.591000Z",
     "shell.execute_reply": "2025-08-17T12:49:08.590170Z"
    },
    "papermill": {
     "duration": 0.010582,
     "end_time": "2025-08-17T12:49:08.592159",
     "exception": false,
     "start_time": "2025-08-17T12:49:08.581577",
     "status": "completed"
    },
    "tags": []
   },
   "outputs": [],
   "source": [
    "print(\"Training Shape:\", train_df.shape)\n",
    "print(\"Testing Shape:\", test_df.shape)"
   ]
  },
  {
   "cell_type": "code",
   "execution_count": null,
   "id": "5dd1c1a8",
   "metadata": {
    "execution": {
     "iopub.execute_input": "2025-08-17T12:49:08.601904Z",
     "iopub.status.busy": "2025-08-17T12:49:08.601423Z",
     "iopub.status.idle": "2025-08-17T12:49:08.702149Z",
     "shell.execute_reply": "2025-08-17T12:49:08.701225Z"
    },
    "papermill": {
     "duration": 0.106963,
     "end_time": "2025-08-17T12:49:08.703726",
     "exception": false,
     "start_time": "2025-08-17T12:49:08.596763",
     "status": "completed"
    },
    "tags": []
   },
   "outputs": [],
   "source": [
    "idx = train_df.Category.str.contains(\"True\", case=False)\n",
    "tmp = train_df.loc[idx].copy()\n",
    "tmp[\"c\"] = tmp.groupby([\"QuestionId\", \"MC_Answer\"]).MC_Answer.transform(\"count\")\n",
    "tmp = tmp.sort_values(\"c\", ascending=False)\n",
    "tmp = tmp.drop_duplicates([\"QuestionId\"])\n",
    "tmp = tmp[[\"QuestionId\", \"MC_Answer\"]]\n",
    "tmp[\"is_mc_answer_correct\"] = True\n",
    "\n",
    "train_df = train_df.merge(tmp, on=[\"QuestionId\", \"MC_Answer\"], how=\"left\")\n",
    "train_df.is_mc_answer_correct = train_df.is_mc_answer_correct.fillna(False)\n",
    "\n",
    "test_df = test_df.merge(tmp, on=[\"QuestionId\", \"MC_Answer\"], how=\"left\")\n",
    "test_df.is_mc_answer_correct = test_df.is_mc_answer_correct.fillna(False)"
   ]
  },
  {
   "cell_type": "code",
   "execution_count": null,
   "id": "1d61f26a",
   "metadata": {
    "execution": {
     "iopub.execute_input": "2025-08-17T12:49:08.713705Z",
     "iopub.status.busy": "2025-08-17T12:49:08.713448Z",
     "iopub.status.idle": "2025-08-17T12:49:08.736234Z",
     "shell.execute_reply": "2025-08-17T12:49:08.735477Z"
    },
    "papermill": {
     "duration": 0.029312,
     "end_time": "2025-08-17T12:49:08.737628",
     "exception": false,
     "start_time": "2025-08-17T12:49:08.708316",
     "status": "completed"
    },
    "tags": []
   },
   "outputs": [],
   "source": [
    "test_df[\"stringified_input\"] = test_df.apply(\n",
    "    lambda row: stringify_input(row, MODEL_NAME), axis=1\n",
    ")\n",
    "test_df.head()"
   ]
  },
  {
   "cell_type": "code",
   "execution_count": null,
   "id": "55357239",
   "metadata": {
    "execution": {
     "iopub.execute_input": "2025-08-17T12:49:08.749725Z",
     "iopub.status.busy": "2025-08-17T12:49:08.749286Z",
     "iopub.status.idle": "2025-08-17T12:49:08.848693Z",
     "shell.execute_reply": "2025-08-17T12:49:08.847965Z"
    },
    "papermill": {
     "duration": 0.106579,
     "end_time": "2025-08-17T12:49:08.849970",
     "exception": false,
     "start_time": "2025-08-17T12:49:08.743391",
     "status": "completed"
    },
    "tags": []
   },
   "outputs": [],
   "source": [
    "test_ds = Dataset.from_pandas(test_df[[\"stringified_input\"]])\n",
    "test_ds = test_ds.map(tokenize_function, batched=True)"
   ]
  },
  {
   "cell_type": "code",
   "execution_count": null,
   "id": "cf986b9b",
   "metadata": {
    "execution": {
     "iopub.execute_input": "2025-08-17T12:49:08.864291Z",
     "iopub.status.busy": "2025-08-17T12:49:08.864030Z",
     "iopub.status.idle": "2025-08-17T12:49:09.220728Z",
     "shell.execute_reply": "2025-08-17T12:49:09.219381Z"
    },
    "papermill": {
     "duration": 0.365962,
     "end_time": "2025-08-17T12:49:09.222208",
     "exception": false,
     "start_time": "2025-08-17T12:49:08.856246",
     "status": "completed"
    },
    "tags": []
   },
   "outputs": [],
   "source": [
    "lengths = [len(tokenizer.encode(t, truncation=False)) for t in test_ds[\"stringified_input\"]]\n",
    "\n",
    "plt.hist(lengths, bins=50)\n",
    "plt.title(\"Token Length Distribution\")\n",
    "plt.xlabel(\"Number of tokens\")\n",
    "plt.ylabel(\"Frequency\")\n",
    "plt.grid(True)\n",
    "plt.show()"
   ]
  },
  {
   "cell_type": "code",
   "execution_count": null,
   "id": "d9e879f3",
   "metadata": {
    "execution": {
     "iopub.execute_input": "2025-08-17T12:49:09.235201Z",
     "iopub.status.busy": "2025-08-17T12:49:09.234943Z",
     "iopub.status.idle": "2025-08-17T12:49:09.241905Z",
     "shell.execute_reply": "2025-08-17T12:49:09.241244Z"
    },
    "papermill": {
     "duration": 0.013881,
     "end_time": "2025-08-17T12:49:09.243234",
     "exception": false,
     "start_time": "2025-08-17T12:49:09.229353",
     "status": "completed"
    },
    "tags": []
   },
   "outputs": [],
   "source": [
    "L = (np.array(lengths) > MAX_LEN).sum()\n",
    "print(f\"There are {L} train sample(s) with more than {MAX_LEN} tokens\")\n",
    "np.sort(lengths)[::-1]"
   ]
  },
  {
   "cell_type": "code",
   "execution_count": null,
   "id": "95e9a127",
   "metadata": {
    "execution": {
     "iopub.execute_input": "2025-08-17T12:49:09.253758Z",
     "iopub.status.busy": "2025-08-17T12:49:09.253249Z",
     "iopub.status.idle": "2025-08-17T12:49:42.523744Z",
     "shell.execute_reply": "2025-08-17T12:49:42.523102Z"
    },
    "papermill": {
     "duration": 33.27704,
     "end_time": "2025-08-17T12:49:42.525008",
     "exception": false,
     "start_time": "2025-08-17T12:49:09.247968",
     "status": "completed"
    },
    "tags": []
   },
   "outputs": [],
   "source": [
    "training_args = get_training_arguments(bf16_support=\"/kaggle\" not in ROOT_PATH)\n",
    "trainer = get_trainer(\n",
    "    seq_model,\n",
    "    tokenizer,\n",
    "    training_args,\n",
    "    test_ds,\n",
    "    test_ds,\n",
    ")"
   ]
  },
  {
   "cell_type": "code",
   "execution_count": null,
   "id": "7d081f6a",
   "metadata": {
    "execution": {
     "iopub.execute_input": "2025-08-17T12:49:42.535455Z",
     "iopub.status.busy": "2025-08-17T12:49:42.535217Z",
     "iopub.status.idle": "2025-08-17T12:49:55.056703Z",
     "shell.execute_reply": "2025-08-17T12:49:55.055899Z"
    },
    "papermill": {
     "duration": 12.527947,
     "end_time": "2025-08-17T12:49:55.057912",
     "exception": false,
     "start_time": "2025-08-17T12:49:42.529965",
     "status": "completed"
    },
    "tags": []
   },
   "outputs": [],
   "source": [
    "predictions = trainer.predict(test_ds)\n",
    "probs = torch.nn.functional.softmax(torch.tensor(predictions.predictions), dim=1).numpy()"
   ]
  },
  {
   "cell_type": "code",
   "execution_count": null,
   "id": "59015922",
   "metadata": {
    "execution": {
     "iopub.execute_input": "2025-08-17T12:49:55.069301Z",
     "iopub.status.busy": "2025-08-17T12:49:55.069068Z",
     "iopub.status.idle": "2025-08-17T12:49:55.082822Z",
     "shell.execute_reply": "2025-08-17T12:49:55.082268Z"
    },
    "papermill": {
     "duration": 0.02048,
     "end_time": "2025-08-17T12:49:55.083752",
     "exception": false,
     "start_time": "2025-08-17T12:49:55.063272",
     "status": "completed"
    },
    "tags": []
   },
   "outputs": [],
   "source": [
    "top3 = np.argsort(-probs, axis=1)[:, :3]\n",
    "\n",
    "# Decode numeric class indices to original string labels\n",
    "flat_top3 = top3.flatten()\n",
    "decoded_labels = le.inverse_transform(flat_top3)\n",
    "top3_labels = decoded_labels.reshape(top3.shape)\n",
    "\n",
    "# Join 3 labels per row with space\n",
    "joined_preds = [\" \".join(row) for row in top3_labels]\n",
    "\n",
    "# Save submission\n",
    "sub = pd.DataFrame({\n",
    "    \"row_id\": test_df.row_id.values,\n",
    "    \"Category:Misconception\": joined_preds\n",
    "})\n",
    "sub.to_csv(\"submission.csv\", index=False)\n",
    "sub.head()"
   ]
  },
  {
   "cell_type": "code",
   "execution_count": null,
   "id": "41036137",
   "metadata": {
    "papermill": {
     "duration": 0.004697,
     "end_time": "2025-08-17T12:49:55.093704",
     "exception": false,
     "start_time": "2025-08-17T12:49:55.089007",
     "status": "completed"
    },
    "tags": []
   },
   "outputs": [],
   "source": []
  }
 ],
 "metadata": {
  "kaggle": {
   "accelerator": "nvidiaTeslaT4",
   "dataSources": [
    {
     "databundleVersionId": 12957508,
     "isSourceIdPinned": false,
     "sourceId": 104383,
     "sourceType": "competition"
    },
    {
     "datasetId": 7922715,
     "sourceId": 12785926,
     "sourceType": "datasetVersion"
    },
    {
     "isSourceIdPinned": true,
     "modelId": 429550,
     "modelInstanceId": 411748,
     "sourceId": 525048,
     "sourceType": "modelInstanceVersion"
    }
   ],
   "isGpuEnabled": true,
   "isInternetEnabled": false,
   "language": "python",
   "sourceType": "notebook"
  },
  "kernelspec": {
   "display_name": ".venv",
   "language": "python",
   "name": "python3"
  },
  "language_info": {
   "codemirror_mode": {
    "name": "ipython",
    "version": 3
   },
   "file_extension": ".py",
   "mimetype": "text/x-python",
   "name": "python",
   "nbconvert_exporter": "python",
   "pygments_lexer": "ipython3",
   "version": "3.12.3"
  },
  "papermill": {
   "default_parameters": {},
   "duration": 103.825562,
   "end_time": "2025-08-17T12:49:57.916856",
   "environment_variables": {},
   "exception": null,
   "input_path": "__notebook__.ipynb",
   "output_path": "__notebook__.ipynb",
   "parameters": {},
   "start_time": "2025-08-17T12:48:14.091294",
   "version": "2.6.0"
  },
  "widgets": {
   "application/vnd.jupyter.widget-state+json": {
    "state": {
     "2f9575184ef64af3820df8e5c6380260": {
      "model_module": "@jupyter-widgets/controls",
      "model_module_version": "2.0.0",
      "model_name": "HTMLModel",
      "state": {
       "_dom_classes": [],
       "_model_module": "@jupyter-widgets/controls",
       "_model_module_version": "2.0.0",
       "_model_name": "HTMLModel",
       "_view_count": null,
       "_view_module": "@jupyter-widgets/controls",
       "_view_module_version": "2.0.0",
       "_view_name": "HTMLView",
       "description": "",
       "description_allow_html": false,
       "layout": "IPY_MODEL_5d4fd97106bc4d65b56ed2c36b07b6db",
       "placeholder": "​",
       "style": "IPY_MODEL_f8d6bd3bbcd442c6b69c42a3f1a21007",
       "tabbable": null,
       "tooltip": null,
       "value": "Map: 100%"
      }
     },
     "58c4f87c58eb425caaa71e41c162e751": {
      "model_module": "@jupyter-widgets/controls",
      "model_module_version": "2.0.0",
      "model_name": "HTMLModel",
      "state": {
       "_dom_classes": [],
       "_model_module": "@jupyter-widgets/controls",
       "_model_module_version": "2.0.0",
       "_model_name": "HTMLModel",
       "_view_count": null,
       "_view_module": "@jupyter-widgets/controls",
       "_view_module_version": "2.0.0",
       "_view_name": "HTMLView",
       "description": "",
       "description_allow_html": false,
       "layout": "IPY_MODEL_a1ec0e56f3f8467fb7fc62ff8620b2bf",
       "placeholder": "​",
       "style": "IPY_MODEL_6ebb348894d644668332e3eaeb09e4e0",
       "tabbable": null,
       "tooltip": null,
       "value": " 3/3 [00:00&lt;00:00, 56.62 examples/s]"
      }
     },
     "5d4fd97106bc4d65b56ed2c36b07b6db": {
      "model_module": "@jupyter-widgets/base",
      "model_module_version": "2.0.0",
      "model_name": "LayoutModel",
      "state": {
       "_model_module": "@jupyter-widgets/base",
       "_model_module_version": "2.0.0",
       "_model_name": "LayoutModel",
       "_view_count": null,
       "_view_module": "@jupyter-widgets/base",
       "_view_module_version": "2.0.0",
       "_view_name": "LayoutView",
       "align_content": null,
       "align_items": null,
       "align_self": null,
       "border_bottom": null,
       "border_left": null,
       "border_right": null,
       "border_top": null,
       "bottom": null,
       "display": null,
       "flex": null,
       "flex_flow": null,
       "grid_area": null,
       "grid_auto_columns": null,
       "grid_auto_flow": null,
       "grid_auto_rows": null,
       "grid_column": null,
       "grid_gap": null,
       "grid_row": null,
       "grid_template_areas": null,
       "grid_template_columns": null,
       "grid_template_rows": null,
       "height": null,
       "justify_content": null,
       "justify_items": null,
       "left": null,
       "margin": null,
       "max_height": null,
       "max_width": null,
       "min_height": null,
       "min_width": null,
       "object_fit": null,
       "object_position": null,
       "order": null,
       "overflow": null,
       "padding": null,
       "right": null,
       "top": null,
       "visibility": null,
       "width": null
      }
     },
     "6ebb348894d644668332e3eaeb09e4e0": {
      "model_module": "@jupyter-widgets/controls",
      "model_module_version": "2.0.0",
      "model_name": "HTMLStyleModel",
      "state": {
       "_model_module": "@jupyter-widgets/controls",
       "_model_module_version": "2.0.0",
       "_model_name": "HTMLStyleModel",
       "_view_count": null,
       "_view_module": "@jupyter-widgets/base",
       "_view_module_version": "2.0.0",
       "_view_name": "StyleView",
       "background": null,
       "description_width": "",
       "font_size": null,
       "text_color": null
      }
     },
     "7267b8fbd7b4463ab06dc6997efd7bb0": {
      "model_module": "@jupyter-widgets/base",
      "model_module_version": "2.0.0",
      "model_name": "LayoutModel",
      "state": {
       "_model_module": "@jupyter-widgets/base",
       "_model_module_version": "2.0.0",
       "_model_name": "LayoutModel",
       "_view_count": null,
       "_view_module": "@jupyter-widgets/base",
       "_view_module_version": "2.0.0",
       "_view_name": "LayoutView",
       "align_content": null,
       "align_items": null,
       "align_self": null,
       "border_bottom": null,
       "border_left": null,
       "border_right": null,
       "border_top": null,
       "bottom": null,
       "display": null,
       "flex": null,
       "flex_flow": null,
       "grid_area": null,
       "grid_auto_columns": null,
       "grid_auto_flow": null,
       "grid_auto_rows": null,
       "grid_column": null,
       "grid_gap": null,
       "grid_row": null,
       "grid_template_areas": null,
       "grid_template_columns": null,
       "grid_template_rows": null,
       "height": null,
       "justify_content": null,
       "justify_items": null,
       "left": null,
       "margin": null,
       "max_height": null,
       "max_width": null,
       "min_height": null,
       "min_width": null,
       "object_fit": null,
       "object_position": null,
       "order": null,
       "overflow": null,
       "padding": null,
       "right": null,
       "top": null,
       "visibility": null,
       "width": null
      }
     },
     "82e1533c42454cb4ad4c93c59aab1b78": {
      "model_module": "@jupyter-widgets/controls",
      "model_module_version": "2.0.0",
      "model_name": "ProgressStyleModel",
      "state": {
       "_model_module": "@jupyter-widgets/controls",
       "_model_module_version": "2.0.0",
       "_model_name": "ProgressStyleModel",
       "_view_count": null,
       "_view_module": "@jupyter-widgets/base",
       "_view_module_version": "2.0.0",
       "_view_name": "StyleView",
       "bar_color": null,
       "description_width": ""
      }
     },
     "96cc4bd2500b4a1b8bab6d5616666ac3": {
      "model_module": "@jupyter-widgets/base",
      "model_module_version": "2.0.0",
      "model_name": "LayoutModel",
      "state": {
       "_model_module": "@jupyter-widgets/base",
       "_model_module_version": "2.0.0",
       "_model_name": "LayoutModel",
       "_view_count": null,
       "_view_module": "@jupyter-widgets/base",
       "_view_module_version": "2.0.0",
       "_view_name": "LayoutView",
       "align_content": null,
       "align_items": null,
       "align_self": null,
       "border_bottom": null,
       "border_left": null,
       "border_right": null,
       "border_top": null,
       "bottom": null,
       "display": null,
       "flex": null,
       "flex_flow": null,
       "grid_area": null,
       "grid_auto_columns": null,
       "grid_auto_flow": null,
       "grid_auto_rows": null,
       "grid_column": null,
       "grid_gap": null,
       "grid_row": null,
       "grid_template_areas": null,
       "grid_template_columns": null,
       "grid_template_rows": null,
       "height": null,
       "justify_content": null,
       "justify_items": null,
       "left": null,
       "margin": null,
       "max_height": null,
       "max_width": null,
       "min_height": null,
       "min_width": null,
       "object_fit": null,
       "object_position": null,
       "order": null,
       "overflow": null,
       "padding": null,
       "right": null,
       "top": null,
       "visibility": null,
       "width": null
      }
     },
     "a1ec0e56f3f8467fb7fc62ff8620b2bf": {
      "model_module": "@jupyter-widgets/base",
      "model_module_version": "2.0.0",
      "model_name": "LayoutModel",
      "state": {
       "_model_module": "@jupyter-widgets/base",
       "_model_module_version": "2.0.0",
       "_model_name": "LayoutModel",
       "_view_count": null,
       "_view_module": "@jupyter-widgets/base",
       "_view_module_version": "2.0.0",
       "_view_name": "LayoutView",
       "align_content": null,
       "align_items": null,
       "align_self": null,
       "border_bottom": null,
       "border_left": null,
       "border_right": null,
       "border_top": null,
       "bottom": null,
       "display": null,
       "flex": null,
       "flex_flow": null,
       "grid_area": null,
       "grid_auto_columns": null,
       "grid_auto_flow": null,
       "grid_auto_rows": null,
       "grid_column": null,
       "grid_gap": null,
       "grid_row": null,
       "grid_template_areas": null,
       "grid_template_columns": null,
       "grid_template_rows": null,
       "height": null,
       "justify_content": null,
       "justify_items": null,
       "left": null,
       "margin": null,
       "max_height": null,
       "max_width": null,
       "min_height": null,
       "min_width": null,
       "object_fit": null,
       "object_position": null,
       "order": null,
       "overflow": null,
       "padding": null,
       "right": null,
       "top": null,
       "visibility": null,
       "width": null
      }
     },
     "b8d5be494b0c47b08d0ab76b60385eb4": {
      "model_module": "@jupyter-widgets/controls",
      "model_module_version": "2.0.0",
      "model_name": "HBoxModel",
      "state": {
       "_dom_classes": [],
       "_model_module": "@jupyter-widgets/controls",
       "_model_module_version": "2.0.0",
       "_model_name": "HBoxModel",
       "_view_count": null,
       "_view_module": "@jupyter-widgets/controls",
       "_view_module_version": "2.0.0",
       "_view_name": "HBoxView",
       "box_style": "",
       "children": [
        "IPY_MODEL_2f9575184ef64af3820df8e5c6380260",
        "IPY_MODEL_dd85da0b40604832bab434e50c995685",
        "IPY_MODEL_58c4f87c58eb425caaa71e41c162e751"
       ],
       "layout": "IPY_MODEL_96cc4bd2500b4a1b8bab6d5616666ac3",
       "tabbable": null,
       "tooltip": null
      }
     },
     "dd85da0b40604832bab434e50c995685": {
      "model_module": "@jupyter-widgets/controls",
      "model_module_version": "2.0.0",
      "model_name": "FloatProgressModel",
      "state": {
       "_dom_classes": [],
       "_model_module": "@jupyter-widgets/controls",
       "_model_module_version": "2.0.0",
       "_model_name": "FloatProgressModel",
       "_view_count": null,
       "_view_module": "@jupyter-widgets/controls",
       "_view_module_version": "2.0.0",
       "_view_name": "ProgressView",
       "bar_style": "success",
       "description": "",
       "description_allow_html": false,
       "layout": "IPY_MODEL_7267b8fbd7b4463ab06dc6997efd7bb0",
       "max": 3,
       "min": 0,
       "orientation": "horizontal",
       "style": "IPY_MODEL_82e1533c42454cb4ad4c93c59aab1b78",
       "tabbable": null,
       "tooltip": null,
       "value": 3
      }
     },
     "f8d6bd3bbcd442c6b69c42a3f1a21007": {
      "model_module": "@jupyter-widgets/controls",
      "model_module_version": "2.0.0",
      "model_name": "HTMLStyleModel",
      "state": {
       "_model_module": "@jupyter-widgets/controls",
       "_model_module_version": "2.0.0",
       "_model_name": "HTMLStyleModel",
       "_view_count": null,
       "_view_module": "@jupyter-widgets/base",
       "_view_module_version": "2.0.0",
       "_view_name": "StyleView",
       "background": null,
       "description_width": "",
       "font_size": null,
       "text_color": null
      }
     }
    },
    "version_major": 2,
    "version_minor": 0
   }
  }
 },
 "nbformat": 4,
 "nbformat_minor": 5
}
