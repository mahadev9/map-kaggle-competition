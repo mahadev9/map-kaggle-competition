{
 "cells": [
  {
   "cell_type": "code",
   "execution_count": 1,
   "id": "1321acf1",
   "metadata": {},
   "outputs": [],
   "source": [
    "import os\n",
    "import sys\n",
    "\n",
    "ROOT_PATH = os.getcwd()\n",
    "if \"/kaggle\" in ROOT_PATH:\n",
    "    ROOT_PATH = \"/kaggle/input\"\n",
    "    sys.path.append(os.path.join(ROOT_PATH, \"map-utilities\"))"
   ]
  },
  {
   "cell_type": "code",
   "execution_count": 2,
   "id": "3be394ca",
   "metadata": {
    "execution": {
     "iopub.execute_input": "2025-07-22T12:51:30.640318Z",
     "iopub.status.busy": "2025-07-22T12:51:30.640045Z",
     "iopub.status.idle": "2025-07-22T12:51:59.878295Z",
     "shell.execute_reply": "2025-07-22T12:51:59.877628Z"
    },
    "papermill": {
     "duration": 29.253584,
     "end_time": "2025-07-22T12:51:59.879645",
     "exception": false,
     "start_time": "2025-07-22T12:51:30.626061",
     "status": "completed"
    },
    "tags": []
   },
   "outputs": [],
   "source": [
    "import pandas as pd\n",
    "import numpy as np\n",
    "import joblib\n",
    "from sklearn.preprocessing import LabelEncoder\n",
    "from sklearn.model_selection import train_test_split\n",
    "import matplotlib.pyplot as plt\n",
    "\n",
    "import torch\n",
    "from datasets import Dataset\n",
    "from peft import get_peft_model, LoraConfig, TaskType\n",
    "\n",
    "from utils import (\n",
    "    stringify_input,\n",
    "    get_model_name,\n",
    "    get_sequence_classifier,\n",
    "    get_tokenizer,\n",
    "    get_training_arguments,\n",
    "    get_trainer,\n",
    ")"
   ]
  },
  {
   "cell_type": "code",
   "execution_count": 3,
   "id": "662a9e54",
   "metadata": {
    "execution": {
     "iopub.execute_input": "2025-07-22T12:51:59.904010Z",
     "iopub.status.busy": "2025-07-22T12:51:59.903493Z",
     "iopub.status.idle": "2025-07-22T12:51:59.907535Z",
     "shell.execute_reply": "2025-07-22T12:51:59.906915Z"
    },
    "papermill": {
     "duration": 0.016955,
     "end_time": "2025-07-22T12:51:59.908619",
     "exception": false,
     "start_time": "2025-07-22T12:51:59.891664",
     "status": "completed"
    },
    "tags": []
   },
   "outputs": [],
   "source": [
    "EPOCHS = 5\n",
    "MODEL_NAME = get_model_name(\"/kaggle\" in ROOT_PATH, ROOT_PATH)\n",
    "USE_LORA = False\n",
    "\n",
    "TRAIN_PATH = os.path.join(ROOT_PATH, \"map-charting-student-math-misunderstandings\", \"train.csv\")\n",
    "TEST_PATH = os.path.join(ROOT_PATH, \"map-charting-student-math-misunderstandings\", \"test.csv\")"
   ]
  },
  {
   "cell_type": "code",
   "execution_count": 4,
   "id": "1294113b",
   "metadata": {
    "execution": {
     "iopub.execute_input": "2025-07-22T12:51:59.932669Z",
     "iopub.status.busy": "2025-07-22T12:51:59.932466Z",
     "iopub.status.idle": "2025-07-22T12:52:00.122845Z",
     "shell.execute_reply": "2025-07-22T12:52:00.122268Z"
    },
    "papermill": {
     "duration": 0.203456,
     "end_time": "2025-07-22T12:52:00.124170",
     "exception": false,
     "start_time": "2025-07-22T12:51:59.920714",
     "status": "completed"
    },
    "tags": []
   },
   "outputs": [],
   "source": [
    "train_df = pd.read_csv(TRAIN_PATH)\n",
    "test_df = pd.read_csv(TEST_PATH)"
   ]
  },
  {
   "cell_type": "code",
   "execution_count": 5,
   "id": "cb10e385",
   "metadata": {},
   "outputs": [
    {
     "name": "stdout",
     "output_type": "stream",
     "text": [
      "Training Shape: (36696, 7)\n",
      "Testing Shape: (3, 5)\n"
     ]
    }
   ],
   "source": [
    "print(\"Training Shape:\", train_df.shape)\n",
    "print(\"Testing Shape:\", test_df.shape)"
   ]
  },
  {
   "cell_type": "code",
   "execution_count": 6,
   "id": "7a455f0f",
   "metadata": {
    "execution": {
     "iopub.execute_input": "2025-07-22T12:52:00.148505Z",
     "iopub.status.busy": "2025-07-22T12:52:00.148270Z",
     "iopub.status.idle": "2025-07-22T12:52:00.157736Z",
     "shell.execute_reply": "2025-07-22T12:52:00.157186Z"
    },
    "papermill": {
     "duration": 0.02256,
     "end_time": "2025-07-22T12:52:00.158847",
     "exception": false,
     "start_time": "2025-07-22T12:52:00.136287",
     "status": "completed"
    },
    "tags": []
   },
   "outputs": [],
   "source": [
    "train_df.Misconception = train_df.Misconception.fillna(\"NA\")"
   ]
  },
  {
   "cell_type": "code",
   "execution_count": 7,
   "id": "0aed8687",
   "metadata": {
    "execution": {
     "iopub.execute_input": "2025-07-22T12:52:00.182041Z",
     "iopub.status.busy": "2025-07-22T12:52:00.181810Z",
     "iopub.status.idle": "2025-07-22T12:52:00.193187Z",
     "shell.execute_reply": "2025-07-22T12:52:00.192629Z"
    },
    "papermill": {
     "duration": 0.024146,
     "end_time": "2025-07-22T12:52:00.194257",
     "exception": false,
     "start_time": "2025-07-22T12:52:00.170111",
     "status": "completed"
    },
    "tags": []
   },
   "outputs": [],
   "source": [
    "train_df[\"predict\"] = train_df.Category + \":\" + train_df.Misconception"
   ]
  },
  {
   "cell_type": "code",
   "execution_count": 8,
   "id": "3af34453",
   "metadata": {},
   "outputs": [
    {
     "name": "stderr",
     "output_type": "stream",
     "text": [
      "/tmp/ipykernel_183040/1307861462.py:10: FutureWarning: Downcasting object dtype arrays on .fillna, .ffill, .bfill is deprecated and will change in a future version. Call result.infer_objects(copy=False) instead. To opt-in to the future behavior, set `pd.set_option('future.no_silent_downcasting', True)`\n",
      "  train_df.is_mc_answer_correct = train_df.is_mc_answer_correct.fillna(False)\n",
      "/tmp/ipykernel_183040/1307861462.py:13: FutureWarning: Downcasting object dtype arrays on .fillna, .ffill, .bfill is deprecated and will change in a future version. Call result.infer_objects(copy=False) instead. To opt-in to the future behavior, set `pd.set_option('future.no_silent_downcasting', True)`\n",
      "  test_df.is_mc_answer_correct = test_df.is_mc_answer_correct.fillna(False)\n"
     ]
    }
   ],
   "source": [
    "idx = train_df.Category.str.contains(\"True\", case=False)\n",
    "tmp = train_df.loc[idx].copy()\n",
    "tmp[\"c\"] = tmp.groupby([\"QuestionId\", \"MC_Answer\"]).MC_Answer.transform(\"count\")\n",
    "tmp = tmp.sort_values(\"c\", ascending=False)\n",
    "tmp = tmp.drop_duplicates([\"QuestionId\"])\n",
    "tmp = tmp[[\"QuestionId\", \"MC_Answer\"]]\n",
    "tmp[\"is_mc_answer_correct\"] = True\n",
    "\n",
    "train_df = train_df.merge(tmp, on=[\"QuestionId\", \"MC_Answer\"], how=\"left\")\n",
    "train_df.is_mc_answer_correct = train_df.is_mc_answer_correct.fillna(False)\n",
    "\n",
    "test_df = test_df.merge(tmp, on=[\"QuestionId\", \"MC_Answer\"], how=\"left\")\n",
    "test_df.is_mc_answer_correct = test_df.is_mc_answer_correct.fillna(False)"
   ]
  },
  {
   "cell_type": "code",
   "execution_count": 9,
   "id": "51ce07d4",
   "metadata": {
    "execution": {
     "iopub.execute_input": "2025-07-22T12:52:00.260550Z",
     "iopub.status.busy": "2025-07-22T12:52:00.260368Z",
     "iopub.status.idle": "2025-07-22T12:52:00.280097Z",
     "shell.execute_reply": "2025-07-22T12:52:00.279525Z"
    },
    "papermill": {
     "duration": 0.032669,
     "end_time": "2025-07-22T12:52:00.281183",
     "exception": false,
     "start_time": "2025-07-22T12:52:00.248514",
     "status": "completed"
    },
    "tags": []
   },
   "outputs": [],
   "source": [
    "train_df[\"is_student_explanation_correct\"] = train_df.Category.apply(\n",
    "    lambda x: 0 if \"Neither\" in x else (1 if \"Correct\" in x else 2)\n",
    ")"
   ]
  },
  {
   "cell_type": "code",
   "execution_count": 10,
   "id": "f669319c",
   "metadata": {
    "execution": {
     "iopub.execute_input": "2025-07-22T12:52:00.304317Z",
     "iopub.status.busy": "2025-07-22T12:52:00.303915Z",
     "iopub.status.idle": "2025-07-22T12:52:00.315254Z",
     "shell.execute_reply": "2025-07-22T12:52:00.314321Z"
    },
    "papermill": {
     "duration": 0.02407,
     "end_time": "2025-07-22T12:52:00.316337",
     "exception": false,
     "start_time": "2025-07-22T12:52:00.292267",
     "status": "completed"
    },
    "tags": []
   },
   "outputs": [
    {
     "name": "stdout",
     "output_type": "stream",
     "text": [
      "Train shape: (36696, 11) with 65 predict classes\n"
     ]
    }
   ],
   "source": [
    "le = LabelEncoder()\n",
    "\n",
    "train_df[\"label\"] = le.fit_transform(train_df[\"predict\"])\n",
    "n_classes = len(le.classes_)\n",
    "print(f\"Train shape: {train_df.shape} with {n_classes} predict classes\")"
   ]
  },
  {
   "cell_type": "code",
   "execution_count": 11,
   "id": "e5aa83e7",
   "metadata": {},
   "outputs": [
    {
     "data": {
      "text/plain": [
       "['label_encoder.joblib']"
      ]
     },
     "execution_count": 11,
     "metadata": {},
     "output_type": "execute_result"
    }
   ],
   "source": [
    "joblib.dump(le, \"label_encoder.joblib\")"
   ]
  },
  {
   "cell_type": "code",
   "execution_count": 12,
   "id": "776445eb",
   "metadata": {
    "execution": {
     "iopub.execute_input": "2025-07-22T12:52:00.339629Z",
     "iopub.status.busy": "2025-07-22T12:52:00.339406Z",
     "iopub.status.idle": "2025-07-22T12:52:00.358463Z",
     "shell.execute_reply": "2025-07-22T12:52:00.357807Z"
    },
    "papermill": {
     "duration": 0.031995,
     "end_time": "2025-07-22T12:52:00.359533",
     "exception": false,
     "start_time": "2025-07-22T12:52:00.327538",
     "status": "completed"
    },
    "tags": []
   },
   "outputs": [
    {
     "data": {
      "text/html": [
       "<div>\n",
       "<style scoped>\n",
       "    .dataframe tbody tr th:only-of-type {\n",
       "        vertical-align: middle;\n",
       "    }\n",
       "\n",
       "    .dataframe tbody tr th {\n",
       "        vertical-align: top;\n",
       "    }\n",
       "\n",
       "    .dataframe thead th {\n",
       "        text-align: right;\n",
       "    }\n",
       "</style>\n",
       "<table border=\"1\" class=\"dataframe\">\n",
       "  <thead>\n",
       "    <tr style=\"text-align: right;\">\n",
       "      <th></th>\n",
       "      <th>row_id</th>\n",
       "      <th>QuestionId</th>\n",
       "      <th>QuestionText</th>\n",
       "      <th>MC_Answer</th>\n",
       "      <th>StudentExplanation</th>\n",
       "      <th>Category</th>\n",
       "      <th>Misconception</th>\n",
       "      <th>predict</th>\n",
       "      <th>is_mc_answer_correct</th>\n",
       "      <th>is_student_explanation_correct</th>\n",
       "      <th>label</th>\n",
       "    </tr>\n",
       "  </thead>\n",
       "  <tbody>\n",
       "    <tr>\n",
       "      <th>0</th>\n",
       "      <td>0</td>\n",
       "      <td>31772</td>\n",
       "      <td>What fraction of the shape is not shaded? Give...</td>\n",
       "      <td>\\( \\frac{1}{3} \\)</td>\n",
       "      <td>0ne third is equal to tree nineth</td>\n",
       "      <td>True_Correct</td>\n",
       "      <td>NA</td>\n",
       "      <td>True_Correct:NA</td>\n",
       "      <td>True</td>\n",
       "      <td>1</td>\n",
       "      <td>37</td>\n",
       "    </tr>\n",
       "    <tr>\n",
       "      <th>1</th>\n",
       "      <td>1</td>\n",
       "      <td>31772</td>\n",
       "      <td>What fraction of the shape is not shaded? Give...</td>\n",
       "      <td>\\( \\frac{1}{3} \\)</td>\n",
       "      <td>1 / 3 because 6 over 9 is 2 thirds and 1 third...</td>\n",
       "      <td>True_Correct</td>\n",
       "      <td>NA</td>\n",
       "      <td>True_Correct:NA</td>\n",
       "      <td>True</td>\n",
       "      <td>1</td>\n",
       "      <td>37</td>\n",
       "    </tr>\n",
       "    <tr>\n",
       "      <th>2</th>\n",
       "      <td>2</td>\n",
       "      <td>31772</td>\n",
       "      <td>What fraction of the shape is not shaded? Give...</td>\n",
       "      <td>\\( \\frac{1}{3} \\)</td>\n",
       "      <td>1 3rd is half of 3 6th, so it is simplee to un...</td>\n",
       "      <td>True_Neither</td>\n",
       "      <td>NA</td>\n",
       "      <td>True_Neither:NA</td>\n",
       "      <td>True</td>\n",
       "      <td>0</td>\n",
       "      <td>64</td>\n",
       "    </tr>\n",
       "    <tr>\n",
       "      <th>3</th>\n",
       "      <td>3</td>\n",
       "      <td>31772</td>\n",
       "      <td>What fraction of the shape is not shaded? Give...</td>\n",
       "      <td>\\( \\frac{1}{3} \\)</td>\n",
       "      <td>1 goes into everything and 3 goes into nine</td>\n",
       "      <td>True_Neither</td>\n",
       "      <td>NA</td>\n",
       "      <td>True_Neither:NA</td>\n",
       "      <td>True</td>\n",
       "      <td>0</td>\n",
       "      <td>64</td>\n",
       "    </tr>\n",
       "    <tr>\n",
       "      <th>4</th>\n",
       "      <td>4</td>\n",
       "      <td>31772</td>\n",
       "      <td>What fraction of the shape is not shaded? Give...</td>\n",
       "      <td>\\( \\frac{1}{3} \\)</td>\n",
       "      <td>1 out of every 3 isn't coloured</td>\n",
       "      <td>True_Correct</td>\n",
       "      <td>NA</td>\n",
       "      <td>True_Correct:NA</td>\n",
       "      <td>True</td>\n",
       "      <td>1</td>\n",
       "      <td>37</td>\n",
       "    </tr>\n",
       "  </tbody>\n",
       "</table>\n",
       "</div>"
      ],
      "text/plain": [
       "   row_id  QuestionId                                       QuestionText  \\\n",
       "0       0       31772  What fraction of the shape is not shaded? Give...   \n",
       "1       1       31772  What fraction of the shape is not shaded? Give...   \n",
       "2       2       31772  What fraction of the shape is not shaded? Give...   \n",
       "3       3       31772  What fraction of the shape is not shaded? Give...   \n",
       "4       4       31772  What fraction of the shape is not shaded? Give...   \n",
       "\n",
       "           MC_Answer                                 StudentExplanation  \\\n",
       "0  \\( \\frac{1}{3} \\)                  0ne third is equal to tree nineth   \n",
       "1  \\( \\frac{1}{3} \\)  1 / 3 because 6 over 9 is 2 thirds and 1 third...   \n",
       "2  \\( \\frac{1}{3} \\)  1 3rd is half of 3 6th, so it is simplee to un...   \n",
       "3  \\( \\frac{1}{3} \\)        1 goes into everything and 3 goes into nine   \n",
       "4  \\( \\frac{1}{3} \\)                    1 out of every 3 isn't coloured   \n",
       "\n",
       "       Category Misconception          predict  is_mc_answer_correct  \\\n",
       "0  True_Correct            NA  True_Correct:NA                  True   \n",
       "1  True_Correct            NA  True_Correct:NA                  True   \n",
       "2  True_Neither            NA  True_Neither:NA                  True   \n",
       "3  True_Neither            NA  True_Neither:NA                  True   \n",
       "4  True_Correct            NA  True_Correct:NA                  True   \n",
       "\n",
       "   is_student_explanation_correct  label  \n",
       "0                               1     37  \n",
       "1                               1     37  \n",
       "2                               0     64  \n",
       "3                               0     64  \n",
       "4                               1     37  "
      ]
     },
     "execution_count": 12,
     "metadata": {},
     "output_type": "execute_result"
    }
   ],
   "source": [
    "train_df.head()"
   ]
  },
  {
   "cell_type": "code",
   "execution_count": 13,
   "id": "ee13febb",
   "metadata": {
    "execution": {
     "iopub.execute_input": "2025-07-22T12:52:00.911089Z",
     "iopub.status.busy": "2025-07-22T12:52:00.910639Z",
     "iopub.status.idle": "2025-07-22T12:52:00.928698Z",
     "shell.execute_reply": "2025-07-22T12:52:00.928000Z"
    },
    "papermill": {
     "duration": 0.031323,
     "end_time": "2025-07-22T12:52:00.929866",
     "exception": false,
     "start_time": "2025-07-22T12:52:00.898543",
     "status": "completed"
    },
    "tags": []
   },
   "outputs": [],
   "source": [
    "model_train_df, model_val_df = train_test_split(train_df, test_size=0.2, random_state=42)"
   ]
  },
  {
   "cell_type": "code",
   "execution_count": 14,
   "id": "280a5cdd",
   "metadata": {},
   "outputs": [
    {
     "data": {
      "text/plain": [
       "array([\"Question: Dots have been arranged in these patterns: [Image: Pattern 1 consists of 6 dots, Pattern 2 consists of 10 dots, Pattern 3 consists of 14 dots and Pattern 4 consists of 18 dots] How many dots would there be in Pattern \\\\( 6 \\\\) ?\\nAnswer: \\\\( 26 \\\\)\\nThe student's answer is correct.\\nStudent's Explanation: apart from the first it add's 4 every time\",\n",
       "       \"Question: What fraction of the shape is not shaded? Give your answer in its simplest form. [Image: A triangle split into 9 equal smaller triangles. 6 of them are shaded.]\\nAnswer: \\\\( \\\\frac{3}{9} \\\\)\\nThe student's answer is incorrect.\\nStudent's Explanation: There are 9 triangles and 3 arent shaded so this means it would be 9/3.\",\n",
       "       \"Question: Dots have been arranged in these patterns: [Image: Pattern 1 consists of 6 dots, Pattern 2 consists of 10 dots, Pattern 3 consists of 14 dots and Pattern 4 consists of 18 dots] How many dots would there be in Pattern \\\\( 6 \\\\) ?\\nAnswer: \\\\( 36 \\\\)\\nThe student's answer is incorrect.\\nStudent's Explanation: i think this because its always in 4\",\n",
       "       \"Question: Calculate \\\\( \\\\frac{1}{2} \\\\div 6 \\\\)\\nAnswer: \\\\( \\\\frac{1}{12} \\\\)\\nThe student's answer is correct.\\nStudent's Explanation: Because i did 1 x 6 =6 then 2 x 6 =12 then divided the denominator by 6 and not the numerater .\",\n",
       "       \"Question: \\\\( \\\\frac{A}{10}=\\\\frac{9}{15} \\\\) What is the value of \\\\( A \\\\) ?\\nAnswer: \\\\( 4 \\\\)\\nThe student's answer is incorrect.\\nStudent's Explanation: It is B as 10 plus 5 is 15 so A must be plus 5, so the answer is A.\"],\n",
       "      dtype=object)"
      ]
     },
     "execution_count": 14,
     "metadata": {},
     "output_type": "execute_result"
    }
   ],
   "source": [
    "model_train_df[\"stringified_input\"] = model_train_df.apply(stringify_input, axis=1)\n",
    "\n",
    "model_train_df.stringified_input.values[:5]"
   ]
  },
  {
   "cell_type": "code",
   "execution_count": 15,
   "id": "c8b35055",
   "metadata": {},
   "outputs": [
    {
     "data": {
      "text/plain": [
       "array(['Question: The probability of an event occurring is \\\\( 0.9 \\\\).\\n\\nWhich of the following most accurately describes the likelihood of the event occurring?\\nAnswer: Likely\\nThe student\\'s answer is correct.\\nStudent\\'s Explanation: i think it\\'s b because if it\\'s certain, you\\'re saying that it will happen 100%;however, the number is 0.9 and it isn\\'t \"certain\" so therefore it would be likely',\n",
       "       \"Question: Sally has \\\\( \\\\frac{2}{3} \\\\) of a whole cake in the fridge. Robert eats \\\\( \\\\frac{1}{3} \\\\) of this piece. What fraction of the whole cake has Robert eaten?\\nChoose the number sentence that would solve the word problem.\\nAnswer: \\\\( \\\\frac{2}{3}-\\\\frac{1}{3} \\\\)\\nThe student's answer is incorrect.\\nStudent's Explanation: roberts takes half of the 2/3 so it is -\",\n",
       "       \"Question: Calculate \\\\( \\\\frac{2}{3} \\\\times 5 \\\\)\\nAnswer: \\\\( 3 \\\\frac{1}{3} \\\\)\\nThe student's answer is correct.\\nStudent's Explanation: 2 x 5 is 10 so its 10/3 and 10/3 is also 3 1/3\",\n",
       "       \"Question: Which number is the greatest?\\nAnswer: \\\\( 6.2 \\\\)\\nThe student's answer is correct.\\nStudent's Explanation: because it is 6.2 not 6   6.079 ore  6.0001\",\n",
       "       \"Question: Which number is the greatest?\\nAnswer: \\\\( 6.2 \\\\)\\nThe student's answer is correct.\\nStudent's Explanation: because it is 6 and 2/10 and the others will be in 100 and 10000.\"],\n",
       "      dtype=object)"
      ]
     },
     "execution_count": 15,
     "metadata": {},
     "output_type": "execute_result"
    }
   ],
   "source": [
    "# model_val_df.drop(columns=[\"is_student_explanation_correct\"], inplace=True)\n",
    "model_val_df[\"stringified_input\"] = model_val_df.apply(stringify_input, axis=1)\n",
    "\n",
    "model_val_df.stringified_input.values[:5]"
   ]
  },
  {
   "cell_type": "code",
   "execution_count": 16,
   "id": "7c6aeabe",
   "metadata": {
    "execution": {
     "iopub.execute_input": "2025-07-22T12:52:00.954040Z",
     "iopub.status.busy": "2025-07-22T12:52:00.953600Z",
     "iopub.status.idle": "2025-07-22T12:52:01.064183Z",
     "shell.execute_reply": "2025-07-22T12:52:01.063547Z"
    },
    "papermill": {
     "duration": 0.123876,
     "end_time": "2025-07-22T12:52:01.065499",
     "exception": false,
     "start_time": "2025-07-22T12:52:00.941623",
     "status": "completed"
    },
    "tags": []
   },
   "outputs": [],
   "source": [
    "COLUMNS = [\"stringified_input\", \"label\"]\n",
    "\n",
    "train_ds = Dataset.from_pandas(model_train_df[COLUMNS])\n",
    "val_ds = Dataset.from_pandas(model_val_df[COLUMNS])"
   ]
  },
  {
   "cell_type": "code",
   "execution_count": 17,
   "id": "0f44813f",
   "metadata": {
    "execution": {
     "iopub.execute_input": "2025-07-22T12:52:01.089872Z",
     "iopub.status.busy": "2025-07-22T12:52:01.089669Z",
     "iopub.status.idle": "2025-07-22T12:52:07.792306Z",
     "shell.execute_reply": "2025-07-22T12:52:07.791701Z"
    },
    "papermill": {
     "duration": 6.715947,
     "end_time": "2025-07-22T12:52:07.793548",
     "exception": false,
     "start_time": "2025-07-22T12:52:01.077601",
     "status": "completed"
    },
    "tags": []
   },
   "outputs": [
    {
     "name": "stderr",
     "output_type": "stream",
     "text": [
      "Some weights of ModernBertForSequenceClassification were not initialized from the model checkpoint at answerdotai/ModernBERT-large and are newly initialized: ['classifier.bias', 'classifier.weight']\n",
      "You should probably TRAIN this model on a down-stream task to be able to use it for predictions and inference.\n"
     ]
    }
   ],
   "source": [
    "seq_model = get_sequence_classifier(MODEL_NAME, n_classes)\n",
    "tokenizer = get_tokenizer(MODEL_NAME)"
   ]
  },
  {
   "cell_type": "code",
   "execution_count": 18,
   "id": "e3f17e60",
   "metadata": {},
   "outputs": [],
   "source": [
    "if USE_LORA:\n",
    "    peft_config = LoraConfig(\n",
    "        r=4,\n",
    "        lora_alpha=32,\n",
    "        target_modules=[\"Wqkv\", \"Wo\"],\n",
    "        lora_dropout=0.1,\n",
    "        task_type=TaskType.SEQ_CLS,\n",
    "        inference_mode=False,\n",
    "    )\n",
    "    seq_model = get_peft_model(seq_model, peft_config)\n",
    "\n",
    "    for name, p in seq_model.named_parameters():\n",
    "        if \"lora\" not in name:\n",
    "            p.requires_grad = False"
   ]
  },
  {
   "cell_type": "code",
   "execution_count": 19,
   "id": "782dd5c9",
   "metadata": {
    "execution": {
     "iopub.execute_input": "2025-07-22T12:52:07.862504Z",
     "iopub.status.busy": "2025-07-22T12:52:07.861870Z",
     "iopub.status.idle": "2025-07-22T12:52:07.865846Z",
     "shell.execute_reply": "2025-07-22T12:52:07.865159Z"
    },
    "papermill": {
     "duration": 0.061443,
     "end_time": "2025-07-22T12:52:07.867052",
     "exception": false,
     "start_time": "2025-07-22T12:52:07.805609",
     "status": "completed"
    },
    "tags": []
   },
   "outputs": [],
   "source": [
    "def tokenize_function(examples):\n",
    "    return tokenizer(examples[\"stringified_input\"], truncation=True, padding=\"max_length\", max_length=512)"
   ]
  },
  {
   "cell_type": "code",
   "execution_count": 20,
   "id": "a36d9317",
   "metadata": {
    "execution": {
     "iopub.execute_input": "2025-07-22T12:52:07.891240Z",
     "iopub.status.busy": "2025-07-22T12:52:07.891027Z",
     "iopub.status.idle": "2025-07-22T12:52:15.993005Z",
     "shell.execute_reply": "2025-07-22T12:52:15.992337Z"
    },
    "papermill": {
     "duration": 8.115453,
     "end_time": "2025-07-22T12:52:15.994255",
     "exception": false,
     "start_time": "2025-07-22T12:52:07.878802",
     "status": "completed"
    },
    "tags": []
   },
   "outputs": [
    {
     "data": {
      "application/vnd.jupyter.widget-view+json": {
       "model_id": "0a5a9a39c6dc4c16b100ea26b5fd3acc",
       "version_major": 2,
       "version_minor": 0
      },
      "text/plain": [
       "Map:   0%|          | 0/29356 [00:00<?, ? examples/s]"
      ]
     },
     "metadata": {},
     "output_type": "display_data"
    },
    {
     "data": {
      "application/vnd.jupyter.widget-view+json": {
       "model_id": "ca118b214fa844b2bd717905bbde2156",
       "version_major": 2,
       "version_minor": 0
      },
      "text/plain": [
       "Map:   0%|          | 0/7340 [00:00<?, ? examples/s]"
      ]
     },
     "metadata": {},
     "output_type": "display_data"
    }
   ],
   "source": [
    "train_ds = train_ds.map(tokenize_function, batched=True)\n",
    "val_ds = val_ds.map(tokenize_function, batched=True)\n",
    "\n",
    "columns = ['input_ids', 'attention_mask', 'label']\n",
    "train_ds.set_format(type='torch', columns=columns)\n",
    "val_ds.set_format(type='torch', columns=columns)"
   ]
  },
  {
   "cell_type": "code",
   "execution_count": 21,
   "id": "293e6a09",
   "metadata": {},
   "outputs": [
    {
     "name": "stderr",
     "output_type": "stream",
     "text": [
      "/home/maitri/Downloads/dev/map-kaggle-competition/src/utils.py:143: FutureWarning: `tokenizer` is deprecated and will be removed in version 5.0.0 for `Trainer.__init__`. Use `processing_class` instead.\n",
      "  return Trainer(\n"
     ]
    }
   ],
   "source": [
    "training_args = get_training_arguments(\n",
    "    epochs=EPOCHS,\n",
    "    train_batch_size=8,\n",
    "    eval_batch_size=8,\n",
    "    bf16_support=\"/kaggle\" in ROOT_PATH,\n",
    ")\n",
    "trainer = get_trainer(\n",
    "    seq_model,\n",
    "    tokenizer,\n",
    "    training_args,\n",
    "    train_ds,\n",
    "    val_ds,\n",
    ")"
   ]
  },
  {
   "cell_type": "code",
   "execution_count": 22,
   "id": "4cd20fc4",
   "metadata": {
    "execution": {
     "iopub.execute_input": "2025-07-22T12:52:16.445550Z",
     "iopub.status.busy": "2025-07-22T12:52:16.445347Z",
     "iopub.status.idle": "2025-07-22T17:11:51.424563Z",
     "shell.execute_reply": "2025-07-22T17:11:51.423485Z"
    },
    "papermill": {
     "duration": 15574.99305,
     "end_time": "2025-07-22T17:11:51.425807",
     "exception": false,
     "start_time": "2025-07-22T12:52:16.432757",
     "status": "completed"
    },
    "tags": []
   },
   "outputs": [
    {
     "data": {
      "text/html": [
       "\n",
       "    <div>\n",
       "      \n",
       "      <progress value='5200' max='18350' style='width:300px; height:20px; vertical-align: middle;'></progress>\n",
       "      [ 5200/18350 2:38:27 < 6:40:52, 0.55 it/s, Epoch 1/5]\n",
       "    </div>\n",
       "    <table border=\"1\" class=\"dataframe\">\n",
       "  <thead>\n",
       " <tr style=\"text-align: left;\">\n",
       "      <th>Step</th>\n",
       "      <th>Training Loss</th>\n",
       "      <th>Validation Loss</th>\n",
       "      <th>Map@3</th>\n",
       "    </tr>\n",
       "  </thead>\n",
       "  <tbody>\n",
       "    <tr>\n",
       "      <td>200</td>\n",
       "      <td>1.302500</td>\n",
       "      <td>1.282177</td>\n",
       "      <td>0.747139</td>\n",
       "    </tr>\n",
       "    <tr>\n",
       "      <td>400</td>\n",
       "      <td>1.112400</td>\n",
       "      <td>0.993111</td>\n",
       "      <td>0.803043</td>\n",
       "    </tr>\n",
       "    <tr>\n",
       "      <td>600</td>\n",
       "      <td>0.870500</td>\n",
       "      <td>1.114215</td>\n",
       "      <td>0.756971</td>\n",
       "    </tr>\n",
       "    <tr>\n",
       "      <td>800</td>\n",
       "      <td>0.849200</td>\n",
       "      <td>0.695039</td>\n",
       "      <td>0.867189</td>\n",
       "    </tr>\n",
       "    <tr>\n",
       "      <td>1000</td>\n",
       "      <td>0.743800</td>\n",
       "      <td>0.704164</td>\n",
       "      <td>0.858038</td>\n",
       "    </tr>\n",
       "    <tr>\n",
       "      <td>1200</td>\n",
       "      <td>0.671100</td>\n",
       "      <td>0.682057</td>\n",
       "      <td>0.875704</td>\n",
       "    </tr>\n",
       "    <tr>\n",
       "      <td>1400</td>\n",
       "      <td>0.846200</td>\n",
       "      <td>0.616413</td>\n",
       "      <td>0.886694</td>\n",
       "    </tr>\n",
       "    <tr>\n",
       "      <td>1600</td>\n",
       "      <td>0.689200</td>\n",
       "      <td>0.684772</td>\n",
       "      <td>0.864759</td>\n",
       "    </tr>\n",
       "    <tr>\n",
       "      <td>1800</td>\n",
       "      <td>0.614000</td>\n",
       "      <td>0.793945</td>\n",
       "      <td>0.874955</td>\n",
       "    </tr>\n",
       "    <tr>\n",
       "      <td>2000</td>\n",
       "      <td>0.552100</td>\n",
       "      <td>0.572948</td>\n",
       "      <td>0.897525</td>\n",
       "    </tr>\n",
       "    <tr>\n",
       "      <td>2200</td>\n",
       "      <td>0.628900</td>\n",
       "      <td>0.672866</td>\n",
       "      <td>0.890463</td>\n",
       "    </tr>\n",
       "    <tr>\n",
       "      <td>2400</td>\n",
       "      <td>0.619800</td>\n",
       "      <td>0.551872</td>\n",
       "      <td>0.894936</td>\n",
       "    </tr>\n",
       "    <tr>\n",
       "      <td>2600</td>\n",
       "      <td>0.622300</td>\n",
       "      <td>0.512261</td>\n",
       "      <td>0.904019</td>\n",
       "    </tr>\n",
       "    <tr>\n",
       "      <td>2800</td>\n",
       "      <td>0.515900</td>\n",
       "      <td>0.552211</td>\n",
       "      <td>0.898728</td>\n",
       "    </tr>\n",
       "    <tr>\n",
       "      <td>3000</td>\n",
       "      <td>0.523300</td>\n",
       "      <td>0.613616</td>\n",
       "      <td>0.892916</td>\n",
       "    </tr>\n",
       "    <tr>\n",
       "      <td>3200</td>\n",
       "      <td>0.520900</td>\n",
       "      <td>0.481303</td>\n",
       "      <td>0.914578</td>\n",
       "    </tr>\n",
       "    <tr>\n",
       "      <td>3400</td>\n",
       "      <td>0.545100</td>\n",
       "      <td>0.484497</td>\n",
       "      <td>0.913919</td>\n",
       "    </tr>\n",
       "    <tr>\n",
       "      <td>3600</td>\n",
       "      <td>0.482900</td>\n",
       "      <td>0.507487</td>\n",
       "      <td>0.908401</td>\n",
       "    </tr>\n",
       "    <tr>\n",
       "      <td>3800</td>\n",
       "      <td>0.424300</td>\n",
       "      <td>0.502852</td>\n",
       "      <td>0.913329</td>\n",
       "    </tr>\n",
       "    <tr>\n",
       "      <td>4000</td>\n",
       "      <td>0.481000</td>\n",
       "      <td>0.478859</td>\n",
       "      <td>0.913215</td>\n",
       "    </tr>\n",
       "    <tr>\n",
       "      <td>4200</td>\n",
       "      <td>0.390100</td>\n",
       "      <td>0.449846</td>\n",
       "      <td>0.922275</td>\n",
       "    </tr>\n",
       "    <tr>\n",
       "      <td>4400</td>\n",
       "      <td>0.453100</td>\n",
       "      <td>0.542842</td>\n",
       "      <td>0.910536</td>\n",
       "    </tr>\n",
       "    <tr>\n",
       "      <td>4600</td>\n",
       "      <td>0.485100</td>\n",
       "      <td>0.453508</td>\n",
       "      <td>0.919187</td>\n",
       "    </tr>\n",
       "    <tr>\n",
       "      <td>4800</td>\n",
       "      <td>0.448800</td>\n",
       "      <td>0.464278</td>\n",
       "      <td>0.919619</td>\n",
       "    </tr>\n",
       "    <tr>\n",
       "      <td>5000</td>\n",
       "      <td>0.467300</td>\n",
       "      <td>0.477756</td>\n",
       "      <td>0.918438</td>\n",
       "    </tr>\n",
       "    <tr>\n",
       "      <td>5200</td>\n",
       "      <td>0.506200</td>\n",
       "      <td>0.500525</td>\n",
       "      <td>0.913465</td>\n",
       "    </tr>\n",
       "  </tbody>\n",
       "</table><p>"
      ],
      "text/plain": [
       "<IPython.core.display.HTML object>"
      ]
     },
     "metadata": {},
     "output_type": "display_data"
    },
    {
     "data": {
      "text/plain": [
       "TrainOutput(global_step=5200, training_loss=0.6783948036340567, metrics={'train_runtime': 9509.0532, 'train_samples_per_second': 15.436, 'train_steps_per_second': 1.93, 'total_flos': 4.399835141543117e+16, 'train_loss': 0.6783948036340567, 'epoch': 1.4168937329700273})"
      ]
     },
     "execution_count": 22,
     "metadata": {},
     "output_type": "execute_result"
    }
   ],
   "source": [
    "trainer.train()"
   ]
  },
  {
   "cell_type": "code",
   "execution_count": 23,
   "id": "621c7bdb",
   "metadata": {},
   "outputs": [],
   "source": [
    "logs = pd.DataFrame(trainer.state.log_history)\n",
    "train_loss = logs[logs[\"loss\"].notna()][[\"step\", \"loss\"]]\n",
    "eval_loss = logs[logs[\"eval_loss\"].notna()][[\"step\", \"eval_loss\"]]"
   ]
  },
  {
   "cell_type": "code",
   "execution_count": 24,
   "id": "47b29b6d",
   "metadata": {},
   "outputs": [
    {
     "data": {
      "image/png": "[encoded data removed]",
      "text/plain": [
       "<Figure size 1000x500 with 1 Axes>"
      ]
     },
     "metadata": {},
     "output_type": "display_data"
    }
   ],
   "source": [
    "plt.figure(figsize=(10, 5))\n",
    "plt.plot(train_loss[\"step\"], train_loss[\"loss\"], label=\"Train Loss\")\n",
    "plt.plot(eval_loss[\"step\"], eval_loss[\"eval_loss\"], label=\"Validation Loss\")\n",
    "plt.xlabel(\"Step\")\n",
    "plt.ylabel(\"Loss\")\n",
    "plt.legend()\n",
    "plt.title(\"Training & Validation Loss\")\n",
    "plt.show()"
   ]
  },
  {
   "cell_type": "code",
   "execution_count": 25,
   "id": "e02edfc9",
   "metadata": {
    "execution": {
     "iopub.execute_input": "2025-07-22T17:11:51.452444Z",
     "iopub.status.busy": "2025-07-22T17:11:51.452207Z",
     "iopub.status.idle": "2025-07-22T17:11:51.460639Z",
     "shell.execute_reply": "2025-07-22T17:11:51.459872Z"
    },
    "papermill": {
     "duration": 0.022669,
     "end_time": "2025-07-22T17:11:51.461778",
     "exception": false,
     "start_time": "2025-07-22T17:11:51.439109",
     "status": "completed"
    },
    "tags": []
   },
   "outputs": [
    {
     "data": {
      "text/html": [
       "<div>\n",
       "<style scoped>\n",
       "    .dataframe tbody tr th:only-of-type {\n",
       "        vertical-align: middle;\n",
       "    }\n",
       "\n",
       "    .dataframe tbody tr th {\n",
       "        vertical-align: top;\n",
       "    }\n",
       "\n",
       "    .dataframe thead th {\n",
       "        text-align: right;\n",
       "    }\n",
       "</style>\n",
       "<table border=\"1\" class=\"dataframe\">\n",
       "  <thead>\n",
       "    <tr style=\"text-align: right;\">\n",
       "      <th></th>\n",
       "      <th>row_id</th>\n",
       "      <th>QuestionId</th>\n",
       "      <th>QuestionText</th>\n",
       "      <th>MC_Answer</th>\n",
       "      <th>StudentExplanation</th>\n",
       "      <th>is_mc_answer_correct</th>\n",
       "    </tr>\n",
       "  </thead>\n",
       "  <tbody>\n",
       "    <tr>\n",
       "      <th>0</th>\n",
       "      <td>36696</td>\n",
       "      <td>31772</td>\n",
       "      <td>What fraction of the shape is not shaded? Give...</td>\n",
       "      <td>\\( \\frac{1}{3} \\)</td>\n",
       "      <td>I think that 1/3 is the answer, as it's the si...</td>\n",
       "      <td>True</td>\n",
       "    </tr>\n",
       "    <tr>\n",
       "      <th>1</th>\n",
       "      <td>36697</td>\n",
       "      <td>31772</td>\n",
       "      <td>What fraction of the shape is not shaded? Give...</td>\n",
       "      <td>\\( \\frac{3}{6} \\)</td>\n",
       "      <td>i think this answer is because 3 triangles are...</td>\n",
       "      <td>False</td>\n",
       "    </tr>\n",
       "    <tr>\n",
       "      <th>2</th>\n",
       "      <td>36698</td>\n",
       "      <td>32835</td>\n",
       "      <td>Which number is the greatest?</td>\n",
       "      <td>\\( 6.2 \\)</td>\n",
       "      <td>because the 2 makes it higher than the others.</td>\n",
       "      <td>True</td>\n",
       "    </tr>\n",
       "  </tbody>\n",
       "</table>\n",
       "</div>"
      ],
      "text/plain": [
       "   row_id  QuestionId                                       QuestionText  \\\n",
       "0   36696       31772  What fraction of the shape is not shaded? Give...   \n",
       "1   36697       31772  What fraction of the shape is not shaded? Give...   \n",
       "2   36698       32835                      Which number is the greatest?   \n",
       "\n",
       "           MC_Answer                                 StudentExplanation  \\\n",
       "0  \\( \\frac{1}{3} \\)  I think that 1/3 is the answer, as it's the si...   \n",
       "1  \\( \\frac{3}{6} \\)  i think this answer is because 3 triangles are...   \n",
       "2          \\( 6.2 \\)     because the 2 makes it higher than the others.   \n",
       "\n",
       "   is_mc_answer_correct  \n",
       "0                  True  \n",
       "1                 False  \n",
       "2                  True  "
      ]
     },
     "execution_count": 25,
     "metadata": {},
     "output_type": "execute_result"
    }
   ],
   "source": [
    "test_df.head()"
   ]
  },
  {
   "cell_type": "code",
   "execution_count": 26,
   "id": "50f5aa2e",
   "metadata": {
    "execution": {
     "iopub.execute_input": "2025-07-22T17:11:51.489344Z",
     "iopub.status.busy": "2025-07-22T17:11:51.489119Z",
     "iopub.status.idle": "2025-07-22T17:11:51.497634Z",
     "shell.execute_reply": "2025-07-22T17:11:51.496910Z"
    },
    "papermill": {
     "duration": 0.024039,
     "end_time": "2025-07-22T17:11:51.498698",
     "exception": false,
     "start_time": "2025-07-22T17:11:51.474659",
     "status": "completed"
    },
    "tags": []
   },
   "outputs": [
    {
     "data": {
      "text/html": [
       "<div>\n",
       "<style scoped>\n",
       "    .dataframe tbody tr th:only-of-type {\n",
       "        vertical-align: middle;\n",
       "    }\n",
       "\n",
       "    .dataframe tbody tr th {\n",
       "        vertical-align: top;\n",
       "    }\n",
       "\n",
       "    .dataframe thead th {\n",
       "        text-align: right;\n",
       "    }\n",
       "</style>\n",
       "<table border=\"1\" class=\"dataframe\">\n",
       "  <thead>\n",
       "    <tr style=\"text-align: right;\">\n",
       "      <th></th>\n",
       "      <th>row_id</th>\n",
       "      <th>QuestionId</th>\n",
       "      <th>QuestionText</th>\n",
       "      <th>MC_Answer</th>\n",
       "      <th>StudentExplanation</th>\n",
       "      <th>is_mc_answer_correct</th>\n",
       "      <th>stringified_input</th>\n",
       "    </tr>\n",
       "  </thead>\n",
       "  <tbody>\n",
       "    <tr>\n",
       "      <th>0</th>\n",
       "      <td>36696</td>\n",
       "      <td>31772</td>\n",
       "      <td>What fraction of the shape is not shaded? Give...</td>\n",
       "      <td>\\( \\frac{1}{3} \\)</td>\n",
       "      <td>I think that 1/3 is the answer, as it's the si...</td>\n",
       "      <td>True</td>\n",
       "      <td>Question: What fraction of the shape is not sh...</td>\n",
       "    </tr>\n",
       "    <tr>\n",
       "      <th>1</th>\n",
       "      <td>36697</td>\n",
       "      <td>31772</td>\n",
       "      <td>What fraction of the shape is not shaded? Give...</td>\n",
       "      <td>\\( \\frac{3}{6} \\)</td>\n",
       "      <td>i think this answer is because 3 triangles are...</td>\n",
       "      <td>False</td>\n",
       "      <td>Question: What fraction of the shape is not sh...</td>\n",
       "    </tr>\n",
       "    <tr>\n",
       "      <th>2</th>\n",
       "      <td>36698</td>\n",
       "      <td>32835</td>\n",
       "      <td>Which number is the greatest?</td>\n",
       "      <td>\\( 6.2 \\)</td>\n",
       "      <td>because the 2 makes it higher than the others.</td>\n",
       "      <td>True</td>\n",
       "      <td>Question: Which number is the greatest?\\nAnswe...</td>\n",
       "    </tr>\n",
       "  </tbody>\n",
       "</table>\n",
       "</div>"
      ],
      "text/plain": [
       "   row_id  QuestionId                                       QuestionText  \\\n",
       "0   36696       31772  What fraction of the shape is not shaded? Give...   \n",
       "1   36697       31772  What fraction of the shape is not shaded? Give...   \n",
       "2   36698       32835                      Which number is the greatest?   \n",
       "\n",
       "           MC_Answer                                 StudentExplanation  \\\n",
       "0  \\( \\frac{1}{3} \\)  I think that 1/3 is the answer, as it's the si...   \n",
       "1  \\( \\frac{3}{6} \\)  i think this answer is because 3 triangles are...   \n",
       "2          \\( 6.2 \\)     because the 2 makes it higher than the others.   \n",
       "\n",
       "   is_mc_answer_correct                                  stringified_input  \n",
       "0                  True  Question: What fraction of the shape is not sh...  \n",
       "1                 False  Question: What fraction of the shape is not sh...  \n",
       "2                  True  Question: Which number is the greatest?\\nAnswe...  "
      ]
     },
     "execution_count": 26,
     "metadata": {},
     "output_type": "execute_result"
    }
   ],
   "source": [
    "test_df[\"stringified_input\"] = test_df.apply(stringify_input, axis=1)\n",
    "test_df.head()"
   ]
  },
  {
   "cell_type": "code",
   "execution_count": 27,
   "id": "054a0fbd",
   "metadata": {
    "execution": {
     "iopub.execute_input": "2025-07-22T17:11:51.524357Z",
     "iopub.status.busy": "2025-07-22T17:11:51.524154Z",
     "iopub.status.idle": "2025-07-22T17:11:51.561989Z",
     "shell.execute_reply": "2025-07-22T17:11:51.561316Z"
    },
    "papermill": {
     "duration": 0.05179,
     "end_time": "2025-07-22T17:11:51.563084",
     "exception": false,
     "start_time": "2025-07-22T17:11:51.511294",
     "status": "completed"
    },
    "tags": []
   },
   "outputs": [
    {
     "data": {
      "application/vnd.jupyter.widget-view+json": {
       "model_id": "cfb76a50528a4e37a8ee4224c65e3a7b",
       "version_major": 2,
       "version_minor": 0
      },
      "text/plain": [
       "Map:   0%|          | 0/3 [00:00<?, ? examples/s]"
      ]
     },
     "metadata": {},
     "output_type": "display_data"
    }
   ],
   "source": [
    "test_ds = Dataset.from_pandas(test_df[[\"stringified_input\"]])\n",
    "test_ds = test_ds.map(tokenize_function, batched=True)"
   ]
  },
  {
   "cell_type": "code",
   "execution_count": 28,
   "id": "51325343",
   "metadata": {
    "execution": {
     "iopub.execute_input": "2025-07-22T17:11:51.589604Z",
     "iopub.status.busy": "2025-07-22T17:11:51.589384Z",
     "iopub.status.idle": "2025-07-22T17:11:51.632656Z",
     "shell.execute_reply": "2025-07-22T17:11:51.632128Z"
    },
    "papermill": {
     "duration": 0.057619,
     "end_time": "2025-07-22T17:11:51.633780",
     "exception": false,
     "start_time": "2025-07-22T17:11:51.576161",
     "status": "completed"
    },
    "tags": []
   },
   "outputs": [
    {
     "data": {
      "text/html": [],
      "text/plain": [
       "<IPython.core.display.HTML object>"
      ]
     },
     "metadata": {},
     "output_type": "display_data"
    }
   ],
   "source": [
    "predictions = trainer.predict(test_ds)\n",
    "probs = torch.nn.functional.softmax(torch.tensor(predictions.predictions), dim=1).numpy()"
   ]
  },
  {
   "cell_type": "code",
   "execution_count": 29,
   "id": "ea51856e",
   "metadata": {
    "execution": {
     "iopub.execute_input": "2025-07-22T17:11:51.660446Z",
     "iopub.status.busy": "2025-07-22T17:11:51.660217Z",
     "iopub.status.idle": "2025-07-22T17:11:51.673215Z",
     "shell.execute_reply": "2025-07-22T17:11:51.672651Z"
    },
    "papermill": {
     "duration": 0.027097,
     "end_time": "2025-07-22T17:11:51.674249",
     "exception": false,
     "start_time": "2025-07-22T17:11:51.647152",
     "status": "completed"
    },
    "tags": []
   },
   "outputs": [
    {
     "data": {
      "text/html": [
       "<div>\n",
       "<style scoped>\n",
       "    .dataframe tbody tr th:only-of-type {\n",
       "        vertical-align: middle;\n",
       "    }\n",
       "\n",
       "    .dataframe tbody tr th {\n",
       "        vertical-align: top;\n",
       "    }\n",
       "\n",
       "    .dataframe thead th {\n",
       "        text-align: right;\n",
       "    }\n",
       "</style>\n",
       "<table border=\"1\" class=\"dataframe\">\n",
       "  <thead>\n",
       "    <tr style=\"text-align: right;\">\n",
       "      <th></th>\n",
       "      <th>row_id</th>\n",
       "      <th>Category:Misconception</th>\n",
       "    </tr>\n",
       "  </thead>\n",
       "  <tbody>\n",
       "    <tr>\n",
       "      <th>0</th>\n",
       "      <td>36696</td>\n",
       "      <td>True_Correct:NA True_Neither:NA True_Misconcep...</td>\n",
       "    </tr>\n",
       "    <tr>\n",
       "      <th>1</th>\n",
       "      <td>36697</td>\n",
       "      <td>False_Misconception:WNB False_Neither:NA True_...</td>\n",
       "    </tr>\n",
       "    <tr>\n",
       "      <th>2</th>\n",
       "      <td>36698</td>\n",
       "      <td>True_Neither:NA True_Misconception:Shorter_is_...</td>\n",
       "    </tr>\n",
       "  </tbody>\n",
       "</table>\n",
       "</div>"
      ],
      "text/plain": [
       "   row_id                             Category:Misconception\n",
       "0   36696  True_Correct:NA True_Neither:NA True_Misconcep...\n",
       "1   36697  False_Misconception:WNB False_Neither:NA True_...\n",
       "2   36698  True_Neither:NA True_Misconception:Shorter_is_..."
      ]
     },
     "execution_count": 29,
     "metadata": {},
     "output_type": "execute_result"
    }
   ],
   "source": [
    "top3 = np.argsort(-probs, axis=1)[:, :3]\n",
    "\n",
    "# Decode numeric class indices to original string labels\n",
    "flat_top3 = top3.flatten()\n",
    "decoded_labels = le.inverse_transform(flat_top3)\n",
    "top3_labels = decoded_labels.reshape(top3.shape)\n",
    "\n",
    "# Join 3 labels per row with space\n",
    "joined_preds = [\" \".join(row) for row in top3_labels]\n",
    "\n",
    "# Save submission\n",
    "sub = pd.DataFrame({\n",
    "    \"row_id\": test_df.row_id.values,\n",
    "    \"Category:Misconception\": joined_preds\n",
    "})\n",
    "sub.to_csv(\"submission.csv\", index=False)\n",
    "sub.head()"
   ]
  },
  {
   "cell_type": "code",
   "execution_count": null,
   "id": "8e63b998",
   "metadata": {
    "papermill": {
     "duration": 0.012398,
     "end_time": "2025-07-22T17:11:51.699535",
     "exception": false,
     "start_time": "2025-07-22T17:11:51.687137",
     "status": "completed"
    },
    "tags": []
   },
   "outputs": [],
   "source": []
  }
 ],
 "metadata": {
  "kaggle": {
   "accelerator": "gpu",
   "dataSources": [
    {
     "databundleVersionId": 12957508,
     "isSourceIdPinned": false,
     "sourceId": 104383,
     "sourceType": "competition"
    },
    {
     "isSourceIdPinned": true,
     "modelId": 406016,
     "modelInstanceId": 386923,
     "sourceId": 484097,
     "sourceType": "modelInstanceVersion"
    }
   ],
   "dockerImageVersionId": 31090,
   "isGpuEnabled": true,
   "isInternetEnabled": false,
   "language": "python",
   "sourceType": "notebook"
  },
  "kernelspec": {
   "display_name": ".venv",
   "language": "python",
   "name": "python3"
  },
  "language_info": {
   "codemirror_mode": {
    "name": "ipython",
    "version": 3
   },
   "file_extension": ".py",
   "mimetype": "text/x-python",
   "name": "python",
   "nbconvert_exporter": "python",
   "pygments_lexer": "ipython3",
   "version": "3.12.3"
  },
  "papermill": {
   "default_parameters": {},
   "duration": 15628.505803,
   "end_time": "2025-07-22T17:11:55.021626",
   "environment_variables": {},
   "exception": null,
   "input_path": "__notebook__.ipynb",
   "output_path": "__notebook__.ipynb",
   "parameters": {},
   "start_time": "2025-07-22T12:51:26.515823",
   "version": "2.6.0"
  },
  "widgets": {
   "application/vnd.jupyter.widget-state+json": {
    "state": {
     "060d8502ed064be4bc2afcbbbbcfab29": {
      "model_module": "@jupyter-widgets/controls",
      "model_module_version": "2.0.0",
      "model_name": "HTMLModel",
      "state": {
       "_dom_classes": [],
       "_model_module": "@jupyter-widgets/controls",
       "_model_module_version": "2.0.0",
       "_model_name": "HTMLModel",
       "_view_count": null,
       "_view_module": "@jupyter-widgets/controls",
       "_view_module_version": "2.0.0",
       "_view_name": "HTMLView",
       "description": "",
       "description_allow_html": false,
       "layout": "IPY_MODEL_81f44b9174744d1fa8c8b62bb3297676",
       "placeholder": "​",
       "style": "IPY_MODEL_3d5a0bbae2004ed9a0acebdd1fadcc01",
       "tabbable": null,
       "tooltip": null,
       "value": " 29356/29356 [00:06&lt;00:00, 4982.60 examples/s]"
      }
     },
     "214709b843fc42b49bd5af42c6eaa2f4": {
      "model_module": "@jupyter-widgets/controls",
      "model_module_version": "2.0.0",
      "model_name": "FloatProgressModel",
      "state": {
       "_dom_classes": [],
       "_model_module": "@jupyter-widgets/controls",
       "_model_module_version": "2.0.0",
       "_model_name": "FloatProgressModel",
       "_view_count": null,
       "_view_module": "@jupyter-widgets/controls",
       "_view_module_version": "2.0.0",
       "_view_name": "ProgressView",
       "bar_style": "success",
       "description": "",
       "description_allow_html": false,
       "layout": "IPY_MODEL_add0fc289dfd414e82cfd57cc04540d1",
       "max": 7340,
       "min": 0,
       "orientation": "horizontal",
       "style": "IPY_MODEL_76690b7ac45e4f9f85564e044afe8233",
       "tabbable": null,
       "tooltip": null,
       "value": 7340
      }
     },
     "26d7c5adb66e4f998b4028f45777a143": {
      "model_module": "@jupyter-widgets/base",
      "model_module_version": "2.0.0",
      "model_name": "LayoutModel",
      "state": {
       "_model_module": "@jupyter-widgets/base",
       "_model_module_version": "2.0.0",
       "_model_name": "LayoutModel",
       "_view_count": null,
       "_view_module": "@jupyter-widgets/base",
       "_view_module_version": "2.0.0",
       "_view_name": "LayoutView",
       "align_content": null,
       "align_items": null,
       "align_self": null,
       "border_bottom": null,
       "border_left": null,
       "border_right": null,
       "border_top": null,
       "bottom": null,
       "display": null,
       "flex": null,
       "flex_flow": null,
       "grid_area": null,
       "grid_auto_columns": null,
       "grid_auto_flow": null,
       "grid_auto_rows": null,
       "grid_column": null,
       "grid_gap": null,
       "grid_row": null,
       "grid_template_areas": null,
       "grid_template_columns": null,
       "grid_template_rows": null,
       "height": null,
       "justify_content": null,
       "justify_items": null,
       "left": null,
       "margin": null,
       "max_height": null,
       "max_width": null,
       "min_height": null,
       "min_width": null,
       "object_fit": null,
       "object_position": null,
       "order": null,
       "overflow": null,
       "padding": null,
       "right": null,
       "top": null,
       "visibility": null,
       "width": null
      }
     },
     "324291659c4e4bedae0fe722ac2ec371": {
      "model_module": "@jupyter-widgets/controls",
      "model_module_version": "2.0.0",
      "model_name": "HTMLModel",
      "state": {
       "_dom_classes": [],
       "_model_module": "@jupyter-widgets/controls",
       "_model_module_version": "2.0.0",
       "_model_name": "HTMLModel",
       "_view_count": null,
       "_view_module": "@jupyter-widgets/controls",
       "_view_module_version": "2.0.0",
       "_view_name": "HTMLView",
       "description": "",
       "description_allow_html": false,
       "layout": "IPY_MODEL_84d9d1b0e7be47708afc98067bff7282",
       "placeholder": "​",
       "style": "IPY_MODEL_4a7aa0be8e3145638dc9c01bbd2c209b",
       "tabbable": null,
       "tooltip": null,
       "value": "Map: 100%"
      }
     },
     "3d5a0bbae2004ed9a0acebdd1fadcc01": {
      "model_module": "@jupyter-widgets/controls",
      "model_module_version": "2.0.0",
      "model_name": "HTMLStyleModel",
      "state": {
       "_model_module": "@jupyter-widgets/controls",
       "_model_module_version": "2.0.0",
       "_model_name": "HTMLStyleModel",
       "_view_count": null,
       "_view_module": "@jupyter-widgets/base",
       "_view_module_version": "2.0.0",
       "_view_name": "StyleView",
       "background": null,
       "description_width": "",
       "font_size": null,
       "text_color": null
      }
     },
     "457d431c35e44e36a1cb50203fbe3d45": {
      "model_module": "@jupyter-widgets/base",
      "model_module_version": "2.0.0",
      "model_name": "LayoutModel",
      "state": {
       "_model_module": "@jupyter-widgets/base",
       "_model_module_version": "2.0.0",
       "_model_name": "LayoutModel",
       "_view_count": null,
       "_view_module": "@jupyter-widgets/base",
       "_view_module_version": "2.0.0",
       "_view_name": "LayoutView",
       "align_content": null,
       "align_items": null,
       "align_self": null,
       "border_bottom": null,
       "border_left": null,
       "border_right": null,
       "border_top": null,
       "bottom": null,
       "display": null,
       "flex": null,
       "flex_flow": null,
       "grid_area": null,
       "grid_auto_columns": null,
       "grid_auto_flow": null,
       "grid_auto_rows": null,
       "grid_column": null,
       "grid_gap": null,
       "grid_row": null,
       "grid_template_areas": null,
       "grid_template_columns": null,
       "grid_template_rows": null,
       "height": null,
       "justify_content": null,
       "justify_items": null,
       "left": null,
       "margin": null,
       "max_height": null,
       "max_width": null,
       "min_height": null,
       "min_width": null,
       "object_fit": null,
       "object_position": null,
       "order": null,
       "overflow": null,
       "padding": null,
       "right": null,
       "top": null,
       "visibility": null,
       "width": null
      }
     },
     "4a7aa0be8e3145638dc9c01bbd2c209b": {
      "model_module": "@jupyter-widgets/controls",
      "model_module_version": "2.0.0",
      "model_name": "HTMLStyleModel",
      "state": {
       "_model_module": "@jupyter-widgets/controls",
       "_model_module_version": "2.0.0",
       "_model_name": "HTMLStyleModel",
       "_view_count": null,
       "_view_module": "@jupyter-widgets/base",
       "_view_module_version": "2.0.0",
       "_view_name": "StyleView",
       "background": null,
       "description_width": "",
       "font_size": null,
       "text_color": null
      }
     },
     "50068240ecb64adf96b1f3d10642bff7": {
      "model_module": "@jupyter-widgets/base",
      "model_module_version": "2.0.0",
      "model_name": "LayoutModel",
      "state": {
       "_model_module": "@jupyter-widgets/base",
       "_model_module_version": "2.0.0",
       "_model_name": "LayoutModel",
       "_view_count": null,
       "_view_module": "@jupyter-widgets/base",
       "_view_module_version": "2.0.0",
       "_view_name": "LayoutView",
       "align_content": null,
       "align_items": null,
       "align_self": null,
       "border_bottom": null,
       "border_left": null,
       "border_right": null,
       "border_top": null,
       "bottom": null,
       "display": null,
       "flex": null,
       "flex_flow": null,
       "grid_area": null,
       "grid_auto_columns": null,
       "grid_auto_flow": null,
       "grid_auto_rows": null,
       "grid_column": null,
       "grid_gap": null,
       "grid_row": null,
       "grid_template_areas": null,
       "grid_template_columns": null,
       "grid_template_rows": null,
       "height": null,
       "justify_content": null,
       "justify_items": null,
       "left": null,
       "margin": null,
       "max_height": null,
       "max_width": null,
       "min_height": null,
       "min_width": null,
       "object_fit": null,
       "object_position": null,
       "order": null,
       "overflow": null,
       "padding": null,
       "right": null,
       "top": null,
       "visibility": null,
       "width": null
      }
     },
     "5b6cc446d1744de492d42e08bfd85279": {
      "model_module": "@jupyter-widgets/controls",
      "model_module_version": "2.0.0",
      "model_name": "FloatProgressModel",
      "state": {
       "_dom_classes": [],
       "_model_module": "@jupyter-widgets/controls",
       "_model_module_version": "2.0.0",
       "_model_name": "FloatProgressModel",
       "_view_count": null,
       "_view_module": "@jupyter-widgets/controls",
       "_view_module_version": "2.0.0",
       "_view_name": "ProgressView",
       "bar_style": "success",
       "description": "",
       "description_allow_html": false,
       "layout": "IPY_MODEL_8ec62447c9d24fdf8101fdd1e74664b2",
       "max": 29356,
       "min": 0,
       "orientation": "horizontal",
       "style": "IPY_MODEL_fa94b9a843d64b79815ab37f557e6d57",
       "tabbable": null,
       "tooltip": null,
       "value": 29356
      }
     },
     "5f27aaf6c3bf47ae91bb8d43eef17ddc": {
      "model_module": "@jupyter-widgets/controls",
      "model_module_version": "2.0.0",
      "model_name": "HTMLModel",
      "state": {
       "_dom_classes": [],
       "_model_module": "@jupyter-widgets/controls",
       "_model_module_version": "2.0.0",
       "_model_name": "HTMLModel",
       "_view_count": null,
       "_view_module": "@jupyter-widgets/controls",
       "_view_module_version": "2.0.0",
       "_view_name": "HTMLView",
       "description": "",
       "description_allow_html": false,
       "layout": "IPY_MODEL_26d7c5adb66e4f998b4028f45777a143",
       "placeholder": "​",
       "style": "IPY_MODEL_abed7af3dc314312bafdfeb008926a97",
       "tabbable": null,
       "tooltip": null,
       "value": "Map: 100%"
      }
     },
     "5f287b1c08ee4730b92443b684f27eb4": {
      "model_module": "@jupyter-widgets/controls",
      "model_module_version": "2.0.0",
      "model_name": "ProgressStyleModel",
      "state": {
       "_model_module": "@jupyter-widgets/controls",
       "_model_module_version": "2.0.0",
       "_model_name": "ProgressStyleModel",
       "_view_count": null,
       "_view_module": "@jupyter-widgets/base",
       "_view_module_version": "2.0.0",
       "_view_name": "StyleView",
       "bar_color": null,
       "description_width": ""
      }
     },
     "6c74d35f46b74f63a1b4112db158e778": {
      "model_module": "@jupyter-widgets/base",
      "model_module_version": "2.0.0",
      "model_name": "LayoutModel",
      "state": {
       "_model_module": "@jupyter-widgets/base",
       "_model_module_version": "2.0.0",
       "_model_name": "LayoutModel",
       "_view_count": null,
       "_view_module": "@jupyter-widgets/base",
       "_view_module_version": "2.0.0",
       "_view_name": "LayoutView",
       "align_content": null,
       "align_items": null,
       "align_self": null,
       "border_bottom": null,
       "border_left": null,
       "border_right": null,
       "border_top": null,
       "bottom": null,
       "display": null,
       "flex": null,
       "flex_flow": null,
       "grid_area": null,
       "grid_auto_columns": null,
       "grid_auto_flow": null,
       "grid_auto_rows": null,
       "grid_column": null,
       "grid_gap": null,
       "grid_row": null,
       "grid_template_areas": null,
       "grid_template_columns": null,
       "grid_template_rows": null,
       "height": null,
       "justify_content": null,
       "justify_items": null,
       "left": null,
       "margin": null,
       "max_height": null,
       "max_width": null,
       "min_height": null,
       "min_width": null,
       "object_fit": null,
       "object_position": null,
       "order": null,
       "overflow": null,
       "padding": null,
       "right": null,
       "top": null,
       "visibility": null,
       "width": null
      }
     },
     "6d35d4ef7da948a38768a7a780c1045f": {
      "model_module": "@jupyter-widgets/controls",
      "model_module_version": "2.0.0",
      "model_name": "HBoxModel",
      "state": {
       "_dom_classes": [],
       "_model_module": "@jupyter-widgets/controls",
       "_model_module_version": "2.0.0",
       "_model_name": "HBoxModel",
       "_view_count": null,
       "_view_module": "@jupyter-widgets/controls",
       "_view_module_version": "2.0.0",
       "_view_name": "HBoxView",
       "box_style": "",
       "children": [
        "IPY_MODEL_5f27aaf6c3bf47ae91bb8d43eef17ddc",
        "IPY_MODEL_214709b843fc42b49bd5af42c6eaa2f4",
        "IPY_MODEL_b74007e7de3f47e1a22e97fa01d01fe5"
       ],
       "layout": "IPY_MODEL_75f1cc00e928421cb791ba43adf5d664",
       "tabbable": null,
       "tooltip": null
      }
     },
     "71d458fc2cd0423a90ec0d8428afa6dd": {
      "model_module": "@jupyter-widgets/controls",
      "model_module_version": "2.0.0",
      "model_name": "HBoxModel",
      "state": {
       "_dom_classes": [],
       "_model_module": "@jupyter-widgets/controls",
       "_model_module_version": "2.0.0",
       "_model_name": "HBoxModel",
       "_view_count": null,
       "_view_module": "@jupyter-widgets/controls",
       "_view_module_version": "2.0.0",
       "_view_name": "HBoxView",
       "box_style": "",
       "children": [
        "IPY_MODEL_324291659c4e4bedae0fe722ac2ec371",
        "IPY_MODEL_caafa90862dd4d9083015f77c7f15df2",
        "IPY_MODEL_8ff35fd15d2b4dc484bc0b257d18d793"
       ],
       "layout": "IPY_MODEL_78ecdb6b02974248bbc2653e08ba8600",
       "tabbable": null,
       "tooltip": null
      }
     },
     "75f1cc00e928421cb791ba43adf5d664": {
      "model_module": "@jupyter-widgets/base",
      "model_module_version": "2.0.0",
      "model_name": "LayoutModel",
      "state": {
       "_model_module": "@jupyter-widgets/base",
       "_model_module_version": "2.0.0",
       "_model_name": "LayoutModel",
       "_view_count": null,
       "_view_module": "@jupyter-widgets/base",
       "_view_module_version": "2.0.0",
       "_view_name": "LayoutView",
       "align_content": null,
       "align_items": null,
       "align_self": null,
       "border_bottom": null,
       "border_left": null,
       "border_right": null,
       "border_top": null,
       "bottom": null,
       "display": null,
       "flex": null,
       "flex_flow": null,
       "grid_area": null,
       "grid_auto_columns": null,
       "grid_auto_flow": null,
       "grid_auto_rows": null,
       "grid_column": null,
       "grid_gap": null,
       "grid_row": null,
       "grid_template_areas": null,
       "grid_template_columns": null,
       "grid_template_rows": null,
       "height": null,
       "justify_content": null,
       "justify_items": null,
       "left": null,
       "margin": null,
       "max_height": null,
       "max_width": null,
       "min_height": null,
       "min_width": null,
       "object_fit": null,
       "object_position": null,
       "order": null,
       "overflow": null,
       "padding": null,
       "right": null,
       "top": null,
       "visibility": null,
       "width": null
      }
     },
     "76690b7ac45e4f9f85564e044afe8233": {
      "model_module": "@jupyter-widgets/controls",
      "model_module_version": "2.0.0",
      "model_name": "ProgressStyleModel",
      "state": {
       "_model_module": "@jupyter-widgets/controls",
       "_model_module_version": "2.0.0",
       "_model_name": "ProgressStyleModel",
       "_view_count": null,
       "_view_module": "@jupyter-widgets/base",
       "_view_module_version": "2.0.0",
       "_view_name": "StyleView",
       "bar_color": null,
       "description_width": ""
      }
     },
     "78ecdb6b02974248bbc2653e08ba8600": {
      "model_module": "@jupyter-widgets/base",
      "model_module_version": "2.0.0",
      "model_name": "LayoutModel",
      "state": {
       "_model_module": "@jupyter-widgets/base",
       "_model_module_version": "2.0.0",
       "_model_name": "LayoutModel",
       "_view_count": null,
       "_view_module": "@jupyter-widgets/base",
       "_view_module_version": "2.0.0",
       "_view_name": "LayoutView",
       "align_content": null,
       "align_items": null,
       "align_self": null,
       "border_bottom": null,
       "border_left": null,
       "border_right": null,
       "border_top": null,
       "bottom": null,
       "display": null,
       "flex": null,
       "flex_flow": null,
       "grid_area": null,
       "grid_auto_columns": null,
       "grid_auto_flow": null,
       "grid_auto_rows": null,
       "grid_column": null,
       "grid_gap": null,
       "grid_row": null,
       "grid_template_areas": null,
       "grid_template_columns": null,
       "grid_template_rows": null,
       "height": null,
       "justify_content": null,
       "justify_items": null,
       "left": null,
       "margin": null,
       "max_height": null,
       "max_width": null,
       "min_height": null,
       "min_width": null,
       "object_fit": null,
       "object_position": null,
       "order": null,
       "overflow": null,
       "padding": null,
       "right": null,
       "top": null,
       "visibility": null,
       "width": null
      }
     },
     "81f44b9174744d1fa8c8b62bb3297676": {
      "model_module": "@jupyter-widgets/base",
      "model_module_version": "2.0.0",
      "model_name": "LayoutModel",
      "state": {
       "_model_module": "@jupyter-widgets/base",
       "_model_module_version": "2.0.0",
       "_model_name": "LayoutModel",
       "_view_count": null,
       "_view_module": "@jupyter-widgets/base",
       "_view_module_version": "2.0.0",
       "_view_name": "LayoutView",
       "align_content": null,
       "align_items": null,
       "align_self": null,
       "border_bottom": null,
       "border_left": null,
       "border_right": null,
       "border_top": null,
       "bottom": null,
       "display": null,
       "flex": null,
       "flex_flow": null,
       "grid_area": null,
       "grid_auto_columns": null,
       "grid_auto_flow": null,
       "grid_auto_rows": null,
       "grid_column": null,
       "grid_gap": null,
       "grid_row": null,
       "grid_template_areas": null,
       "grid_template_columns": null,
       "grid_template_rows": null,
       "height": null,
       "justify_content": null,
       "justify_items": null,
       "left": null,
       "margin": null,
       "max_height": null,
       "max_width": null,
       "min_height": null,
       "min_width": null,
       "object_fit": null,
       "object_position": null,
       "order": null,
       "overflow": null,
       "padding": null,
       "right": null,
       "top": null,
       "visibility": null,
       "width": null
      }
     },
     "84d9d1b0e7be47708afc98067bff7282": {
      "model_module": "@jupyter-widgets/base",
      "model_module_version": "2.0.0",
      "model_name": "LayoutModel",
      "state": {
       "_model_module": "@jupyter-widgets/base",
       "_model_module_version": "2.0.0",
       "_model_name": "LayoutModel",
       "_view_count": null,
       "_view_module": "@jupyter-widgets/base",
       "_view_module_version": "2.0.0",
       "_view_name": "LayoutView",
       "align_content": null,
       "align_items": null,
       "align_self": null,
       "border_bottom": null,
       "border_left": null,
       "border_right": null,
       "border_top": null,
       "bottom": null,
       "display": null,
       "flex": null,
       "flex_flow": null,
       "grid_area": null,
       "grid_auto_columns": null,
       "grid_auto_flow": null,
       "grid_auto_rows": null,
       "grid_column": null,
       "grid_gap": null,
       "grid_row": null,
       "grid_template_areas": null,
       "grid_template_columns": null,
       "grid_template_rows": null,
       "height": null,
       "justify_content": null,
       "justify_items": null,
       "left": null,
       "margin": null,
       "max_height": null,
       "max_width": null,
       "min_height": null,
       "min_width": null,
       "object_fit": null,
       "object_position": null,
       "order": null,
       "overflow": null,
       "padding": null,
       "right": null,
       "top": null,
       "visibility": null,
       "width": null
      }
     },
     "85c9af5f154c4ebcb793077220ac68d0": {
      "model_module": "@jupyter-widgets/controls",
      "model_module_version": "2.0.0",
      "model_name": "HTMLStyleModel",
      "state": {
       "_model_module": "@jupyter-widgets/controls",
       "_model_module_version": "2.0.0",
       "_model_name": "HTMLStyleModel",
       "_view_count": null,
       "_view_module": "@jupyter-widgets/base",
       "_view_module_version": "2.0.0",
       "_view_name": "StyleView",
       "background": null,
       "description_width": "",
       "font_size": null,
       "text_color": null
      }
     },
     "8ec62447c9d24fdf8101fdd1e74664b2": {
      "model_module": "@jupyter-widgets/base",
      "model_module_version": "2.0.0",
      "model_name": "LayoutModel",
      "state": {
       "_model_module": "@jupyter-widgets/base",
       "_model_module_version": "2.0.0",
       "_model_name": "LayoutModel",
       "_view_count": null,
       "_view_module": "@jupyter-widgets/base",
       "_view_module_version": "2.0.0",
       "_view_name": "LayoutView",
       "align_content": null,
       "align_items": null,
       "align_self": null,
       "border_bottom": null,
       "border_left": null,
       "border_right": null,
       "border_top": null,
       "bottom": null,
       "display": null,
       "flex": null,
       "flex_flow": null,
       "grid_area": null,
       "grid_auto_columns": null,
       "grid_auto_flow": null,
       "grid_auto_rows": null,
       "grid_column": null,
       "grid_gap": null,
       "grid_row": null,
       "grid_template_areas": null,
       "grid_template_columns": null,
       "grid_template_rows": null,
       "height": null,
       "justify_content": null,
       "justify_items": null,
       "left": null,
       "margin": null,
       "max_height": null,
       "max_width": null,
       "min_height": null,
       "min_width": null,
       "object_fit": null,
       "object_position": null,
       "order": null,
       "overflow": null,
       "padding": null,
       "right": null,
       "top": null,
       "visibility": null,
       "width": null
      }
     },
     "8ff35fd15d2b4dc484bc0b257d18d793": {
      "model_module": "@jupyter-widgets/controls",
      "model_module_version": "2.0.0",
      "model_name": "HTMLModel",
      "state": {
       "_dom_classes": [],
       "_model_module": "@jupyter-widgets/controls",
       "_model_module_version": "2.0.0",
       "_model_name": "HTMLModel",
       "_view_count": null,
       "_view_module": "@jupyter-widgets/controls",
       "_view_module_version": "2.0.0",
       "_view_name": "HTMLView",
       "description": "",
       "description_allow_html": false,
       "layout": "IPY_MODEL_c4cfd8461c3b4a2fbced22f37e0ed929",
       "placeholder": "​",
       "style": "IPY_MODEL_d86d181739e34722a6040a0b501b4741",
       "tabbable": null,
       "tooltip": null,
       "value": " 3/3 [00:00&lt;00:00, 188.56 examples/s]"
      }
     },
     "a4386556bea848a99fcf1b50d2cbe509": {
      "model_module": "@jupyter-widgets/controls",
      "model_module_version": "2.0.0",
      "model_name": "HTMLStyleModel",
      "state": {
       "_model_module": "@jupyter-widgets/controls",
       "_model_module_version": "2.0.0",
       "_model_name": "HTMLStyleModel",
       "_view_count": null,
       "_view_module": "@jupyter-widgets/base",
       "_view_module_version": "2.0.0",
       "_view_name": "StyleView",
       "background": null,
       "description_width": "",
       "font_size": null,
       "text_color": null
      }
     },
     "abed7af3dc314312bafdfeb008926a97": {
      "model_module": "@jupyter-widgets/controls",
      "model_module_version": "2.0.0",
      "model_name": "HTMLStyleModel",
      "state": {
       "_model_module": "@jupyter-widgets/controls",
       "_model_module_version": "2.0.0",
       "_model_name": "HTMLStyleModel",
       "_view_count": null,
       "_view_module": "@jupyter-widgets/base",
       "_view_module_version": "2.0.0",
       "_view_name": "StyleView",
       "background": null,
       "description_width": "",
       "font_size": null,
       "text_color": null
      }
     },
     "add0fc289dfd414e82cfd57cc04540d1": {
      "model_module": "@jupyter-widgets/base",
      "model_module_version": "2.0.0",
      "model_name": "LayoutModel",
      "state": {
       "_model_module": "@jupyter-widgets/base",
       "_model_module_version": "2.0.0",
       "_model_name": "LayoutModel",
       "_view_count": null,
       "_view_module": "@jupyter-widgets/base",
       "_view_module_version": "2.0.0",
       "_view_name": "LayoutView",
       "align_content": null,
       "align_items": null,
       "align_self": null,
       "border_bottom": null,
       "border_left": null,
       "border_right": null,
       "border_top": null,
       "bottom": null,
       "display": null,
       "flex": null,
       "flex_flow": null,
       "grid_area": null,
       "grid_auto_columns": null,
       "grid_auto_flow": null,
       "grid_auto_rows": null,
       "grid_column": null,
       "grid_gap": null,
       "grid_row": null,
       "grid_template_areas": null,
       "grid_template_columns": null,
       "grid_template_rows": null,
       "height": null,
       "justify_content": null,
       "justify_items": null,
       "left": null,
       "margin": null,
       "max_height": null,
       "max_width": null,
       "min_height": null,
       "min_width": null,
       "object_fit": null,
       "object_position": null,
       "order": null,
       "overflow": null,
       "padding": null,
       "right": null,
       "top": null,
       "visibility": null,
       "width": null
      }
     },
     "b74007e7de3f47e1a22e97fa01d01fe5": {
      "model_module": "@jupyter-widgets/controls",
      "model_module_version": "2.0.0",
      "model_name": "HTMLModel",
      "state": {
       "_dom_classes": [],
       "_model_module": "@jupyter-widgets/controls",
       "_model_module_version": "2.0.0",
       "_model_name": "HTMLModel",
       "_view_count": null,
       "_view_module": "@jupyter-widgets/controls",
       "_view_module_version": "2.0.0",
       "_view_name": "HTMLView",
       "description": "",
       "description_allow_html": false,
       "layout": "IPY_MODEL_6c74d35f46b74f63a1b4112db158e778",
       "placeholder": "​",
       "style": "IPY_MODEL_a4386556bea848a99fcf1b50d2cbe509",
       "tabbable": null,
       "tooltip": null,
       "value": " 7340/7340 [00:01&lt;00:00, 5032.53 examples/s]"
      }
     },
     "bf53988ebf74444c815b148f2bfa6799": {
      "model_module": "@jupyter-widgets/controls",
      "model_module_version": "2.0.0",
      "model_name": "HBoxModel",
      "state": {
       "_dom_classes": [],
       "_model_module": "@jupyter-widgets/controls",
       "_model_module_version": "2.0.0",
       "_model_name": "HBoxModel",
       "_view_count": null,
       "_view_module": "@jupyter-widgets/controls",
       "_view_module_version": "2.0.0",
       "_view_name": "HBoxView",
       "box_style": "",
       "children": [
        "IPY_MODEL_eb1e0ff88bdf4ea9a3d74ae5f2aee30e",
        "IPY_MODEL_5b6cc446d1744de492d42e08bfd85279",
        "IPY_MODEL_060d8502ed064be4bc2afcbbbbcfab29"
       ],
       "layout": "IPY_MODEL_457d431c35e44e36a1cb50203fbe3d45",
       "tabbable": null,
       "tooltip": null
      }
     },
     "c4cfd8461c3b4a2fbced22f37e0ed929": {
      "model_module": "@jupyter-widgets/base",
      "model_module_version": "2.0.0",
      "model_name": "LayoutModel",
      "state": {
       "_model_module": "@jupyter-widgets/base",
       "_model_module_version": "2.0.0",
       "_model_name": "LayoutModel",
       "_view_count": null,
       "_view_module": "@jupyter-widgets/base",
       "_view_module_version": "2.0.0",
       "_view_name": "LayoutView",
       "align_content": null,
       "align_items": null,
       "align_self": null,
       "border_bottom": null,
       "border_left": null,
       "border_right": null,
       "border_top": null,
       "bottom": null,
       "display": null,
       "flex": null,
       "flex_flow": null,
       "grid_area": null,
       "grid_auto_columns": null,
       "grid_auto_flow": null,
       "grid_auto_rows": null,
       "grid_column": null,
       "grid_gap": null,
       "grid_row": null,
       "grid_template_areas": null,
       "grid_template_columns": null,
       "grid_template_rows": null,
       "height": null,
       "justify_content": null,
       "justify_items": null,
       "left": null,
       "margin": null,
       "max_height": null,
       "max_width": null,
       "min_height": null,
       "min_width": null,
       "object_fit": null,
       "object_position": null,
       "order": null,
       "overflow": null,
       "padding": null,
       "right": null,
       "top": null,
       "visibility": null,
       "width": null
      }
     },
     "caafa90862dd4d9083015f77c7f15df2": {
      "model_module": "@jupyter-widgets/controls",
      "model_module_version": "2.0.0",
      "model_name": "FloatProgressModel",
      "state": {
       "_dom_classes": [],
       "_model_module": "@jupyter-widgets/controls",
       "_model_module_version": "2.0.0",
       "_model_name": "FloatProgressModel",
       "_view_count": null,
       "_view_module": "@jupyter-widgets/controls",
       "_view_module_version": "2.0.0",
       "_view_name": "ProgressView",
       "bar_style": "success",
       "description": "",
       "description_allow_html": false,
       "layout": "IPY_MODEL_d5e6b3942f114c1d8e8235be8db80f34",
       "max": 3,
       "min": 0,
       "orientation": "horizontal",
       "style": "IPY_MODEL_5f287b1c08ee4730b92443b684f27eb4",
       "tabbable": null,
       "tooltip": null,
       "value": 3
      }
     },
     "d5e6b3942f114c1d8e8235be8db80f34": {
      "model_module": "@jupyter-widgets/base",
      "model_module_version": "2.0.0",
      "model_name": "LayoutModel",
      "state": {
       "_model_module": "@jupyter-widgets/base",
       "_model_module_version": "2.0.0",
       "_model_name": "LayoutModel",
       "_view_count": null,
       "_view_module": "@jupyter-widgets/base",
       "_view_module_version": "2.0.0",
       "_view_name": "LayoutView",
       "align_content": null,
       "align_items": null,
       "align_self": null,
       "border_bottom": null,
       "border_left": null,
       "border_right": null,
       "border_top": null,
       "bottom": null,
       "display": null,
       "flex": null,
       "flex_flow": null,
       "grid_area": null,
       "grid_auto_columns": null,
       "grid_auto_flow": null,
       "grid_auto_rows": null,
       "grid_column": null,
       "grid_gap": null,
       "grid_row": null,
       "grid_template_areas": null,
       "grid_template_columns": null,
       "grid_template_rows": null,
       "height": null,
       "justify_content": null,
       "justify_items": null,
       "left": null,
       "margin": null,
       "max_height": null,
       "max_width": null,
       "min_height": null,
       "min_width": null,
       "object_fit": null,
       "object_position": null,
       "order": null,
       "overflow": null,
       "padding": null,
       "right": null,
       "top": null,
       "visibility": null,
       "width": null
      }
     },
     "d86d181739e34722a6040a0b501b4741": {
      "model_module": "@jupyter-widgets/controls",
      "model_module_version": "2.0.0",
      "model_name": "HTMLStyleModel",
      "state": {
       "_model_module": "@jupyter-widgets/controls",
       "_model_module_version": "2.0.0",
       "_model_name": "HTMLStyleModel",
       "_view_count": null,
       "_view_module": "@jupyter-widgets/base",
       "_view_module_version": "2.0.0",
       "_view_name": "StyleView",
       "background": null,
       "description_width": "",
       "font_size": null,
       "text_color": null
      }
     },
     "eb1e0ff88bdf4ea9a3d74ae5f2aee30e": {
      "model_module": "@jupyter-widgets/controls",
      "model_module_version": "2.0.0",
      "model_name": "HTMLModel",
      "state": {
       "_dom_classes": [],
       "_model_module": "@jupyter-widgets/controls",
       "_model_module_version": "2.0.0",
       "_model_name": "HTMLModel",
       "_view_count": null,
       "_view_module": "@jupyter-widgets/controls",
       "_view_module_version": "2.0.0",
       "_view_name": "HTMLView",
       "description": "",
       "description_allow_html": false,
       "layout": "IPY_MODEL_50068240ecb64adf96b1f3d10642bff7",
       "placeholder": "​",
       "style": "IPY_MODEL_85c9af5f154c4ebcb793077220ac68d0",
       "tabbable": null,
       "tooltip": null,
       "value": "Map: 100%"
      }
     },
     "fa94b9a843d64b79815ab37f557e6d57": {
      "model_module": "@jupyter-widgets/controls",
      "model_module_version": "2.0.0",
      "model_name": "ProgressStyleModel",
      "state": {
       "_model_module": "@jupyter-widgets/controls",
       "_model_module_version": "2.0.0",
       "_model_name": "ProgressStyleModel",
       "_view_count": null,
       "_view_module": "@jupyter-widgets/base",
       "_view_module_version": "2.0.0",
       "_view_name": "StyleView",
       "bar_color": null,
       "description_width": ""
      }
     }
    },
    "version_major": 2,
    "version_minor": 0
   }
  }
 },
 "nbformat": 4,
 "nbformat_minor": 5
}
